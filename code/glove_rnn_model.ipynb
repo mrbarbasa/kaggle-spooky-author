{
 "cells": [
  {
   "cell_type": "markdown",
   "metadata": {},
   "source": [
    "# Spooky Author Identification: GloVe RNN Model"
   ]
  },
  {
   "cell_type": "markdown",
   "metadata": {},
   "source": [
    "## Implementation"
   ]
  },
  {
   "cell_type": "markdown",
   "metadata": {},
   "source": [
    "### Import packages"
   ]
  },
  {
   "cell_type": "code",
   "execution_count": 1,
   "metadata": {},
   "outputs": [],
   "source": [
    "%matplotlib inline\n",
    "%load_ext autoreload\n",
    "%autoreload 2"
   ]
  },
  {
   "cell_type": "code",
   "execution_count": 2,
   "metadata": {},
   "outputs": [],
   "source": [
    "import os\n",
    "\n",
    "os.environ['CUDA_DEVICE_ORDER'] = 'PCI_BUS_ID'\n",
    "os.environ['CUDA_VISIBLE_DEVICES'] = '' # '' to run on CPU, '0' to run on the first GPU"
   ]
  },
  {
   "cell_type": "code",
   "execution_count": 3,
   "metadata": {},
   "outputs": [
    {
     "name": "stdout",
     "output_type": "stream",
     "text": [
      "[nltk_data] Downloading package punkt to /home/marifel/nltk_data...\n",
      "[nltk_data]   Package punkt is already up-to-date!\n",
      "[nltk_data] Downloading package stopwords to\n",
      "[nltk_data]     /home/marifel/nltk_data...\n",
      "[nltk_data]   Package stopwords is already up-to-date!\n",
      "[nltk_data] Downloading package wordnet to /home/marifel/nltk_data...\n",
      "[nltk_data]   Package wordnet is already up-to-date!\n",
      "[nltk_data] Downloading package averaged_perceptron_tagger to\n",
      "[nltk_data]     /home/marifel/nltk_data...\n",
      "[nltk_data]   Package averaged_perceptron_tagger is already up-to-\n",
      "[nltk_data]       date!\n"
     ]
    },
    {
     "data": {
      "text/plain": [
       "True"
      ]
     },
     "execution_count": 3,
     "metadata": {},
     "output_type": "execute_result"
    }
   ],
   "source": [
    "# If you don't already have these packages, run this cell\n",
    "import nltk\n",
    "nltk.download('punkt')\n",
    "nltk.download('stopwords')\n",
    "nltk.download('wordnet')\n",
    "nltk.download('averaged_perceptron_tagger')"
   ]
  },
  {
   "cell_type": "code",
   "execution_count": 4,
   "metadata": {},
   "outputs": [
    {
     "name": "stderr",
     "output_type": "stream",
     "text": [
      "Using TensorFlow backend.\n"
     ]
    }
   ],
   "source": [
    "from packages import *"
   ]
  },
  {
   "cell_type": "code",
   "execution_count": 5,
   "metadata": {},
   "outputs": [],
   "source": [
    "MODEL_NAME = 'glove_rnn'\n",
    "\n",
    "INPUT_DIR = '../input/'\n",
    "TRAIN_FILE_PATH = f'{INPUT_DIR}train.csv'\n",
    "TEST_FILE_PATH = f'{INPUT_DIR}test.csv'\n",
    "SAMPLE_SUBMISSION_FILE_PATH = f'{INPUT_DIR}sample_submission.csv'\n",
    "\n",
    "EMBEDDINGS_DIR = f'{INPUT_DIR}embeddings/'\n",
    "EMBEDDINGS_FILE_PATH = f'{EMBEDDINGS_DIR}glove.840B.300d.txt'\n",
    "\n",
    "OUTPUT_DIR = '../output/'\n",
    "OUTPUT_LOGS_DIR = f'{OUTPUT_DIR}{MODEL_NAME}/logs/'\n",
    "OUTPUT_MODELS_DIR = f'{OUTPUT_DIR}{MODEL_NAME}/models/'\n",
    "OUTPUT_SCORES_DIR = f'{OUTPUT_DIR}{MODEL_NAME}/scores/'\n",
    "OUTPUT_SUBMISSIONS_DIR = f'{OUTPUT_DIR}{MODEL_NAME}/submissions/'\n",
    "OUTPUT_SUMMARIES_DIR = f'{OUTPUT_DIR}{MODEL_NAME}/summaries/'\n",
    "\n",
    "# Create the output directories if they do not exist (the `_` is necessary\n",
    "# in order to create intermediate directories and is itself not created)\n",
    "os.makedirs(os.path.dirname(f'{OUTPUT_LOGS_DIR}_'), exist_ok=True)\n",
    "os.makedirs(os.path.dirname(f'{OUTPUT_MODELS_DIR}_'), exist_ok=True)\n",
    "os.makedirs(os.path.dirname(f'{OUTPUT_SCORES_DIR}_'), exist_ok=True)\n",
    "os.makedirs(os.path.dirname(f'{OUTPUT_SUBMISSIONS_DIR}_'), exist_ok=True)\n",
    "os.makedirs(os.path.dirname(f'{OUTPUT_SUMMARIES_DIR}_'), exist_ok=True)\n",
    "\n",
    "EMBEDDING_DIM = 300\n",
    "MAX_FEATURES = None # The top most common words if an integer; otherwise, all words are used\n",
    "MAX_SEQUENCE_LENGTH = 128\n",
    "N_SPLITS = 10\n",
    "\n",
    "# Fix a random seed for reproducibility\n",
    "SEED = 42\n",
    "np.random.seed(SEED)"
   ]
  },
  {
   "cell_type": "markdown",
   "metadata": {},
   "source": [
    "### Load data"
   ]
  },
  {
   "cell_type": "code",
   "execution_count": 6,
   "metadata": {},
   "outputs": [],
   "source": [
    "train, test, submission = load_data(TRAIN_FILE_PATH, \n",
    "                                    TEST_FILE_PATH, \n",
    "                                    SAMPLE_SUBMISSION_FILE_PATH)"
   ]
  },
  {
   "cell_type": "markdown",
   "metadata": {},
   "source": [
    "### Preprocess text"
   ]
  },
  {
   "cell_type": "code",
   "execution_count": 7,
   "metadata": {},
   "outputs": [
    {
     "name": "stdout",
     "output_type": "stream",
     "text": [
      "Found 27675 unique tokens.\n"
     ]
    }
   ],
   "source": [
    "# Apply text preprocessing on each sentence\n",
    "X_train_sequences = list(train['text'].apply(\n",
    "    lambda x: process_text(x,\n",
    "                           lower=False,\n",
    "                           remove_punc=False,\n",
    "                           normalize_spelling=True,\n",
    "                           stem=False,\n",
    "                           lemmatize=False,\n",
    "                           remove_stopwords=False)).values)\n",
    "X_test_sequences = list(test['text'].apply(\n",
    "    lambda x: process_text(x,\n",
    "                           lower=False,\n",
    "                           remove_punc=False,\n",
    "                           normalize_spelling=True,\n",
    "                           stem=False,\n",
    "                           lemmatize=False,\n",
    "                           remove_stopwords=False)).values)\n",
    "\n",
    "# Tokenize and pad the sentences\n",
    "X_train_tokenized, X_test_tokenized, word_index = compute_word_index(X_train_sequences,\n",
    "                                                                     X_test_sequences,\n",
    "                                                                     MAX_FEATURES,\n",
    "                                                                     MAX_SEQUENCE_LENGTH)"
   ]
  },
  {
   "cell_type": "markdown",
   "metadata": {},
   "source": [
    "### Prepare the embedding layer\n",
    "These results will later be used during stratified k-fold to construct the embedding layer."
   ]
  },
  {
   "cell_type": "code",
   "execution_count": 8,
   "metadata": {
    "scrolled": true
   },
   "outputs": [
    {
     "name": "stderr",
     "output_type": "stream",
     "text": [
      "2196017it [02:06, 17414.05it/s]"
     ]
    },
    {
     "name": "stdout",
     "output_type": "stream",
     "text": [
      "Found 2196016 word vectors.\n"
     ]
    },
    {
     "name": "stderr",
     "output_type": "stream",
     "text": [
      "\n"
     ]
    }
   ],
   "source": [
    "embeddings_index = load_embeddings(EMBEDDINGS_FILE_PATH)"
   ]
  },
  {
   "cell_type": "code",
   "execution_count": 9,
   "metadata": {},
   "outputs": [
    {
     "name": "stdout",
     "output_type": "stream",
     "text": [
      "Number of vocabulary words not found in the pre-trained embeddings: 1634 of 27675 (5.90%)\n"
     ]
    }
   ],
   "source": [
    "embedding_matrix, vocab_size, num_unknown = construct_embedding_matrix(word_index, \n",
    "                                                                       embeddings_index, \n",
    "                                                                       EMBEDDING_DIM,\n",
    "                                                                       MAX_FEATURES)\n",
    "# Here we subtract 1 from the vocab size because 1 has been added to the\n",
    "# actual number of tokens to account for masking in the embedding matrix\n",
    "unknown_word_percentage = (num_unknown / (vocab_size - 1)) * 100\n",
    "unknown_word_lines = ('Number of vocabulary words not found in the pre-trained embeddings: '\n",
    "                      f'{num_unknown} of {vocab_size - 1} '\n",
    "                      f'({unknown_word_percentage:.2f}%)')\n",
    "print(unknown_word_lines)\n",
    "preprocessing_file_path = f'{OUTPUT_LOGS_DIR}preprocessing.log.txt'\n",
    "save_line_to_file(unknown_word_lines, preprocessing_file_path, 'w')"
   ]
  },
  {
   "cell_type": "markdown",
   "metadata": {},
   "source": [
    "### Train the model\n",
    "Each model will be evaluated based on the logloss metric using either 5-fold or 10-fold cross validation; the lower the logloss, the better the model."
   ]
  },
  {
   "cell_type": "code",
   "execution_count": 10,
   "metadata": {},
   "outputs": [
    {
     "name": "stdout",
     "output_type": "stream",
     "text": [
      "Original class labels: ['EAP' 'HPL' 'MWS']\n"
     ]
    }
   ],
   "source": [
    "# The target classes need to be converted to integers so that\n",
    "# EAP --> 0\n",
    "# HPL --> 1\n",
    "# MWS --> 2\n",
    "y_train_integers = integer_encode_classes(train['author'].values)"
   ]
  },
  {
   "cell_type": "code",
   "execution_count": 11,
   "metadata": {},
   "outputs": [],
   "source": [
    "# The target classes need to be one-hot encoded so that\n",
    "# EAP --> 0 --> [1, 0, 0]\n",
    "# HPL --> 1 --> [0, 1, 0]\n",
    "# MWS --> 2 --> [0, 0, 1]\n",
    "y_train_encoded = one_hot_encode_classes(y_train_integers)"
   ]
  },
  {
   "cell_type": "code",
   "execution_count": 14,
   "metadata": {},
   "outputs": [],
   "source": [
    "# Import model-dependent files\n",
    "from models import build_embedding_layer, build_model_callbacks, save_model_summary\n",
    "from models import get_random_rnn_params as get_random_model_params\n",
    "from models import build_rnn_model as build_model"
   ]
  },
  {
   "cell_type": "code",
   "execution_count": 15,
   "metadata": {
    "scrolled": true
   },
   "outputs": [
    {
     "name": "stdout",
     "output_type": "stream",
     "text": [
      "\n",
      "----- Iteration 1 of 1 -----\n",
      "Writing model params to file...\n",
      "\n",
      "----- Fold 1 of 10 -----\n",
      "Train on 17620 samples, validate on 1959 samples\n",
      "Epoch 1/100\n",
      "17620/17620 [==============================] - 5s 302us/step - loss: 0.7312 - acc: 0.6857 - val_loss: 0.5950 - val_acc: 0.7524\n",
      "Epoch 2/100\n",
      "17620/17620 [==============================] - 4s 234us/step - loss: 0.5513 - acc: 0.7751 - val_loss: 0.5618 - val_acc: 0.7596\n",
      "Epoch 3/100\n",
      "17620/17620 [==============================] - 4s 236us/step - loss: 0.4668 - acc: 0.8158 - val_loss: 0.4649 - val_acc: 0.8055\n",
      "Epoch 4/100\n",
      "17620/17620 [==============================] - 4s 240us/step - loss: 0.4033 - acc: 0.8410 - val_loss: 0.4432 - val_acc: 0.8132\n",
      "Epoch 5/100\n",
      "17620/17620 [==============================] - 4s 238us/step - loss: 0.3510 - acc: 0.8658 - val_loss: 0.4314 - val_acc: 0.8188\n",
      "Epoch 6/100\n",
      "17620/17620 [==============================] - 4s 234us/step - loss: 0.2997 - acc: 0.8881 - val_loss: 0.4222 - val_acc: 0.8198\n",
      "Epoch 7/100\n",
      "17620/17620 [==============================] - 4s 236us/step - loss: 0.2595 - acc: 0.9075 - val_loss: 0.4190 - val_acc: 0.8321\n",
      "Epoch 8/100\n",
      "17620/17620 [==============================] - 4s 234us/step - loss: 0.2216 - acc: 0.9245 - val_loss: 0.4245 - val_acc: 0.8336\n",
      "Epoch 9/100\n",
      "17620/17620 [==============================] - 4s 235us/step - loss: 0.1883 - acc: 0.9345 - val_loss: 0.4763 - val_acc: 0.8244\n",
      "Epoch 10/100\n",
      "17620/17620 [==============================] - 4s 234us/step - loss: 0.1593 - acc: 0.9468 - val_loss: 0.4728 - val_acc: 0.8193\n",
      "Epoch 00010: early stopping\n",
      "Making predictions...\n",
      "Writing classification summary to file...\n",
      "\n",
      "----- Fold 2 of 10 -----\n",
      "Train on 17620 samples, validate on 1959 samples\n",
      "Epoch 1/100\n",
      "17620/17620 [==============================] - 6s 315us/step - loss: 0.7442 - acc: 0.6742 - val_loss: 0.6011 - val_acc: 0.7448\n",
      "Epoch 2/100\n",
      "17620/17620 [==============================] - 4s 237us/step - loss: 0.5603 - acc: 0.7694 - val_loss: 0.5005 - val_acc: 0.7999\n",
      "Epoch 3/100\n",
      "17620/17620 [==============================] - 4s 236us/step - loss: 0.4758 - acc: 0.8073 - val_loss: 0.4556 - val_acc: 0.8218\n",
      "Epoch 4/100\n",
      "17620/17620 [==============================] - 4s 239us/step - loss: 0.4064 - acc: 0.8389 - val_loss: 0.4435 - val_acc: 0.8208\n",
      "Epoch 5/100\n",
      "17620/17620 [==============================] - 4s 243us/step - loss: 0.3559 - acc: 0.8648 - val_loss: 0.3986 - val_acc: 0.8448\n",
      "Epoch 6/100\n",
      "17620/17620 [==============================] - 4s 237us/step - loss: 0.3079 - acc: 0.8841 - val_loss: 0.4550 - val_acc: 0.8173\n",
      "Epoch 7/100\n",
      "17620/17620 [==============================] - 4s 235us/step - loss: 0.2659 - acc: 0.9037 - val_loss: 0.3839 - val_acc: 0.8453\n",
      "Epoch 8/100\n",
      "17620/17620 [==============================] - 4s 234us/step - loss: 0.2242 - acc: 0.9193 - val_loss: 0.3825 - val_acc: 0.8520\n",
      "Epoch 9/100\n",
      "17620/17620 [==============================] - 4s 238us/step - loss: 0.1893 - acc: 0.9349 - val_loss: 0.3890 - val_acc: 0.8494\n",
      "Epoch 10/100\n",
      "17620/17620 [==============================] - 4s 240us/step - loss: 0.1584 - acc: 0.9470 - val_loss: 0.3862 - val_acc: 0.8540\n",
      "Epoch 11/100\n",
      "17620/17620 [==============================] - 4s 240us/step - loss: 0.1352 - acc: 0.9561 - val_loss: 0.4153 - val_acc: 0.8494\n",
      "Epoch 00011: early stopping\n",
      "Making predictions...\n",
      "Writing classification summary to file...\n",
      "\n",
      "----- Fold 3 of 10 -----\n",
      "Train on 17620 samples, validate on 1959 samples\n",
      "Epoch 1/100\n",
      "17620/17620 [==============================] - 6s 315us/step - loss: 0.7330 - acc: 0.6806 - val_loss: 0.6007 - val_acc: 0.7514\n",
      "Epoch 2/100\n",
      "17620/17620 [==============================] - 4s 234us/step - loss: 0.5543 - acc: 0.7719 - val_loss: 0.5304 - val_acc: 0.7805\n",
      "Epoch 3/100\n",
      "17620/17620 [==============================] - 4s 237us/step - loss: 0.4699 - acc: 0.8120 - val_loss: 0.5336 - val_acc: 0.7897\n",
      "Epoch 4/100\n",
      "17620/17620 [==============================] - 4s 235us/step - loss: 0.4068 - acc: 0.8393 - val_loss: 0.4907 - val_acc: 0.8004\n",
      "Epoch 5/100\n",
      "17620/17620 [==============================] - 4s 234us/step - loss: 0.3474 - acc: 0.8682 - val_loss: 0.4484 - val_acc: 0.8121\n",
      "Epoch 6/100\n",
      "17620/17620 [==============================] - 4s 236us/step - loss: 0.3078 - acc: 0.8869 - val_loss: 0.4529 - val_acc: 0.8203\n",
      "Epoch 7/100\n",
      "17620/17620 [==============================] - 4s 235us/step - loss: 0.2569 - acc: 0.9043 - val_loss: 0.4543 - val_acc: 0.8224\n",
      "Epoch 8/100\n",
      "17620/17620 [==============================] - 4s 235us/step - loss: 0.2218 - acc: 0.9220 - val_loss: 0.4480 - val_acc: 0.8295\n",
      "Epoch 9/100\n",
      "17620/17620 [==============================] - 4s 238us/step - loss: 0.1824 - acc: 0.9367 - val_loss: 0.4814 - val_acc: 0.8259\n",
      "Epoch 10/100\n",
      "17620/17620 [==============================] - 4s 235us/step - loss: 0.1537 - acc: 0.9472 - val_loss: 0.4635 - val_acc: 0.8239\n",
      "Epoch 11/100\n",
      "17620/17620 [==============================] - 4s 235us/step - loss: 0.1320 - acc: 0.9561 - val_loss: 0.4818 - val_acc: 0.8259\n",
      "Epoch 00011: early stopping\n",
      "Making predictions...\n",
      "Writing classification summary to file...\n",
      "\n",
      "----- Fold 4 of 10 -----\n",
      "Train on 17620 samples, validate on 1959 samples\n",
      "Epoch 1/100\n",
      "17620/17620 [==============================] - 6s 322us/step - loss: 0.7404 - acc: 0.6804 - val_loss: 0.5817 - val_acc: 0.7580\n",
      "Epoch 2/100\n",
      "17620/17620 [==============================] - 4s 235us/step - loss: 0.5629 - acc: 0.7683 - val_loss: 0.5117 - val_acc: 0.7805\n",
      "Epoch 3/100\n",
      "17620/17620 [==============================] - 4s 238us/step - loss: 0.4766 - acc: 0.8085 - val_loss: 0.4627 - val_acc: 0.8050\n",
      "Epoch 4/100\n",
      "17620/17620 [==============================] - 4s 234us/step - loss: 0.4065 - acc: 0.8407 - val_loss: 0.4205 - val_acc: 0.8367\n",
      "Epoch 5/100\n",
      "17620/17620 [==============================] - 4s 234us/step - loss: 0.3547 - acc: 0.8642 - val_loss: 0.4155 - val_acc: 0.8321\n",
      "Epoch 6/100\n",
      "17620/17620 [==============================] - 4s 234us/step - loss: 0.3006 - acc: 0.8894 - val_loss: 0.3819 - val_acc: 0.8489\n",
      "Epoch 7/100\n",
      "17620/17620 [==============================] - 4s 236us/step - loss: 0.2606 - acc: 0.9014 - val_loss: 0.3800 - val_acc: 0.8479\n",
      "Epoch 8/100\n",
      "17620/17620 [==============================] - 4s 233us/step - loss: 0.2228 - acc: 0.9205 - val_loss: 0.4406 - val_acc: 0.8239\n",
      "Epoch 9/100\n",
      "17620/17620 [==============================] - 4s 233us/step - loss: 0.1882 - acc: 0.9379 - val_loss: 0.3728 - val_acc: 0.8509\n",
      "Epoch 10/100\n",
      "17620/17620 [==============================] - 4s 238us/step - loss: 0.1593 - acc: 0.9481 - val_loss: 0.3825 - val_acc: 0.8479\n",
      "Epoch 11/100\n",
      "17620/17620 [==============================] - 4s 234us/step - loss: 0.1353 - acc: 0.9568 - val_loss: 0.3990 - val_acc: 0.8464\n",
      "Epoch 12/100\n",
      "17620/17620 [==============================] - 4s 235us/step - loss: 0.1140 - acc: 0.9648 - val_loss: 0.4328 - val_acc: 0.8407\n",
      "Epoch 00012: early stopping\n",
      "Making predictions...\n",
      "Writing classification summary to file...\n",
      "\n",
      "----- Fold 5 of 10 -----\n",
      "Train on 17621 samples, validate on 1958 samples\n",
      "Epoch 1/100\n",
      "17621/17621 [==============================] - 6s 336us/step - loss: 0.7420 - acc: 0.6749 - val_loss: 0.5731 - val_acc: 0.7697\n",
      "Epoch 2/100\n",
      "17621/17621 [==============================] - 4s 238us/step - loss: 0.5627 - acc: 0.7685 - val_loss: 0.4993 - val_acc: 0.7972\n",
      "Epoch 3/100\n",
      "17621/17621 [==============================] - 4s 233us/step - loss: 0.4778 - acc: 0.8046 - val_loss: 0.4813 - val_acc: 0.8023\n",
      "Epoch 4/100\n",
      "17621/17621 [==============================] - 4s 239us/step - loss: 0.4088 - acc: 0.8396 - val_loss: 0.4276 - val_acc: 0.8294\n",
      "Epoch 5/100\n",
      "17621/17621 [==============================] - 4s 238us/step - loss: 0.3545 - acc: 0.8635 - val_loss: 0.3985 - val_acc: 0.8412\n",
      "Epoch 6/100\n",
      "17621/17621 [==============================] - 4s 238us/step - loss: 0.3029 - acc: 0.8849 - val_loss: 0.3977 - val_acc: 0.8437\n",
      "Epoch 7/100\n",
      "17621/17621 [==============================] - 4s 237us/step - loss: 0.2669 - acc: 0.8998 - val_loss: 0.4003 - val_acc: 0.8488\n",
      "Epoch 8/100\n",
      "17621/17621 [==============================] - 4s 238us/step - loss: 0.2217 - acc: 0.9204 - val_loss: 0.3869 - val_acc: 0.8590\n",
      "Epoch 9/100\n",
      "17621/17621 [==============================] - 4s 240us/step - loss: 0.1901 - acc: 0.9342 - val_loss: 0.4009 - val_acc: 0.8473\n",
      "Epoch 10/100\n"
     ]
    },
    {
     "name": "stdout",
     "output_type": "stream",
     "text": [
      "17621/17621 [==============================] - 4s 239us/step - loss: 0.1629 - acc: 0.9448 - val_loss: 0.4097 - val_acc: 0.8473\n",
      "Epoch 11/100\n",
      "17621/17621 [==============================] - 4s 238us/step - loss: 0.1358 - acc: 0.9550 - val_loss: 0.3967 - val_acc: 0.8514\n",
      "Epoch 00011: early stopping\n",
      "Making predictions...\n",
      "Writing classification summary to file...\n",
      "\n",
      "----- Fold 6 of 10 -----\n",
      "Train on 17622 samples, validate on 1957 samples\n",
      "Epoch 1/100\n",
      "17622/17622 [==============================] - 6s 350us/step - loss: 0.7315 - acc: 0.6843 - val_loss: 0.5739 - val_acc: 0.7660\n",
      "Epoch 2/100\n",
      "17622/17622 [==============================] - 4s 239us/step - loss: 0.5527 - acc: 0.7720 - val_loss: 0.5183 - val_acc: 0.7890\n",
      "Epoch 3/100\n",
      "17622/17622 [==============================] - 4s 240us/step - loss: 0.4659 - acc: 0.8145 - val_loss: 0.5226 - val_acc: 0.7854\n",
      "Epoch 4/100\n",
      "17622/17622 [==============================] - 4s 244us/step - loss: 0.3996 - acc: 0.8405 - val_loss: 0.4841 - val_acc: 0.8007\n",
      "Epoch 5/100\n",
      "17622/17622 [==============================] - 4s 237us/step - loss: 0.3503 - acc: 0.8658 - val_loss: 0.4451 - val_acc: 0.8258\n",
      "Epoch 6/100\n",
      "17622/17622 [==============================] - 4s 239us/step - loss: 0.2971 - acc: 0.8884 - val_loss: 0.4294 - val_acc: 0.8334\n",
      "Epoch 7/100\n",
      "17622/17622 [==============================] - 4s 238us/step - loss: 0.2512 - acc: 0.9090 - val_loss: 0.4600 - val_acc: 0.8273\n",
      "Epoch 8/100\n",
      "17622/17622 [==============================] - 4s 235us/step - loss: 0.2219 - acc: 0.9227 - val_loss: 0.4366 - val_acc: 0.8329\n",
      "Epoch 9/100\n",
      "17622/17622 [==============================] - 4s 239us/step - loss: 0.1825 - acc: 0.9370 - val_loss: 0.4540 - val_acc: 0.8263\n",
      "Epoch 00009: early stopping\n",
      "Making predictions...\n",
      "Writing classification summary to file...\n",
      "\n",
      "----- Fold 7 of 10 -----\n",
      "Train on 17622 samples, validate on 1957 samples\n",
      "Epoch 1/100\n",
      "17622/17622 [==============================] - 6s 346us/step - loss: 0.7280 - acc: 0.6855 - val_loss: 0.5967 - val_acc: 0.7501\n",
      "Epoch 2/100\n",
      "17622/17622 [==============================] - 4s 239us/step - loss: 0.5494 - acc: 0.7739 - val_loss: 0.5327 - val_acc: 0.7849\n",
      "Epoch 3/100\n",
      "17622/17622 [==============================] - 4s 240us/step - loss: 0.4720 - acc: 0.8089 - val_loss: 0.5081 - val_acc: 0.8017\n",
      "Epoch 4/100\n",
      "17622/17622 [==============================] - 4s 237us/step - loss: 0.3985 - acc: 0.8458 - val_loss: 0.4596 - val_acc: 0.8268\n",
      "Epoch 5/100\n",
      "17622/17622 [==============================] - 4s 241us/step - loss: 0.3448 - acc: 0.8684 - val_loss: 0.4434 - val_acc: 0.8298\n",
      "Epoch 6/100\n",
      "17622/17622 [==============================] - 4s 242us/step - loss: 0.3049 - acc: 0.8845 - val_loss: 0.4307 - val_acc: 0.8298\n",
      "Epoch 7/100\n",
      "17622/17622 [==============================] - 4s 242us/step - loss: 0.2567 - acc: 0.9084 - val_loss: 0.4768 - val_acc: 0.8191\n",
      "Epoch 8/100\n",
      "17622/17622 [==============================] - 4s 235us/step - loss: 0.2224 - acc: 0.9208 - val_loss: 0.4252 - val_acc: 0.8324\n",
      "Epoch 9/100\n",
      "17622/17622 [==============================] - 4s 240us/step - loss: 0.1831 - acc: 0.9374 - val_loss: 0.4373 - val_acc: 0.8385\n",
      "Epoch 10/100\n",
      "17622/17622 [==============================] - 4s 239us/step - loss: 0.1550 - acc: 0.9489 - val_loss: 0.4603 - val_acc: 0.8298\n",
      "Epoch 11/100\n",
      "17622/17622 [==============================] - 4s 245us/step - loss: 0.1284 - acc: 0.9594 - val_loss: 0.4733 - val_acc: 0.8258\n",
      "Epoch 00011: early stopping\n",
      "Making predictions...\n",
      "Writing classification summary to file...\n",
      "\n",
      "----- Fold 8 of 10 -----\n",
      "Train on 17622 samples, validate on 1957 samples\n",
      "Epoch 1/100\n",
      "17622/17622 [==============================] - 6s 365us/step - loss: 0.7385 - acc: 0.6776 - val_loss: 0.5744 - val_acc: 0.7639\n",
      "Epoch 2/100\n",
      "17622/17622 [==============================] - 4s 240us/step - loss: 0.5503 - acc: 0.7770 - val_loss: 0.5070 - val_acc: 0.7885\n",
      "Epoch 3/100\n",
      "17622/17622 [==============================] - 4s 241us/step - loss: 0.4713 - acc: 0.8114 - val_loss: 0.4518 - val_acc: 0.8145\n",
      "Epoch 4/100\n",
      "17622/17622 [==============================] - 4s 241us/step - loss: 0.4069 - acc: 0.8429 - val_loss: 0.4257 - val_acc: 0.8232\n",
      "Epoch 5/100\n",
      "17622/17622 [==============================] - 4s 243us/step - loss: 0.3550 - acc: 0.8631 - val_loss: 0.4076 - val_acc: 0.8360\n",
      "Epoch 6/100\n",
      "17622/17622 [==============================] - 4s 243us/step - loss: 0.2989 - acc: 0.8869 - val_loss: 0.3952 - val_acc: 0.8401\n",
      "Epoch 7/100\n",
      "17622/17622 [==============================] - 4s 240us/step - loss: 0.2589 - acc: 0.9063 - val_loss: 0.4027 - val_acc: 0.8390\n",
      "Epoch 8/100\n",
      "17622/17622 [==============================] - 4s 238us/step - loss: 0.2187 - acc: 0.9220 - val_loss: 0.3789 - val_acc: 0.8406\n",
      "Epoch 9/100\n",
      "17622/17622 [==============================] - 4s 241us/step - loss: 0.1887 - acc: 0.9344 - val_loss: 0.3998 - val_acc: 0.8554\n",
      "Epoch 10/100\n",
      "17622/17622 [==============================] - 4s 242us/step - loss: 0.1552 - acc: 0.9490 - val_loss: 0.3764 - val_acc: 0.8493\n",
      "Epoch 11/100\n",
      "17622/17622 [==============================] - 4s 241us/step - loss: 0.1296 - acc: 0.9589 - val_loss: 0.3845 - val_acc: 0.8544\n",
      "Epoch 12/100\n",
      "17622/17622 [==============================] - 4s 239us/step - loss: 0.1124 - acc: 0.9637 - val_loss: 0.4387 - val_acc: 0.8513\n",
      "Epoch 13/100\n",
      "17622/17622 [==============================] - 4s 241us/step - loss: 0.0994 - acc: 0.9682 - val_loss: 0.4103 - val_acc: 0.8600\n",
      "Epoch 00013: early stopping\n",
      "Making predictions...\n",
      "Writing classification summary to file...\n",
      "\n",
      "----- Fold 9 of 10 -----\n",
      "Train on 17622 samples, validate on 1957 samples\n",
      "Epoch 1/100\n",
      "17622/17622 [==============================] - 6s 358us/step - loss: 0.7348 - acc: 0.6807 - val_loss: 0.6066 - val_acc: 0.7578\n",
      "Epoch 2/100\n",
      "17622/17622 [==============================] - 4s 240us/step - loss: 0.5519 - acc: 0.7745 - val_loss: 0.5298 - val_acc: 0.7890\n",
      "Epoch 3/100\n",
      "17622/17622 [==============================] - 4s 236us/step - loss: 0.4669 - acc: 0.8145 - val_loss: 0.4704 - val_acc: 0.8094\n",
      "Epoch 4/100\n",
      "17622/17622 [==============================] - 4s 238us/step - loss: 0.4044 - acc: 0.8405 - val_loss: 0.4639 - val_acc: 0.8186\n",
      "Epoch 5/100\n",
      "17622/17622 [==============================] - 4s 239us/step - loss: 0.3465 - acc: 0.8683 - val_loss: 0.4279 - val_acc: 0.8314\n",
      "Epoch 6/100\n",
      "17622/17622 [==============================] - 4s 236us/step - loss: 0.2964 - acc: 0.8885 - val_loss: 0.4479 - val_acc: 0.8304\n",
      "Epoch 7/100\n",
      "17622/17622 [==============================] - 4s 241us/step - loss: 0.2543 - acc: 0.9053 - val_loss: 0.4138 - val_acc: 0.8411\n",
      "Epoch 8/100\n",
      "17622/17622 [==============================] - 4s 241us/step - loss: 0.2176 - acc: 0.9220 - val_loss: 0.4162 - val_acc: 0.8421\n",
      "Epoch 9/100\n",
      "17622/17622 [==============================] - 4s 241us/step - loss: 0.1810 - acc: 0.9375 - val_loss: 0.5094 - val_acc: 0.8181\n",
      "Epoch 10/100\n",
      "17622/17622 [==============================] - 4s 238us/step - loss: 0.1526 - acc: 0.9505 - val_loss: 0.4571 - val_acc: 0.8360\n",
      "Epoch 00010: early stopping\n",
      "Making predictions...\n",
      "Writing classification summary to file...\n",
      "\n",
      "----- Fold 10 of 10 -----\n",
      "Train on 17622 samples, validate on 1957 samples\n",
      "Epoch 1/100\n",
      "17622/17622 [==============================] - 6s 366us/step - loss: 0.7456 - acc: 0.6773 - val_loss: 0.5654 - val_acc: 0.7762\n",
      "Epoch 2/100\n",
      "17622/17622 [==============================] - 4s 245us/step - loss: 0.5584 - acc: 0.7735 - val_loss: 0.5509 - val_acc: 0.7680\n",
      "Epoch 3/100\n",
      "17622/17622 [==============================] - 4s 243us/step - loss: 0.4786 - acc: 0.8088 - val_loss: 0.4820 - val_acc: 0.8012\n",
      "Epoch 4/100\n",
      "17622/17622 [==============================] - 4s 244us/step - loss: 0.4078 - acc: 0.8413 - val_loss: 0.4325 - val_acc: 0.8217\n",
      "Epoch 5/100\n",
      "17622/17622 [==============================] - 4s 245us/step - loss: 0.3490 - acc: 0.8653 - val_loss: 0.4266 - val_acc: 0.8304\n",
      "Epoch 6/100\n",
      "17622/17622 [==============================] - 4s 241us/step - loss: 0.3021 - acc: 0.8877 - val_loss: 0.4197 - val_acc: 0.8329\n",
      "Epoch 7/100\n",
      "17622/17622 [==============================] - 4s 242us/step - loss: 0.2565 - acc: 0.9055 - val_loss: 0.4120 - val_acc: 0.8380\n",
      "Epoch 8/100\n",
      "17622/17622 [==============================] - 4s 244us/step - loss: 0.2219 - acc: 0.9208 - val_loss: 0.4143 - val_acc: 0.8365\n"
     ]
    },
    {
     "name": "stdout",
     "output_type": "stream",
     "text": [
      "Epoch 9/100\n",
      "17622/17622 [==============================] - 4s 240us/step - loss: 0.1868 - acc: 0.9361 - val_loss: 0.4138 - val_acc: 0.8385\n",
      "Epoch 10/100\n",
      "17622/17622 [==============================] - 4s 239us/step - loss: 0.1534 - acc: 0.9493 - val_loss: 0.4234 - val_acc: 0.8390\n",
      "Epoch 00010: early stopping\n",
      "Making predictions...\n",
      "Writing classification summary to file...\n",
      "Writing CV results and runtime summary to file...\n"
     ]
    }
   ],
   "source": [
    "# Random search\n",
    "\n",
    "training_num_epochs = 100 # With early stopping in place\n",
    "num_random_search_iter = 10 # The number of iterations\n",
    "offset_iter = 0 # How many iterations to offset the nth iteration by\n",
    "\n",
    "# Calculate the k-fold splits (same splits across all iterations)\n",
    "kfold = StratifiedKFold(n_splits=N_SPLITS, shuffle=True, random_state=SEED)\n",
    "\n",
    "# Randomly search for the best model using 10-fold cross validation for each iteration.\n",
    "# Note: Before re-running this cell, you might want to delete the existing files in the\n",
    "# `OUTPUT_SUMMARIES_DIR` folder, since the files within might not get overwritten.\n",
    "for nth_iter in range(1+offset_iter, num_random_search_iter+1+offset_iter):\n",
    "    \n",
    "    # Start the training timer for the current iteration\n",
    "    training_start = time()\n",
    "    \n",
    "    nth_iter_str = f'iter_{nth_iter:02d}'\n",
    "    print(f'\\n----- Iteration {nth_iter} of {num_random_search_iter+offset_iter} -----')\n",
    "\n",
    "    # Metrics to monitor and record\n",
    "    monitored_metric = 'val_loss'\n",
    "    other_metrics = ['val_acc', 'loss', 'acc']\n",
    "    all_metrics = ['val_loss', 'val_acc', 'loss', 'acc']\n",
    "    \n",
    "    # The number of training epochs that have passed at which\n",
    "    # the best validation loss is recorded\n",
    "    best_score_num_epochs = []\n",
    "    \n",
    "    # The metric scores recorded from the epoch number at which\n",
    "    # the best validation loss is recorded.\n",
    "    # Note that each list should be `N_SPLITS` in length.\n",
    "    best_scores_per_fold = { 'val_loss': [], 'val_acc': [], 'loss': [], 'acc': [] }\n",
    "    \n",
    "    # Runtime records\n",
    "    pred_runtimes = []\n",
    "    pred_runtime_strs = []\n",
    "\n",
    "    # Retrieve the random model params for the current iteration\n",
    "    random_model_params = get_random_model_params()\n",
    "    batch_size = random_model_params['batch_size']\n",
    "    \n",
    "    print('Writing model params to file...')\n",
    "    params_file_path = f'{OUTPUT_MODELS_DIR}{nth_iter_str}.params.json'\n",
    "    save_dictionary_to_file(random_model_params, params_file_path)    \n",
    "    \n",
    "    # The model summary, improvement log, and classification summary file path\n",
    "    log_file_path = f'{OUTPUT_LOGS_DIR}{nth_iter_str}.log.txt'\n",
    "    \n",
    "    # Prepare the generator\n",
    "    folds = kfold.split(X_train_tokenized, y_train_integers)\n",
    "    \n",
    "    # Begin 10-fold cross validation for the current set of random model params\n",
    "    for fold, (train_indices, valid_indices) in enumerate(folds):\n",
    "        nth_fold = fold + 1\n",
    "        nth_fold_str = f'fold_{nth_fold:02d}'\n",
    "        print(f'\\n----- Fold {nth_fold} of {N_SPLITS} -----')\n",
    "\n",
    "        # Prepare the splits of data\n",
    "        X_train, y_train = X_train_tokenized[train_indices], y_train_encoded[train_indices]\n",
    "        X_valid, y_valid = X_train_tokenized[valid_indices], y_train_encoded[valid_indices]\n",
    "\n",
    "        # Build the embedding layer\n",
    "        embedding_layer = build_embedding_layer(embedding_matrix, \n",
    "                                                vocab_size, \n",
    "                                                EMBEDDING_DIM, \n",
    "                                                MAX_SEQUENCE_LENGTH)\n",
    "        # Construct model callbacks, save the best models, and log metrics to file\n",
    "        logger_file_path = f'{OUTPUT_SCORES_DIR}{nth_iter_str}.{nth_fold_str}.scores.csv'\n",
    "        model_callbacks = build_model_callbacks(monitored_metric,\n",
    "                                                'min',\n",
    "                                                log_file_path, # progress\n",
    "                                                None, # model\n",
    "                                                logger_file_path, # logger\n",
    "                                                nth_fold,\n",
    "                                                N_SPLITS)\n",
    "        # Build the model\n",
    "        model = build_model(embedding_layer, MAX_SEQUENCE_LENGTH, random_model_params)    \n",
    "        # Save the model summary to file on the first fold only\n",
    "        # since the models are identical across folds\n",
    "        if nth_fold == 1:\n",
    "            save_model_summary(model, log_file_path)\n",
    "        \n",
    "        # Train the model\n",
    "        history = model.fit(X_train,\n",
    "                            y_train,\n",
    "                            batch_size=batch_size,\n",
    "                            epochs=training_num_epochs,\n",
    "                            verbose=1,\n",
    "                            callbacks=model_callbacks,\n",
    "                            validation_data=[X_valid, y_valid],\n",
    "                            shuffle=True)\n",
    "\n",
    "        # Save the scores for later evaluation\n",
    "        monitored_metric_fold_scores = history.history[monitored_metric]\n",
    "        # Save only the best validation loss\n",
    "        epoch_index = np.argmin(monitored_metric_fold_scores)\n",
    "        best_score_num_epochs.append(int(epoch_index + 1))\n",
    "        best_monitored_metric_score = monitored_metric_fold_scores[epoch_index]\n",
    "        best_scores_per_fold[monitored_metric].append(best_monitored_metric_score)\n",
    "\n",
    "        for metric in other_metrics:\n",
    "            other_metric_fold_scores = history.history[metric]\n",
    "            # Save only the corresponding current metric score for the\n",
    "            # best validation loss epoch\n",
    "            same_epoch_score = other_metric_fold_scores[epoch_index]\n",
    "            best_scores_per_fold[metric].append(same_epoch_score)\n",
    "\n",
    "        # Construct a classification report and confusion matrix\n",
    "        print('Making predictions...')\n",
    "        pred_start = time()\n",
    "        y_pred = model.predict(X_valid, batch_size=batch_size, verbose=0)\n",
    "        pred_elapsed, pred_elapsed_str = get_time_elapsed(pred_start)\n",
    "        pred_runtimes.append(pred_elapsed)\n",
    "        pred_runtime_strs.append(pred_elapsed_str)\n",
    "\n",
    "        print('Writing classification summary to file...')\n",
    "        save_classification_summary(y_valid,\n",
    "                                    y_pred,\n",
    "                                    [0, 1, 2],\n",
    "                                    ['EAP', 'HPL', 'MWS'],\n",
    "                                    log_file_path,\n",
    "                                    mode='a')\n",
    "\n",
    "    print('Writing CV results and runtime summary to file...')\n",
    "    # Calculate the mean and standard deviation across all folds' best scores\n",
    "    summary_lines = 'CV Results Summary:'\n",
    "    for metric in all_metrics:\n",
    "        mean = np.mean(best_scores_per_fold[metric])\n",
    "        std = np.std(best_scores_per_fold[metric])\n",
    "        summary_lines += f'\\n- {metric} mean and std: {mean:.5f} (+/- {std:.5f})'\n",
    "    monitored_mean = np.mean(best_scores_per_fold[monitored_metric])\n",
    "    summary_file_path = (f'{OUTPUT_SUMMARIES_DIR}{monitored_mean:.5f}.'\n",
    "                         f'{nth_iter_str}.summary.txt')\n",
    "    \n",
    "    # Calculate the suggested number of epochs to train for\n",
    "    # using the entire training dataset\n",
    "    final_num_epochs = np.mean(best_score_num_epochs)\n",
    "    # We take the ceiling because it's better to train for\n",
    "    # a little longer than to underfit\n",
    "    final_num_epochs = int(np.ceil(final_num_epochs))\n",
    "    summary_lines += f'\\n\\nfinal_num_epochs = {final_num_epochs}\\n\\n'\n",
    "    \n",
    "    # Save the best epochs per fold\n",
    "    best_epochs_str = json.dumps(best_score_num_epochs)\n",
    "    summary_lines += f'best_score_num_epochs = {best_epochs_str}\\n\\n'\n",
    "    \n",
    "    # Save the best scores per fold\n",
    "    best_scores_str = json.dumps(best_scores_per_fold, indent=4)\n",
    "    summary_lines += f'best_scores_per_fold = {best_scores_str}\\n\\n'\n",
    "    \n",
    "    # Calculate the total and average runtimes across all folds\n",
    "    training_elapsed, training_elapsed_str = get_time_elapsed(training_start)\n",
    "    training_fold_elapsed_str = format_time_str(training_elapsed / N_SPLITS)\n",
    "    pred_elapsed = np.sum(pred_runtimes)\n",
    "    pred_elapsed_str = format_time_str(pred_elapsed)\n",
    "    pred_fold_elapsed_str = format_time_str(pred_elapsed / N_SPLITS)\n",
    "    summary_lines += (f'Total stratified {N_SPLITS}-fold loop runtime: '\n",
    "                      f'{training_elapsed_str}\\n'\n",
    "                      f'Average training runtime per fold: '\n",
    "                      f'{training_fold_elapsed_str}\\n\\n'\n",
    "                      f'Total stratified {N_SPLITS}-fold prediction runtime: '\n",
    "                      f'{pred_elapsed_str}\\n'\n",
    "                      f'Average prediction runtime per fold: '\n",
    "                      f'{pred_fold_elapsed_str}\\n')\n",
    "    for f, time_str in enumerate(pred_runtime_strs):\n",
    "        summary_lines += f'\\nFold {f + 1} prediction runtime: {time_str}'\n",
    "    \n",
    "    save_line_to_file(summary_lines, summary_file_path, 'w')\n",
    "    "
   ]
  },
  {
   "cell_type": "markdown",
   "metadata": {},
   "source": [
    "### Evaluate the results"
   ]
  },
  {
   "cell_type": "code",
   "execution_count": 16,
   "metadata": {},
   "outputs": [],
   "source": [
    "# Set these variables to an existing output file\n",
    "nth_iter = 1\n",
    "nth_fold = 7\n",
    "iter_fold_scores = pd.read_csv(f'{OUTPUT_SCORES_DIR}iter_{nth_iter:02d}.'\n",
    "                               f'fold_{nth_fold:02d}.scores.csv')"
   ]
  },
  {
   "cell_type": "code",
   "execution_count": 17,
   "metadata": {},
   "outputs": [
    {
     "data": {
      "image/png": "[encoded data removed]",
      "text/plain": [
       "<Figure size 432x288 with 1 Axes>"
      ]
     },
     "metadata": {},
     "output_type": "display_data"
    }
   ],
   "source": [
    "# Pass in a metric (without the `val_` prefix) and a fold index to show\n",
    "# the training and validation error curves over the number of epochs\n",
    "display_metric_vs_epochs_plot(iter_fold_scores, 'loss', nth_iter, nth_fold)"
   ]
  },
  {
   "cell_type": "code",
   "execution_count": 18,
   "metadata": {},
   "outputs": [
    {
     "data": {
      "image/png": "[encoded data removed]",
      "text/plain": [
       "<Figure size 432x288 with 1 Axes>"
      ]
     },
     "metadata": {},
     "output_type": "display_data"
    }
   ],
   "source": [
    "display_metric_vs_epochs_plot(iter_fold_scores, 'acc', nth_iter, nth_fold)"
   ]
  },
  {
   "cell_type": "markdown",
   "metadata": {},
   "source": [
    "### Make predictions on the test data\n",
    "In order to make predictions on the Kaggle-provided unlabeled test data, we will need to submit our predictions to Kaggle. It would be best to train on the entire training set; this means that, this time, we won't provide a validation set to the Keras model.\n",
    "\n",
    "How do we know how many epochs to train for? To figure this out, we can use the results from the cross validation phase. Since we have recorded the number of epochs that each fold took to train the model before stopping, we can take the average number of epochs across all folds and use that as the number of epochs to train our final model."
   ]
  },
  {
   "cell_type": "markdown",
   "metadata": {},
   "source": [
    "#### Train the model"
   ]
  },
  {
   "cell_type": "code",
   "execution_count": 69,
   "metadata": {},
   "outputs": [],
   "source": [
    "# Set this to the best number of epochs based on the evaluation phase\n",
    "final_num_epochs = 6"
   ]
  },
  {
   "cell_type": "code",
   "execution_count": 76,
   "metadata": {},
   "outputs": [
    {
     "name": "stdout",
     "output_type": "stream",
     "text": [
      "{\n",
      "    \"batch_size\": 64,\n",
      "    \"use_gru_layer\": true,\n",
      "    \"use_global_max_pooling_layer\": true,\n",
      "    \"units\": 300,\n",
      "    \"spatial_dropout_rate\": 0.2,\n",
      "    \"optimizer\": \"adam\",\n",
      "    \"num_rnn_stacks\": 1\n",
      "}\n"
     ]
    }
   ],
   "source": [
    "# Select the best model params based on the evaluation phase\n",
    "best_iter = 58\n",
    "final_model_params = load_dictionary_from_file(f'{OUTPUT_MODELS_DIR}'\n",
    "                                               f'iter_{best_iter:02d}.params.json')\n",
    "final_batch_size = final_model_params['batch_size']\n",
    "print(json.dumps(final_model_params, indent=4))"
   ]
  },
  {
   "cell_type": "code",
   "execution_count": 77,
   "metadata": {},
   "outputs": [],
   "source": [
    "# Build the embedding layer\n",
    "embedding_layer = build_embedding_layer(embedding_matrix, \n",
    "                                        vocab_size, \n",
    "                                        EMBEDDING_DIM, \n",
    "                                        MAX_SEQUENCE_LENGTH)\n",
    "# Build the model with the best model params\n",
    "model = build_model(embedding_layer, MAX_SEQUENCE_LENGTH, final_model_params)\n",
    "# Save the model architecture, weights, and optimizer state to file\n",
    "model.save(f'{OUTPUT_MODELS_DIR}final.iter_{best_iter:02d}.model.hdf5')\n",
    "# Save the model summary to file\n",
    "save_model_summary(model,\n",
    "                   f'{OUTPUT_SUMMARIES_DIR}final.iter_{best_iter:02d}.model_summary.txt')"
   ]
  },
  {
   "cell_type": "code",
   "execution_count": 78,
   "metadata": {},
   "outputs": [
    {
     "name": "stdout",
     "output_type": "stream",
     "text": [
      "Epoch 1/6\n",
      "19579/19579 [==============================] - 6s 331us/step - loss: 0.6939 - acc: 0.7001\n",
      "Epoch 2/6\n",
      "19579/19579 [==============================] - 6s 306us/step - loss: 0.4952 - acc: 0.8009\n",
      "Epoch 3/6\n",
      "19579/19579 [==============================] - 6s 303us/step - loss: 0.3915 - acc: 0.8467\n",
      "Epoch 4/6\n",
      "19579/19579 [==============================] - 6s 303us/step - loss: 0.3114 - acc: 0.8868\n",
      "Epoch 5/6\n",
      "19579/19579 [==============================] - 6s 304us/step - loss: 0.2430 - acc: 0.9142\n",
      "Epoch 6/6\n",
      "19579/19579 [==============================] - 6s 305us/step - loss: 0.1907 - acc: 0.9362\n"
     ]
    }
   ],
   "source": [
    "# Train the model\n",
    "history = model.fit(X_train_tokenized,\n",
    "                    y_train_encoded,\n",
    "                    batch_size=final_batch_size,\n",
    "                    epochs=final_num_epochs,\n",
    "                    verbose=1,\n",
    "                    shuffle=True)"
   ]
  },
  {
   "cell_type": "markdown",
   "metadata": {},
   "source": [
    "#### Make predictions on the test data"
   ]
  },
  {
   "cell_type": "code",
   "execution_count": 79,
   "metadata": {},
   "outputs": [
    {
     "name": "stdout",
     "output_type": "stream",
     "text": [
      "8392/8392 [==============================] - 1s 129us/step\n"
     ]
    }
   ],
   "source": [
    "predictions = model.predict(X_test_tokenized, batch_size=final_batch_size, verbose=1)"
   ]
  },
  {
   "cell_type": "code",
   "execution_count": 80,
   "metadata": {},
   "outputs": [
    {
     "data": {
      "text/plain": [
       "array([[2.1481910e-03, 2.4586748e-03, 9.9539316e-01],\n",
       "       [9.9939013e-01, 2.1623643e-04, 3.9367584e-04],\n",
       "       [8.5466972e-04, 9.9823111e-01, 9.1420597e-04]], dtype=float32)"
      ]
     },
     "execution_count": 80,
     "metadata": {},
     "output_type": "execute_result"
    }
   ],
   "source": [
    "# Check the final submission values\n",
    "predictions[0:3]"
   ]
  },
  {
   "cell_type": "markdown",
   "metadata": {},
   "source": [
    "#### Create a submission CSV"
   ]
  },
  {
   "cell_type": "code",
   "execution_count": 81,
   "metadata": {},
   "outputs": [],
   "source": [
    "submission[['EAP', 'HPL', 'MWS']] = predictions\n",
    "submission_num = 47\n",
    "submission_description = 'glove_rnn_iter_58_first'\n",
    "submission_filename = f'{submission_num:03d}_{submission_description}.csv'\n",
    "submission_file_path = f'{OUTPUT_SUBMISSIONS_DIR}{submission_filename}'\n",
    "submission.to_csv(submission_file_path, index=False)"
   ]
  },
  {
   "cell_type": "markdown",
   "metadata": {},
   "source": [
    "### Evaluate the mean logloss of the Kaggle submission\n",
    "After submitting to Kaggle, we can calculate the mean logloss across the entire test dataset as follows:\n",
    "```\n",
    "Given:\n",
    "    n_test = 8392\n",
    "    %_private = 0.7\n",
    "    %_public = 0.3\n",
    "    private_logloss # Retrieve from Kaggle after submission\n",
    "    public_logloss # Retrieve from Kaggle after submission\n",
    "    \n",
    "Mean logloss = (private_logloss * n_private + public_logloss * n_public) / n_test\n",
    "             = (private_logloss * (%_private * n_test)\n",
    "                + public_logloss * (%_public * n_test))\n",
    "               / n_test\n",
    "               \n",
    "Where n_test = n_private + n_public\n",
    "```"
   ]
  },
  {
   "cell_type": "markdown",
   "metadata": {},
   "source": [
    "#### Benchmark Model\n",
    "Our benchmark model is the sample submission file provided by Kaggle, in which the probability distribution across the three authors is the exact same per sample, such that their probabilities are proportional to the number of samples of said author's work in the training dataset (EAP at about 40%, HPL at about 29%, and MWS at about 31%)."
   ]
  },
  {
   "cell_type": "code",
   "execution_count": 20,
   "metadata": {},
   "outputs": [
    {
     "name": "stdout",
     "output_type": "stream",
     "text": [
      "Total number of samples: 8392\n",
      "Number of private leaderboard samples: 5874.4\n",
      "Number of public leaderboard samples: 2517.6\n"
     ]
    }
   ],
   "source": [
    "n_test = len(submission)\n",
    "n_private = n_test * 0.7\n",
    "n_public = n_test * 0.3\n",
    "print(f'Total number of samples: {n_test}',\n",
    "      f'Number of private leaderboard samples: {n_private}',\n",
    "      f'Number of public leaderboard samples: {n_public}',\n",
    "      sep='\\n')"
   ]
  },
  {
   "cell_type": "code",
   "execution_count": 21,
   "metadata": {},
   "outputs": [
    {
     "name": "stdout",
     "output_type": "stream",
     "text": [
      "Mean logloss for the benchmark model: 1.088255\n"
     ]
    }
   ],
   "source": [
    "private_logloss = 1.09094\n",
    "public_logloss = 1.08199\n",
    "mean_logloss = (private_logloss * n_private + public_logloss * n_public) / n_test\n",
    "print(f'Mean logloss for the benchmark model: {mean_logloss}')"
   ]
  },
  {
   "cell_type": "markdown",
   "metadata": {},
   "source": [
    "#### RNN Model"
   ]
  },
  {
   "cell_type": "code",
   "execution_count": 22,
   "metadata": {},
   "outputs": [
    {
     "name": "stdout",
     "output_type": "stream",
     "text": [
      "Mean logloss: 0.47776\n"
     ]
    }
   ],
   "source": [
    "calculate_mean_logloss(0.47272, 0.48951)"
   ]
  },
  {
   "cell_type": "code",
   "execution_count": null,
   "metadata": {},
   "outputs": [],
   "source": []
  }
 ],
 "metadata": {
  "kernelspec": {
   "display_name": "authorid-test",
   "language": "python",
   "name": "authorid-test"
  },
  "language_info": {
   "codemirror_mode": {
    "name": "ipython",
    "version": 3
   },
   "file_extension": ".py",
   "mimetype": "text/x-python",
   "name": "python",
   "nbconvert_exporter": "python",
   "pygments_lexer": "ipython3",
   "version": "3.6.5"
  }
 },
 "nbformat": 4,
 "nbformat_minor": 2
}
