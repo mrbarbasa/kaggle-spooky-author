{
 "cells": [
  {
   "cell_type": "markdown",
   "metadata": {},
   "source": [
    "# Spooky Author Identification: GloVe CNN Model"
   ]
  },
  {
   "cell_type": "markdown",
   "metadata": {},
   "source": [
    "## Implementation"
   ]
  },
  {
   "cell_type": "markdown",
   "metadata": {},
   "source": [
    "### Import packages"
   ]
  },
  {
   "cell_type": "code",
   "execution_count": 1,
   "metadata": {},
   "outputs": [],
   "source": [
    "%matplotlib inline\n",
    "%load_ext autoreload\n",
    "%autoreload 2"
   ]
  },
  {
   "cell_type": "code",
   "execution_count": 2,
   "metadata": {},
   "outputs": [
    {
     "name": "stderr",
     "output_type": "stream",
     "text": [
      "Using TensorFlow backend.\n"
     ]
    }
   ],
   "source": [
    "from packages import *"
   ]
  },
  {
   "cell_type": "code",
   "execution_count": 3,
   "metadata": {},
   "outputs": [],
   "source": [
    "MODEL_NAME = 'glove_cnn'\n",
    "\n",
    "INPUT_DIR = '../input/'\n",
    "TRAIN_FILE_PATH = f'{INPUT_DIR}train.csv'\n",
    "TEST_FILE_PATH = f'{INPUT_DIR}test.csv'\n",
    "SAMPLE_SUBMISSION_FILE_PATH = f'{INPUT_DIR}sample_submission.csv'\n",
    "\n",
    "SUBMISSIONS_DIR = '../submissions/'\n",
    "\n",
    "EMBEDDINGS_DIR = f'{INPUT_DIR}embeddings/'\n",
    "EMBEDDINGS_FILE_PATH = f'{EMBEDDINGS_DIR}glove.840B.300d.txt'\n",
    "\n",
    "OUTPUT_DIR = '../output/'\n",
    "OUTPUT_LOGS_DIR = f'{OUTPUT_DIR}{MODEL_NAME}/logs/'\n",
    "OUTPUT_MODELS_DIR = f'{OUTPUT_DIR}{MODEL_NAME}/models/'\n",
    "OUTPUT_SUMMARIES_DIR = f'{OUTPUT_DIR}{MODEL_NAME}/summaries/'\n",
    "\n",
    "# Create the output directories if they do not exist (the `_` is necessary\n",
    "# in order to create intermediate directories and is itself not created)\n",
    "os.makedirs(os.path.dirname(f'{OUTPUT_LOGS_DIR}_'), exist_ok=True)\n",
    "os.makedirs(os.path.dirname(f'{OUTPUT_MODELS_DIR}_'), exist_ok=True)\n",
    "os.makedirs(os.path.dirname(f'{OUTPUT_SUMMARIES_DIR}_'), exist_ok=True)\n",
    "\n",
    "EMBEDDING_DIM = 300\n",
    "MAX_FEATURES = None # The top most common words if an integer; otherwise, all words are used\n",
    "MAX_SEQUENCE_LENGTH = 128\n",
    "N_SPLITS = 10\n",
    "\n",
    "# Fix a random seed for reproducibility\n",
    "SEED = 42\n",
    "np.random.seed(SEED)"
   ]
  },
  {
   "cell_type": "markdown",
   "metadata": {},
   "source": [
    "### Load data"
   ]
  },
  {
   "cell_type": "code",
   "execution_count": 4,
   "metadata": {},
   "outputs": [],
   "source": [
    "train, test, submission = load_data(TRAIN_FILE_PATH, \n",
    "                                    TEST_FILE_PATH, \n",
    "                                    SAMPLE_SUBMISSION_FILE_PATH)"
   ]
  },
  {
   "cell_type": "markdown",
   "metadata": {},
   "source": [
    "### Preprocess text"
   ]
  },
  {
   "cell_type": "code",
   "execution_count": 5,
   "metadata": {},
   "outputs": [
    {
     "name": "stdout",
     "output_type": "stream",
     "text": [
      "Found 25943 unique tokens.\n"
     ]
    }
   ],
   "source": [
    "# Todo: Decide whether or not to perform custom text preprocessing beforehand\n",
    "# X_train_sequences = list(train['text'].apply(lambda x: process_text(x)).values)\n",
    "# X_test_sequences = list(test['text'].apply(lambda x: process_text(x)).values)\n",
    "X_train_sequences = list(train['text'].values)\n",
    "X_test_sequences = list(test['text'].values)\n",
    "\n",
    "# Tokenize and pad the sentences\n",
    "X_train_tokenized, X_test_tokenized, word_index = compute_word_index(X_train_sequences,\n",
    "                                                                     X_test_sequences,\n",
    "                                                                     MAX_FEATURES,\n",
    "                                                                     MAX_SEQUENCE_LENGTH)"
   ]
  },
  {
   "cell_type": "markdown",
   "metadata": {},
   "source": [
    "### Prepare the embedding layer\n",
    "These results will later be used during stratified k-fold to construct the embedding layer."
   ]
  },
  {
   "cell_type": "code",
   "execution_count": 6,
   "metadata": {
    "scrolled": true
   },
   "outputs": [
    {
     "name": "stderr",
     "output_type": "stream",
     "text": [
      "2196017it [02:05, 17541.93it/s]"
     ]
    },
    {
     "name": "stdout",
     "output_type": "stream",
     "text": [
      "Found 2196016 word vectors.\n"
     ]
    },
    {
     "name": "stderr",
     "output_type": "stream",
     "text": [
      "\n"
     ]
    }
   ],
   "source": [
    "embeddings_index = load_embeddings(EMBEDDINGS_FILE_PATH)"
   ]
  },
  {
   "cell_type": "code",
   "execution_count": 8,
   "metadata": {},
   "outputs": [
    {
     "name": "stdout",
     "output_type": "stream",
     "text": [
      "Number of vocabulary words not found in the pre-trained embeddings: 2761 of 25943 (10.64%)\n"
     ]
    }
   ],
   "source": [
    "embedding_matrix, vocab_size, num_unknown = construct_embedding_matrix(word_index, \n",
    "                                                                       embeddings_index, \n",
    "                                                                       EMBEDDING_DIM)\n",
    "# Here we subtract 1 from the vocab size because 1 has been added to the\n",
    "# actual number of tokens to account for masking in the embedding matrix\n",
    "unknown_word_percentage = (num_unknown / (vocab_size - 1)) * 100\n",
    "unknown_word_lines = ('Number of vocabulary words not found in the pre-trained embeddings: '\n",
    "                      f'{num_unknown} of {vocab_size - 1} '\n",
    "                      f'({unknown_word_percentage:.2f}%)')\n",
    "print(unknown_word_lines)\n",
    "preprocessing_file_path = f'{OUTPUT_LOGS_DIR}preprocessing.log.txt'\n",
    "save_line_to_file(unknown_word_lines, preprocessing_file_path, 'w')"
   ]
  },
  {
   "cell_type": "markdown",
   "metadata": {},
   "source": [
    "### Train the model\n",
    "Each model will be evaluated based on the logloss metric using either 5-fold or 10-fold cross validation; the lower the logloss, the better the model."
   ]
  },
  {
   "cell_type": "code",
   "execution_count": 9,
   "metadata": {},
   "outputs": [
    {
     "name": "stdout",
     "output_type": "stream",
     "text": [
      "Original class labels: ['EAP' 'HPL' 'MWS']\n"
     ]
    }
   ],
   "source": [
    "# The target classes need to be converted to integers so that\n",
    "# EAP --> 0\n",
    "# HPL --> 1\n",
    "# MWS --> 2\n",
    "y_train_integers = integer_encode_classes(train['author'].values)"
   ]
  },
  {
   "cell_type": "code",
   "execution_count": 10,
   "metadata": {},
   "outputs": [],
   "source": [
    "# The target classes need to be one-hot encoded so that\n",
    "# EAP --> 0 --> [1, 0, 0]\n",
    "# HPL --> 1 --> [0, 1, 0]\n",
    "# MWS --> 2 --> [0, 0, 1]\n",
    "y_train_encoded = one_hot_encode_classes(y_train_integers)"
   ]
  },
  {
   "cell_type": "code",
   "execution_count": 61,
   "metadata": {},
   "outputs": [],
   "source": [
    "# Import model-dependent files\n",
    "from models import build_embedding_layer, build_model_callbacks, save_model_summary\n",
    "from models import get_random_cnn_params as get_random_model_params\n",
    "from models import build_random_cnn_model as build_model"
   ]
  },
  {
   "cell_type": "code",
   "execution_count": 69,
   "metadata": {
    "scrolled": true
   },
   "outputs": [
    {
     "name": "stdout",
     "output_type": "stream",
     "text": [
      "\n",
      "----- Iteration 1 of 2 -----\n",
      "Writing model params to file...\n",
      "\n",
      "----- Fold 1 of 2 -----\n",
      "Train on 9789 samples, validate on 9790 samples\n",
      "Epoch 1/100\n",
      "9789/9789 [==============================] - 6s 646us/step - loss: 1.0477 - acc: 0.4468 - val_loss: 0.9381 - val_acc: 0.5691\n",
      "Epoch 2/100\n",
      "9789/9789 [==============================] - 1s 142us/step - loss: 0.8244 - acc: 0.6391 - val_loss: 0.7264 - val_acc: 0.6879\n",
      "Epoch 3/100\n",
      "9789/9789 [==============================] - 1s 144us/step - loss: 0.6552 - acc: 0.7308 - val_loss: 0.7666 - val_acc: 0.6660\n",
      "Epoch 4/100\n",
      "9789/9789 [==============================] - 1s 143us/step - loss: 0.5898 - acc: 0.7641 - val_loss: 0.6440 - val_acc: 0.7330\n",
      "Epoch 5/100\n",
      "9789/9789 [==============================] - 1s 143us/step - loss: 0.4461 - acc: 0.8321 - val_loss: 0.5708 - val_acc: 0.7611\n",
      "Epoch 6/100\n",
      "9789/9789 [==============================] - 1s 143us/step - loss: 0.3324 - acc: 0.8793 - val_loss: 0.7009 - val_acc: 0.7238\n",
      "Epoch 7/100\n",
      "9789/9789 [==============================] - 1s 142us/step - loss: 0.2350 - acc: 0.9164 - val_loss: 0.7134 - val_acc: 0.7602\n",
      "Epoch 8/100\n",
      "9789/9789 [==============================] - 1s 144us/step - loss: 0.7882 - acc: 0.7799 - val_loss: 0.8954 - val_acc: 0.5752\n",
      "Epoch 00008: early stopping\n",
      "Making predictions...\n",
      "Writing classification summary to file...\n",
      "\n",
      "----- Fold 2 of 2 -----\n"
     ]
    },
    {
     "name": "stderr",
     "output_type": "stream",
     "text": [
      "/home/marifel/anaconda3/lib/python3.6/site-packages/sklearn/metrics/classification.py:1135: UndefinedMetricWarning: Precision and F-score are ill-defined and being set to 0.0 in labels with no predicted samples.\n",
      "  'precision', 'predicted', average, warn_for)\n"
     ]
    },
    {
     "name": "stdout",
     "output_type": "stream",
     "text": [
      "Train on 9790 samples, validate on 9789 samples\n",
      "Epoch 1/100\n",
      "9790/9790 [==============================] - 6s 626us/step - loss: 1.0745 - acc: 0.4172 - val_loss: 0.9714 - val_acc: 0.5908\n",
      "Epoch 2/100\n",
      "9790/9790 [==============================] - 1s 143us/step - loss: 0.8897 - acc: 0.5985 - val_loss: 0.8664 - val_acc: 0.6357\n",
      "Epoch 3/100\n",
      "9790/9790 [==============================] - 1s 143us/step - loss: 0.7365 - acc: 0.6841 - val_loss: 0.7616 - val_acc: 0.6763\n",
      "Epoch 4/100\n",
      "9790/9790 [==============================] - 1s 142us/step - loss: 0.6439 - acc: 0.7280 - val_loss: 0.6302 - val_acc: 0.7454\n",
      "Epoch 5/100\n",
      "9790/9790 [==============================] - 1s 142us/step - loss: 0.5130 - acc: 0.7898 - val_loss: 0.6035 - val_acc: 0.7567\n",
      "Epoch 6/100\n",
      "9790/9790 [==============================] - 1s 143us/step - loss: 0.4075 - acc: 0.8429 - val_loss: 0.6329 - val_acc: 0.7579\n",
      "Epoch 7/100\n",
      "9790/9790 [==============================] - 1s 143us/step - loss: 0.3289 - acc: 0.8715 - val_loss: 0.7053 - val_acc: 0.7595\n",
      "Epoch 8/100\n",
      "9790/9790 [==============================] - 1s 142us/step - loss: 0.1988 - acc: 0.9267 - val_loss: 0.7044 - val_acc: 0.7770\n",
      "Epoch 00008: early stopping\n",
      "Making predictions...\n",
      "Writing classification summary to file...\n",
      "Writing runtime log and CV results summary to file...\n",
      "\n",
      "----- Iteration 2 of 2 -----\n",
      "Writing model params to file...\n",
      "\n",
      "----- Fold 1 of 2 -----\n",
      "Train on 9789 samples, validate on 9790 samples\n",
      "Epoch 1/100\n",
      "9789/9789 [==============================] - 5s 508us/step - loss: 1.0799 - acc: 0.4462 - val_loss: 0.9753 - val_acc: 0.5456\n",
      "Epoch 2/100\n",
      "9789/9789 [==============================] - 0s 34us/step - loss: 0.9197 - acc: 0.5976 - val_loss: 0.9194 - val_acc: 0.5850\n",
      "Epoch 3/100\n",
      "9789/9789 [==============================] - 0s 34us/step - loss: 0.8713 - acc: 0.6279 - val_loss: 1.0562 - val_acc: 0.5135\n",
      "Epoch 4/100\n",
      "9789/9789 [==============================] - 0s 35us/step - loss: 0.8348 - acc: 0.6536 - val_loss: 0.9516 - val_acc: 0.5779\n",
      "Epoch 5/100\n",
      "9789/9789 [==============================] - 0s 34us/step - loss: 0.7919 - acc: 0.6730 - val_loss: 0.8302 - val_acc: 0.6347\n",
      "Epoch 6/100\n",
      "9789/9789 [==============================] - 0s 35us/step - loss: 0.7671 - acc: 0.6876 - val_loss: 0.8424 - val_acc: 0.6355\n",
      "Epoch 7/100\n",
      "9789/9789 [==============================] - 0s 36us/step - loss: 0.7591 - acc: 0.6926 - val_loss: 0.8083 - val_acc: 0.6418\n",
      "Epoch 8/100\n",
      "9789/9789 [==============================] - 0s 37us/step - loss: 0.7220 - acc: 0.7057 - val_loss: 0.7880 - val_acc: 0.6618\n",
      "Epoch 9/100\n",
      "9789/9789 [==============================] - 0s 35us/step - loss: 0.7140 - acc: 0.7187 - val_loss: 0.7385 - val_acc: 0.6875\n",
      "Epoch 10/100\n",
      "9789/9789 [==============================] - 0s 34us/step - loss: 0.6953 - acc: 0.7262 - val_loss: 0.6889 - val_acc: 0.7179\n",
      "Epoch 11/100\n",
      "9789/9789 [==============================] - 0s 35us/step - loss: 0.6870 - acc: 0.7248 - val_loss: 0.6818 - val_acc: 0.7187\n",
      "Epoch 12/100\n",
      "9789/9789 [==============================] - 0s 34us/step - loss: 0.6399 - acc: 0.7472 - val_loss: 0.6544 - val_acc: 0.7295\n",
      "Epoch 13/100\n",
      "9789/9789 [==============================] - 0s 35us/step - loss: 0.6356 - acc: 0.7543 - val_loss: 0.6737 - val_acc: 0.7220\n",
      "Epoch 14/100\n",
      "9789/9789 [==============================] - 0s 34us/step - loss: 0.6174 - acc: 0.7606 - val_loss: 0.6670 - val_acc: 0.7210\n",
      "Epoch 15/100\n",
      "9789/9789 [==============================] - 0s 35us/step - loss: 0.5788 - acc: 0.7727 - val_loss: 0.6680 - val_acc: 0.7267\n",
      "Epoch 00015: early stopping\n",
      "Making predictions...\n",
      "Writing classification summary to file...\n",
      "\n",
      "----- Fold 2 of 2 -----\n",
      "Train on 9790 samples, validate on 9789 samples\n",
      "Epoch 1/100\n",
      "9790/9790 [==============================] - 5s 487us/step - loss: 1.0638 - acc: 0.4285 - val_loss: 1.1605 - val_acc: 0.4976\n",
      "Epoch 2/100\n",
      "9790/9790 [==============================] - 0s 33us/step - loss: 0.9417 - acc: 0.5866 - val_loss: 0.9068 - val_acc: 0.5937\n",
      "Epoch 3/100\n",
      "9790/9790 [==============================] - 0s 34us/step - loss: 0.8620 - acc: 0.6337 - val_loss: 0.8742 - val_acc: 0.5993\n",
      "Epoch 4/100\n",
      "9790/9790 [==============================] - 0s 34us/step - loss: 0.8231 - acc: 0.6464 - val_loss: 0.7491 - val_acc: 0.6867\n",
      "Epoch 5/100\n",
      "9790/9790 [==============================] - 0s 34us/step - loss: 0.7932 - acc: 0.6635 - val_loss: 0.8114 - val_acc: 0.6312\n",
      "Epoch 6/100\n",
      "9790/9790 [==============================] - 0s 35us/step - loss: 0.7556 - acc: 0.6856 - val_loss: 0.8894 - val_acc: 0.6240\n",
      "Epoch 7/100\n",
      "9790/9790 [==============================] - 0s 35us/step - loss: 0.7254 - acc: 0.7004 - val_loss: 0.8409 - val_acc: 0.6204\n",
      "Epoch 00007: early stopping\n",
      "Making predictions...\n",
      "Writing classification summary to file...\n",
      "Writing runtime log and CV results summary to file...\n"
     ]
    }
   ],
   "source": [
    "training_num_epochs = 100 # With early stopping in place\n",
    "num_random_search_iter = 2 # Todo: Change to 60\n",
    "N_SPLITS = 2 # Todo: Remove this line\n",
    "\n",
    "# Randomly search for the best model using 10-fold cross validation for each iteration\n",
    "for nth_iter in range(1, num_random_search_iter+1):\n",
    "    nth_iter_str = f'iter_{nth_iter:02d}'\n",
    "    print(f'\\n----- Iteration {nth_iter} of {num_random_search_iter} -----')\n",
    "    \n",
    "    batch_size = int(np.random.choice([32, 64, 128, 256, 512]))\n",
    "\n",
    "    kfold = StratifiedKFold(n_splits=N_SPLITS, shuffle=True, random_state=SEED)\n",
    "    folds = kfold.split(X_train_tokenized, y_train_integers)\n",
    "\n",
    "    monitored_metric = 'val_loss'\n",
    "    other_metrics = ['val_acc', 'loss', 'acc']\n",
    "    all_metrics = ['val_loss', 'val_acc', 'loss', 'acc']\n",
    "    all_scores = { 'val_loss': [], 'val_acc': [], 'loss': [], 'acc': [] }\n",
    "    best_scores_per_fold = { 'val_loss': [], 'val_acc': [], 'loss': [], 'acc': [] }\n",
    "    \n",
    "    # The number of training epochs that have passed at which\n",
    "    # the best validation loss is recorded\n",
    "    best_score_num_epochs = []\n",
    "    \n",
    "    # Runtime records\n",
    "    pred_runtimes = []\n",
    "    pred_runtime_strs = []\n",
    "    training_start = time()\n",
    "\n",
    "    print('Writing model params to file...')\n",
    "    random_model_params = get_random_model_params()\n",
    "    params_file_path = f'{OUTPUT_MODELS_DIR}{nth_iter_str}.params.json'\n",
    "    save_dictionary_to_file(random_model_params, params_file_path)\n",
    "    \n",
    "    log_file_path = f'{OUTPUT_LOGS_DIR}{nth_iter_str}.log.txt'\n",
    "    \n",
    "    # Begin 10-fold cross validation for the current set of random model params\n",
    "    for fold, (train_indices, valid_indices) in enumerate(folds):\n",
    "        nth_fold = fold + 1\n",
    "        nth_fold_str = f'fold_{nth_fold:02d}'\n",
    "        print(f'\\n----- Fold {nth_fold} of {N_SPLITS} -----')\n",
    "\n",
    "        # Prepare the splits of data\n",
    "        X_train, y_train = X_train_tokenized[train_indices], y_train_encoded[train_indices]\n",
    "        X_valid, y_valid = X_train_tokenized[valid_indices], y_train_encoded[valid_indices]\n",
    "\n",
    "        # Build the embedding layer\n",
    "        embedding_layer = build_embedding_layer(embedding_matrix, \n",
    "                                                vocab_size, \n",
    "                                                EMBEDDING_DIM, \n",
    "                                                MAX_SEQUENCE_LENGTH)\n",
    "        # Construct model callbacks, save the best models, and log metrics to file\n",
    "        logger_file_path = f'{OUTPUT_LOGS_DIR}{nth_iter_str}.{nth_fold_str}.log.csv'\n",
    "        model_callbacks = build_model_callbacks(monitored_metric,\n",
    "                                                'min',\n",
    "                                                log_file_path, # progress\n",
    "                                                None, # model\n",
    "                                                logger_file_path, # logger\n",
    "                                                nth_fold,\n",
    "                                                N_SPLITS)\n",
    "        # Build the model\n",
    "        model = build_model(embedding_layer, MAX_SEQUENCE_LENGTH, random_model_params)    \n",
    "        # Save the model summary to file on the first fold only\n",
    "        # since the models are identical across folds\n",
    "        if nth_fold == 1:\n",
    "            save_model_summary(model, log_file_path)\n",
    "        # Train the model\n",
    "        history = model.fit(X_train,\n",
    "                            y_train,\n",
    "                            batch_size=batch_size,\n",
    "                            epochs=training_num_epochs,\n",
    "                            verbose=1,\n",
    "                            callbacks=model_callbacks,\n",
    "                            validation_data=[X_valid, y_valid],\n",
    "                            shuffle=True)\n",
    "\n",
    "        # Save the scores for later evaluation\n",
    "        monitored_metric_fold_scores = history.history[monitored_metric]\n",
    "        all_scores[monitored_metric].append(monitored_metric_fold_scores)\n",
    "        # Save only the best validation loss\n",
    "        epoch_index = np.argmin(monitored_metric_fold_scores)\n",
    "        best_score_num_epochs.append(epoch_index + 1)\n",
    "        best_monitored_metric_score = monitored_metric_fold_scores[epoch_index]\n",
    "        best_scores_per_fold[monitored_metric].append(best_monitored_metric_score)\n",
    "\n",
    "        for metric in other_metrics:\n",
    "            other_metric_fold_scores = history.history[metric]\n",
    "            all_scores[metric].append(other_metric_fold_scores)\n",
    "            # Save only the corresponding current metric score for the\n",
    "            # best validation loss epoch\n",
    "            same_epoch_score = other_metric_fold_scores[epoch_index]\n",
    "            best_scores_per_fold[metric].append(same_epoch_score)\n",
    "\n",
    "        # Display a classification report and confusion matrix\n",
    "        print('Making predictions...')\n",
    "        pred_start = time()\n",
    "        y_pred = model.predict(X_valid, batch_size=batch_size, verbose=0)\n",
    "        pred_elapsed, pred_elapsed_str = get_time_elapsed(pred_start)\n",
    "        pred_runtimes.append(pred_elapsed)\n",
    "        pred_runtime_strs.append(pred_elapsed_str)\n",
    "\n",
    "        print('Writing classification summary to file...')\n",
    "        save_classification_summary(y_valid,\n",
    "                                    y_pred,\n",
    "                                    [0, 1, 2],\n",
    "                                    ['EAP', 'HPL', 'MWS'],\n",
    "                                    log_file_path,\n",
    "                                    mode='a')\n",
    "\n",
    "    # Calculate the total and average runtimes across all folds\n",
    "    print('Writing runtime log and CV results summary to file...')\n",
    "    training_elapsed, training_elapsed_str = get_time_elapsed(training_start)\n",
    "    training_fold_elapsed_str = format_time_str(training_elapsed / N_SPLITS)\n",
    "    pred_elapsed = np.sum(pred_runtimes)\n",
    "    pred_elapsed_str = format_time_str(pred_elapsed)\n",
    "    pred_fold_elapsed_str = format_time_str(pred_elapsed / N_SPLITS)\n",
    "    summary_lines = (f'Total stratified {N_SPLITS}-fold loop runtime: {training_elapsed_str}\\n'\n",
    "                     f'Average training runtime per fold: {training_fold_elapsed_str}\\n\\n'\n",
    "                     f'Total stratified {N_SPLITS}-fold prediction runtime: {pred_elapsed_str}\\n'\n",
    "                     f'Average prediction runtime per fold: {pred_fold_elapsed_str}\\n\\n')\n",
    "    for f, time_str in enumerate(pred_runtime_strs):\n",
    "        summary_lines += f'Fold {f + 1} prediction runtime: {time_str}\\n'\n",
    "\n",
    "    # Calculate the mean and standard deviation across all folds' best scores\n",
    "    summary_lines += '\\nCV Results Summary:'\n",
    "    for metric in all_metrics:\n",
    "        mean = np.mean(best_scores_per_fold[metric])\n",
    "        std = np.std(best_scores_per_fold[metric])\n",
    "        summary_lines += f'\\n- {metric} mean and std: {mean:.5f} (+/- {std:.5f})'\n",
    "    monitored_mean = np.mean(best_scores_per_fold[monitored_metric])\n",
    "    summary_file_path = (f'{OUTPUT_SUMMARIES_DIR}{monitored_mean:.5f}.'\n",
    "                         f'{nth_iter_str}.summary.txt')\n",
    "    save_line_to_file(summary_lines, summary_file_path, 'w')\n"
   ]
  },
  {
   "cell_type": "markdown",
   "metadata": {},
   "source": [
    "### Evaluate the results"
   ]
  },
  {
   "cell_type": "code",
   "execution_count": 126,
   "metadata": {},
   "outputs": [
    {
     "data": {
      "text/plain": [
       "\" Example:\\n{\\n    'val_loss': [[0.8656108248708684, 0.8480148858142459], # Fold 1, scores per epoch\\n    [0.8535823000075321, 0.8520218395263746]], # Fold 2, scores per epoch\\n\\n    'val_acc': [[0.6107252297776469, 0.6267620020916075],\\n    [0.6173255694620041, 0.6308100929066869]],\\n\\n    'loss': [[0.9227827079133659, 0.6396668943775261],\\n    [0.9183809885209135, 0.636743621745806]],\\n\\n    'acc': [[0.5735008681389172, 0.7408315457037562],\\n    [0.5728294178462978, 0.7402451480737867]]\\n}\\n\""
      ]
     },
     "execution_count": 126,
     "metadata": {},
     "output_type": "execute_result"
    }
   ],
   "source": [
    "# Note: There might be a different number of epochs per fold\n",
    "\"\"\" Example:\n",
    "{\n",
    "    'val_loss': [[0.8656108248708684, 0.8480148858142459], # Fold 1, scores per epoch\n",
    "    [0.8535823000075321, 0.8520218395263746]], # Fold 2, scores per epoch\n",
    "\n",
    "    'val_acc': [[0.6107252297776469, 0.6267620020916075],\n",
    "    [0.6173255694620041, 0.6308100929066869]],\n",
    "\n",
    "    'loss': [[0.9227827079133659, 0.6396668943775261],\n",
    "    [0.9183809885209135, 0.636743621745806]],\n",
    "\n",
    "    'acc': [[0.5735008681389172, 0.7408315457037562],\n",
    "    [0.5728294178462978, 0.7402451480737867]]\n",
    "}\n",
    "\"\"\"\n",
    "all_scores"
   ]
  },
  {
   "cell_type": "code",
   "execution_count": 127,
   "metadata": {},
   "outputs": [],
   "source": [
    "best_scores_per_fold"
   ]
  },
  {
   "cell_type": "code",
   "execution_count": 40,
   "metadata": {},
   "outputs": [
    {
     "data": {
      "text/plain": [
       "[8, 8, 23, 11, 6, 10, 6, 7, 5, 6]"
      ]
     },
     "execution_count": 40,
     "metadata": {},
     "output_type": "execute_result"
    }
   ],
   "source": [
    "best_score_num_epochs"
   ]
  },
  {
   "cell_type": "code",
   "execution_count": 41,
   "metadata": {},
   "outputs": [
    {
     "data": {
      "image/png": "[encoded data removed]",
      "text/plain": [
       "<Figure size 432x288 with 1 Axes>"
      ]
     },
     "metadata": {},
     "output_type": "display_data"
    }
   ],
   "source": [
    "# Pass in a metric (without the `val_` prefix) and a fold index to show\n",
    "# the training and validation error curves over the number of epochs\n",
    "display_metric_vs_epochs_plot(all_scores, 'loss', 2)"
   ]
  },
  {
   "cell_type": "code",
   "execution_count": 43,
   "metadata": {},
   "outputs": [
    {
     "data": {
      "image/png": "[encoded data removed]",
      "text/plain": [
       "<Figure size 432x288 with 1 Axes>"
      ]
     },
     "metadata": {},
     "output_type": "display_data"
    }
   ],
   "source": [
    "display_metric_vs_epochs_plot(all_scores, 'acc', 2)"
   ]
  },
  {
   "cell_type": "markdown",
   "metadata": {},
   "source": [
    "### Make predictions on the test data\n",
    "In order to make predictions on the Kaggle-provided unlabeled test data, we will need to submit our predictions to Kaggle. It would be best to train on the entire training set; this means that, this time, we won't provide a validation set to the Keras model.\n",
    "\n",
    "How do we know how many epochs to train for? To figure this out, we can use the results from the cross validation phase. Since we have recorded the number of epochs that each fold took to train the model before stopping, we can take the average number of epochs across all folds and use that as the number of epochs to train our final model."
   ]
  },
  {
   "cell_type": "markdown",
   "metadata": {},
   "source": [
    "#### Calculate the number of epochs to train for using the entire training dataset"
   ]
  },
  {
   "cell_type": "code",
   "execution_count": 18,
   "metadata": {},
   "outputs": [
    {
     "data": {
      "text/plain": [
       "[2, 1]"
      ]
     },
     "execution_count": 18,
     "metadata": {},
     "output_type": "execute_result"
    }
   ],
   "source": [
    "best_score_num_epochs"
   ]
  },
  {
   "cell_type": "code",
   "execution_count": 19,
   "metadata": {},
   "outputs": [
    {
     "data": {
      "text/plain": [
       "2"
      ]
     },
     "execution_count": 19,
     "metadata": {},
     "output_type": "execute_result"
    }
   ],
   "source": [
    "# Let's take the average number of epochs across all folds.\n",
    "final_num_epochs = np.mean(best_score_num_epochs)\n",
    "# We take the ceiling because it's better to train for a little longer than to underfit.\n",
    "final_num_epochs = np.ceil(final_num_epochs)\n",
    "# We need to cast it to an int before feeding it to `model.fit`.\n",
    "final_num_epochs = int(final_num_epochs)\n",
    "final_num_epochs"
   ]
  },
  {
   "cell_type": "markdown",
   "metadata": {},
   "source": [
    "#### Train the model"
   ]
  },
  {
   "cell_type": "code",
   "execution_count": 150,
   "metadata": {},
   "outputs": [],
   "source": [
    "from models import build_cnn_model"
   ]
  },
  {
   "cell_type": "code",
   "execution_count": 31,
   "metadata": {},
   "outputs": [],
   "source": [
    "# Build the embedding layer\n",
    "embedding_layer = build_embedding_layer(embedding_matrix, \n",
    "                                        vocab_size, \n",
    "                                        EMBEDDING_DIM, \n",
    "                                        MAX_SEQUENCE_LENGTH)\n",
    "# Build the model\n",
    "model = build_cnn_model(embedding_layer, MAX_SEQUENCE_LENGTH)\n",
    "# Save the model architecture, weights, and optimizer state to file\n",
    "model.save(f'{OUTPUT_MODELS_DIR}final.model.hdf5')\n",
    "# Save the model summary to file\n",
    "save_model_summary(model, f'{OUTPUT_SUMMARIES_DIR}final.model_summary.txt')"
   ]
  },
  {
   "cell_type": "code",
   "execution_count": 22,
   "metadata": {},
   "outputs": [
    {
     "name": "stdout",
     "output_type": "stream",
     "text": [
      "Epoch 1/2\n",
      "19579/19579 [==============================] - 26s 1ms/step - loss: 0.8842 - acc: 0.5964\n",
      "Epoch 2/2\n",
      "19579/19579 [==============================] - 27s 1ms/step - loss: 0.6554 - acc: 0.7255\n"
     ]
    }
   ],
   "source": [
    "# Train the model\n",
    "history = model.fit(X_train_tokenized,\n",
    "                    y_train_encoded,\n",
    "                    batch_size=batch_size,\n",
    "                    epochs=final_num_epochs,\n",
    "                    verbose=1,\n",
    "                    shuffle=True)"
   ]
  },
  {
   "cell_type": "markdown",
   "metadata": {},
   "source": [
    "#### Make predictions on the test data"
   ]
  },
  {
   "cell_type": "code",
   "execution_count": 23,
   "metadata": {},
   "outputs": [
    {
     "name": "stdout",
     "output_type": "stream",
     "text": [
      "8392/8392 [==============================] - 5s 619us/step\n"
     ]
    }
   ],
   "source": [
    "predictions = model.predict(X_test_tokenized, batch_size=batch_size, verbose=1)"
   ]
  },
  {
   "cell_type": "code",
   "execution_count": 24,
   "metadata": {},
   "outputs": [
    {
     "data": {
      "text/plain": [
       "array([[0.03579558, 0.01009183, 0.9541125 ],\n",
       "       [0.93095404, 0.06735893, 0.00168709],\n",
       "       [0.00521636, 0.9862598 , 0.00852381]], dtype=float32)"
      ]
     },
     "execution_count": 24,
     "metadata": {},
     "output_type": "execute_result"
    }
   ],
   "source": [
    "# Check the final submission values\n",
    "predictions[0:3]"
   ]
  },
  {
   "cell_type": "markdown",
   "metadata": {},
   "source": [
    "#### Create a submission CSV"
   ]
  },
  {
   "cell_type": "code",
   "execution_count": 27,
   "metadata": {},
   "outputs": [],
   "source": [
    "submission[['EAP', 'HPL', 'MWS']] = predictions\n",
    "submission.to_csv(f'{SUBMISSIONS_DIR}001_submission.csv', index=False)"
   ]
  },
  {
   "cell_type": "markdown",
   "metadata": {},
   "source": [
    "### Evaluate the average logloss of the Kaggle submission\n",
    "After submitting to Kaggle, we can calculate the average logloss across the entire test dataset as follows:\n",
    "```\n",
    "Given:\n",
    "    n_test = 8392\n",
    "    %_private = 0.7\n",
    "    %_public = 0.3\n",
    "Average logloss = (private_logloss * n_private + public_logloss * n_public) / n_test\n",
    "                = (private_logloss * (%_private * n_test)\n",
    "                  + public_logloss * (%_public * n_test))\n",
    "                  / n_test\n",
    "Where n_test = n_private + n_public\n",
    "```"
   ]
  },
  {
   "cell_type": "code",
   "execution_count": null,
   "metadata": {},
   "outputs": [],
   "source": []
  },
  {
   "cell_type": "markdown",
   "metadata": {},
   "source": [
    "## Refinement\n",
    "Run random search to tune certain hyperparameters for each algorithm for at least 60 iterations (but I’ll lower that number if it ends up taking way too long) in order to find the best model."
   ]
  },
  {
   "cell_type": "code",
   "execution_count": null,
   "metadata": {},
   "outputs": [],
   "source": []
  }
 ],
 "metadata": {
  "kernelspec": {
   "display_name": "authorid-test",
   "language": "python",
   "name": "authorid-test"
  },
  "language_info": {
   "codemirror_mode": {
    "name": "ipython",
    "version": 3
   },
   "file_extension": ".py",
   "mimetype": "text/x-python",
   "name": "python",
   "nbconvert_exporter": "python",
   "pygments_lexer": "ipython3",
   "version": "3.6.5"
  }
 },
 "nbformat": 4,
 "nbformat_minor": 2
}
