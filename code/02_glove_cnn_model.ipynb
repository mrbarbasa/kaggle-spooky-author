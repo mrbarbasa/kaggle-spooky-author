{
 "cells": [
  {
   "cell_type": "markdown",
   "metadata": {},
   "source": [
    "# Spooky Author Identification: GloVe CNN Model"
   ]
  },
  {
   "cell_type": "markdown",
   "metadata": {},
   "source": [
    "## Implementation"
   ]
  },
  {
   "cell_type": "markdown",
   "metadata": {},
   "source": [
    "### Import packages"
   ]
  },
  {
   "cell_type": "code",
   "execution_count": 1,
   "metadata": {},
   "outputs": [],
   "source": [
    "%matplotlib inline\n",
    "%load_ext autoreload\n",
    "%autoreload 2"
   ]
  },
  {
   "cell_type": "code",
   "execution_count": 2,
   "metadata": {},
   "outputs": [
    {
     "name": "stderr",
     "output_type": "stream",
     "text": [
      "Using TensorFlow backend.\n"
     ]
    }
   ],
   "source": [
    "from packages import *"
   ]
  },
  {
   "cell_type": "code",
   "execution_count": 36,
   "metadata": {},
   "outputs": [],
   "source": [
    "MODEL_NAME = 'glove_cnn'\n",
    "\n",
    "INPUT_DIR = '../input/'\n",
    "TRAIN_FILE_PATH = f'{INPUT_DIR}train.csv'\n",
    "TEST_FILE_PATH = f'{INPUT_DIR}test.csv'\n",
    "SAMPLE_SUBMISSION_FILE_PATH = f'{INPUT_DIR}sample_submission.csv'\n",
    "\n",
    "EMBEDDINGS_DIR = f'{INPUT_DIR}embeddings/'\n",
    "EMBEDDINGS_FILE_PATH = f'{EMBEDDINGS_DIR}glove.840B.300d.txt'\n",
    "\n",
    "OUTPUT_DIR = '../output/'\n",
    "OUTPUT_LOGS_DIR = f'{OUTPUT_DIR}{MODEL_NAME}/logs/'\n",
    "OUTPUT_MODELS_DIR = f'{OUTPUT_DIR}{MODEL_NAME}/models/'\n",
    "OUTPUT_SCORES_DIR = f'{OUTPUT_DIR}{MODEL_NAME}/scores/'\n",
    "OUTPUT_SUBMISSIONS_DIR = f'{OUTPUT_DIR}{MODEL_NAME}/submissions/'\n",
    "OUTPUT_SUMMARIES_DIR = f'{OUTPUT_DIR}{MODEL_NAME}/summaries/'\n",
    "\n",
    "# Create the output directories if they do not exist (the `_` is necessary\n",
    "# in order to create intermediate directories and is itself not created)\n",
    "os.makedirs(os.path.dirname(f'{OUTPUT_LOGS_DIR}_'), exist_ok=True)\n",
    "os.makedirs(os.path.dirname(f'{OUTPUT_MODELS_DIR}_'), exist_ok=True)\n",
    "os.makedirs(os.path.dirname(f'{OUTPUT_SCORES_DIR}_'), exist_ok=True)\n",
    "os.makedirs(os.path.dirname(f'{OUTPUT_SUBMISSIONS_DIR}_'), exist_ok=True)\n",
    "os.makedirs(os.path.dirname(f'{OUTPUT_SUMMARIES_DIR}_'), exist_ok=True)\n",
    "\n",
    "EMBEDDING_DIM = 300\n",
    "MAX_FEATURES = None # The top most common words if an integer; otherwise, all words are used\n",
    "MAX_SEQUENCE_LENGTH = 128\n",
    "N_SPLITS = 10\n",
    "\n",
    "# Fix a random seed for reproducibility\n",
    "SEED = 42\n",
    "np.random.seed(SEED)"
   ]
  },
  {
   "cell_type": "markdown",
   "metadata": {},
   "source": [
    "### Load data"
   ]
  },
  {
   "cell_type": "code",
   "execution_count": 4,
   "metadata": {},
   "outputs": [],
   "source": [
    "train, test, submission = load_data(TRAIN_FILE_PATH, \n",
    "                                    TEST_FILE_PATH, \n",
    "                                    SAMPLE_SUBMISSION_FILE_PATH)"
   ]
  },
  {
   "cell_type": "markdown",
   "metadata": {},
   "source": [
    "### Preprocess text"
   ]
  },
  {
   "cell_type": "code",
   "execution_count": 5,
   "metadata": {},
   "outputs": [
    {
     "name": "stdout",
     "output_type": "stream",
     "text": [
      "Found 25943 unique tokens.\n"
     ]
    }
   ],
   "source": [
    "# Todo: Decide whether or not to perform custom text preprocessing beforehand\n",
    "# X_train_sequences = list(train['text'].apply(lambda x: process_text(x)).values)\n",
    "# X_test_sequences = list(test['text'].apply(lambda x: process_text(x)).values)\n",
    "X_train_sequences = list(train['text'].values)\n",
    "X_test_sequences = list(test['text'].values)\n",
    "\n",
    "# Tokenize and pad the sentences\n",
    "X_train_tokenized, X_test_tokenized, word_index = compute_word_index(X_train_sequences,\n",
    "                                                                     X_test_sequences,\n",
    "                                                                     MAX_FEATURES,\n",
    "                                                                     MAX_SEQUENCE_LENGTH)"
   ]
  },
  {
   "cell_type": "markdown",
   "metadata": {},
   "source": [
    "### Prepare the embedding layer\n",
    "These results will later be used during stratified k-fold to construct the embedding layer."
   ]
  },
  {
   "cell_type": "code",
   "execution_count": 6,
   "metadata": {
    "scrolled": true
   },
   "outputs": [
    {
     "name": "stderr",
     "output_type": "stream",
     "text": [
      "2196017it [02:06, 17390.89it/s]"
     ]
    },
    {
     "name": "stdout",
     "output_type": "stream",
     "text": [
      "Found 2196016 word vectors.\n"
     ]
    },
    {
     "name": "stderr",
     "output_type": "stream",
     "text": [
      "\n"
     ]
    }
   ],
   "source": [
    "embeddings_index = load_embeddings(EMBEDDINGS_FILE_PATH)"
   ]
  },
  {
   "cell_type": "code",
   "execution_count": 7,
   "metadata": {},
   "outputs": [
    {
     "name": "stdout",
     "output_type": "stream",
     "text": [
      "Number of vocabulary words not found in the pre-trained embeddings: 2761 of 25943 (10.64%)\n"
     ]
    }
   ],
   "source": [
    "embedding_matrix, vocab_size, num_unknown = construct_embedding_matrix(word_index, \n",
    "                                                                       embeddings_index, \n",
    "                                                                       EMBEDDING_DIM)\n",
    "# Here we subtract 1 from the vocab size because 1 has been added to the\n",
    "# actual number of tokens to account for masking in the embedding matrix\n",
    "unknown_word_percentage = (num_unknown / (vocab_size - 1)) * 100\n",
    "unknown_word_lines = ('Number of vocabulary words not found in the pre-trained embeddings: '\n",
    "                      f'{num_unknown} of {vocab_size - 1} '\n",
    "                      f'({unknown_word_percentage:.2f}%)')\n",
    "print(unknown_word_lines)\n",
    "preprocessing_file_path = f'{OUTPUT_LOGS_DIR}preprocessing.log.txt'\n",
    "save_line_to_file(unknown_word_lines, preprocessing_file_path, 'w')"
   ]
  },
  {
   "cell_type": "markdown",
   "metadata": {},
   "source": [
    "### Train the model\n",
    "Each model will be evaluated based on the logloss metric using either 5-fold or 10-fold cross validation; the lower the logloss, the better the model."
   ]
  },
  {
   "cell_type": "code",
   "execution_count": 8,
   "metadata": {},
   "outputs": [
    {
     "name": "stdout",
     "output_type": "stream",
     "text": [
      "Original class labels: ['EAP' 'HPL' 'MWS']\n"
     ]
    }
   ],
   "source": [
    "# The target classes need to be converted to integers so that\n",
    "# EAP --> 0\n",
    "# HPL --> 1\n",
    "# MWS --> 2\n",
    "y_train_integers = integer_encode_classes(train['author'].values)"
   ]
  },
  {
   "cell_type": "code",
   "execution_count": 9,
   "metadata": {},
   "outputs": [],
   "source": [
    "# The target classes need to be one-hot encoded so that\n",
    "# EAP --> 0 --> [1, 0, 0]\n",
    "# HPL --> 1 --> [0, 1, 0]\n",
    "# MWS --> 2 --> [0, 0, 1]\n",
    "y_train_encoded = one_hot_encode_classes(y_train_integers)"
   ]
  },
  {
   "cell_type": "code",
   "execution_count": 27,
   "metadata": {},
   "outputs": [],
   "source": [
    "# Import model-dependent files\n",
    "from models import build_embedding_layer, build_model_callbacks, save_model_summary\n",
    "from models import get_random_cnn_params as get_random_model_params\n",
    "from models import build_cnn_model as build_model"
   ]
  },
  {
   "cell_type": "code",
   "execution_count": 38,
   "metadata": {
    "scrolled": true
   },
   "outputs": [
    {
     "name": "stdout",
     "output_type": "stream",
     "text": [
      "\n",
      "----- Iteration 1 of 2 -----\n",
      "Writing model params to file...\n",
      "\n",
      "----- Fold 1 of 2 -----\n",
      "Train on 9789 samples, validate on 9790 samples\n",
      "Epoch 1/100\n",
      "9789/9789 [==============================] - 3s 328us/step - loss: 1.1941 - acc: 0.4365 - val_loss: 0.9398 - val_acc: 0.5868\n",
      "Epoch 2/100\n",
      "9789/9789 [==============================] - 1s 119us/step - loss: 0.8644 - acc: 0.6217 - val_loss: 0.7801 - val_acc: 0.6947\n",
      "Epoch 3/100\n",
      "9789/9789 [==============================] - 1s 120us/step - loss: 0.7321 - acc: 0.6995 - val_loss: 0.7203 - val_acc: 0.6978\n",
      "Epoch 4/100\n",
      "9789/9789 [==============================] - 1s 119us/step - loss: 0.6361 - acc: 0.7441 - val_loss: 0.6375 - val_acc: 0.7414\n",
      "Epoch 5/100\n",
      "9789/9789 [==============================] - 1s 120us/step - loss: 0.5472 - acc: 0.8089 - val_loss: 1.1789 - val_acc: 0.5887\n",
      "Epoch 6/100\n",
      "9789/9789 [==============================] - 1s 119us/step - loss: 0.4624 - acc: 0.8377 - val_loss: 1.3750 - val_acc: 0.6178\n",
      "Epoch 7/100\n",
      "9789/9789 [==============================] - 1s 119us/step - loss: 0.3704 - acc: 0.8751 - val_loss: 0.6400 - val_acc: 0.7532\n",
      "Epoch 00007: early stopping\n",
      "Making predictions...\n",
      "Writing classification summary to file...\n",
      "\n",
      "----- Fold 2 of 2 -----\n",
      "Train on 9790 samples, validate on 9789 samples\n",
      "Epoch 1/100\n",
      "9790/9790 [==============================] - 3s 343us/step - loss: 1.1204 - acc: 0.4404 - val_loss: 1.2050 - val_acc: 0.4554\n",
      "Epoch 2/100\n",
      "9790/9790 [==============================] - 1s 121us/step - loss: 0.8840 - acc: 0.6180 - val_loss: 0.7468 - val_acc: 0.6937\n",
      "Epoch 3/100\n",
      "9790/9790 [==============================] - 1s 120us/step - loss: 0.7157 - acc: 0.7023 - val_loss: 0.7686 - val_acc: 0.6680\n",
      "Epoch 4/100\n",
      "9790/9790 [==============================] - 1s 125us/step - loss: 0.6715 - acc: 0.7481 - val_loss: 0.6555 - val_acc: 0.7394\n",
      "Epoch 5/100\n",
      "9790/9790 [==============================] - 1s 123us/step - loss: 0.5084 - acc: 0.8049 - val_loss: 0.7484 - val_acc: 0.6906\n",
      "Epoch 6/100\n",
      "9790/9790 [==============================] - 1s 117us/step - loss: 0.4233 - acc: 0.8486 - val_loss: 0.7162 - val_acc: 0.7292\n",
      "Epoch 7/100\n",
      "9790/9790 [==============================] - 1s 119us/step - loss: 0.4519 - acc: 0.8607 - val_loss: 0.6342 - val_acc: 0.7523\n",
      "Epoch 8/100\n",
      "9790/9790 [==============================] - 1s 119us/step - loss: 0.2205 - acc: 0.9327 - val_loss: 0.9006 - val_acc: 0.7208\n",
      "Epoch 9/100\n",
      "9790/9790 [==============================] - 1s 118us/step - loss: 0.4155 - acc: 0.9059 - val_loss: 0.6929 - val_acc: 0.7540\n",
      "Epoch 10/100\n",
      "9790/9790 [==============================] - 1s 118us/step - loss: 0.1271 - acc: 0.9618 - val_loss: 1.0619 - val_acc: 0.7279\n",
      "Epoch 00010: early stopping\n",
      "Making predictions...\n",
      "Writing classification summary to file...\n",
      "Writing CV results and runtime summary to file...\n",
      "\n",
      "----- Iteration 2 of 2 -----\n",
      "Writing model params to file...\n",
      "\n",
      "----- Fold 1 of 2 -----\n",
      "Train on 9789 samples, validate on 9790 samples\n",
      "Epoch 1/100\n",
      "9789/9789 [==============================] - 3s 314us/step - loss: 0.8657 - acc: 0.6116 - val_loss: 0.8136 - val_acc: 0.6458\n",
      "Epoch 2/100\n",
      "9789/9789 [==============================] - 1s 127us/step - loss: 0.5628 - acc: 0.7725 - val_loss: 0.6826 - val_acc: 0.7123\n",
      "Epoch 3/100\n",
      "9789/9789 [==============================] - 1s 125us/step - loss: 0.3072 - acc: 0.8865 - val_loss: 0.7460 - val_acc: 0.7184\n",
      "Epoch 4/100\n",
      "9789/9789 [==============================] - 1s 125us/step - loss: 0.1356 - acc: 0.9538 - val_loss: 0.9913 - val_acc: 0.7099\n",
      "Epoch 5/100\n",
      "9789/9789 [==============================] - 1s 125us/step - loss: 0.0811 - acc: 0.9745 - val_loss: 1.1417 - val_acc: 0.7083\n",
      "Epoch 00005: early stopping\n",
      "Making predictions...\n",
      "Writing classification summary to file...\n",
      "\n",
      "----- Fold 2 of 2 -----\n",
      "Train on 9790 samples, validate on 9789 samples\n",
      "Epoch 1/100\n",
      "9790/9790 [==============================] - 3s 316us/step - loss: 0.8620 - acc: 0.6177 - val_loss: 0.7975 - val_acc: 0.6530\n",
      "Epoch 2/100\n",
      "9790/9790 [==============================] - 1s 128us/step - loss: 0.5574 - acc: 0.7726 - val_loss: 0.6664 - val_acc: 0.7290\n",
      "Epoch 3/100\n",
      "9790/9790 [==============================] - 1s 124us/step - loss: 0.3019 - acc: 0.8784 - val_loss: 0.7620 - val_acc: 0.7252\n",
      "Epoch 4/100\n",
      "9790/9790 [==============================] - 1s 128us/step - loss: 0.1465 - acc: 0.9516 - val_loss: 1.0483 - val_acc: 0.7058\n",
      "Epoch 5/100\n",
      "9790/9790 [==============================] - 1s 125us/step - loss: 0.0820 - acc: 0.9728 - val_loss: 1.2332 - val_acc: 0.7074\n",
      "Epoch 00005: early stopping\n",
      "Making predictions...\n",
      "Writing classification summary to file...\n",
      "Writing CV results and runtime summary to file...\n"
     ]
    }
   ],
   "source": [
    "# Random search\n",
    "\n",
    "training_num_epochs = 100 # With early stopping in place\n",
    "num_random_search_iter = 2 # Todo: Change to 60\n",
    "N_SPLITS = 2 # Todo: Remove this line\n",
    "\n",
    "# Randomly search for the best model using 10-fold cross validation for each iteration.\n",
    "# Note: Before re-running this cell, you might want to delete the existing files in the\n",
    "# `OUTPUT_SUMMARIES_DIR` folder, since the files within might not get overwritten.\n",
    "for nth_iter in range(1, num_random_search_iter+1):\n",
    "    \n",
    "    # Start the training timer for the current iteration\n",
    "    training_start = time()\n",
    "    \n",
    "    nth_iter_str = f'iter_{nth_iter:02d}'\n",
    "    print(f'\\n----- Iteration {nth_iter} of {num_random_search_iter} -----')\n",
    "\n",
    "    # Metrics to monitor and record\n",
    "    monitored_metric = 'val_loss'\n",
    "    other_metrics = ['val_acc', 'loss', 'acc']\n",
    "    all_metrics = ['val_loss', 'val_acc', 'loss', 'acc']\n",
    "    \n",
    "    # The number of training epochs that have passed at which\n",
    "    # the best validation loss is recorded\n",
    "    best_score_num_epochs = []\n",
    "    \n",
    "    # The metric scores recorded from the epoch number at which\n",
    "    # the best validation loss is recorded.\n",
    "    # Note that each list should be `N_SPLITS` in length.\n",
    "    best_scores_per_fold = { 'val_loss': [], 'val_acc': [], 'loss': [], 'acc': [] }\n",
    "    \n",
    "    # Runtime records\n",
    "    pred_runtimes = []\n",
    "    pred_runtime_strs = []\n",
    "\n",
    "    # Retrieve the random model params for the current iteration\n",
    "    random_model_params = get_random_model_params()\n",
    "    batch_size = random_model_params['batch_size']\n",
    "    \n",
    "    print('Writing model params to file...')\n",
    "    params_file_path = f'{OUTPUT_MODELS_DIR}{nth_iter_str}.params.json'\n",
    "    save_dictionary_to_file(random_model_params, params_file_path)    \n",
    "    \n",
    "    # The model summary, improvement log, and classification summary file path\n",
    "    log_file_path = f'{OUTPUT_LOGS_DIR}{nth_iter_str}.log.txt'\n",
    "    \n",
    "    # Calculate the k-fold splits for the current iteration\n",
    "    kfold = StratifiedKFold(n_splits=N_SPLITS, shuffle=True, random_state=SEED)\n",
    "    folds = kfold.split(X_train_tokenized, y_train_integers)\n",
    "    \n",
    "    # Begin 10-fold cross validation for the current set of random model params\n",
    "    for fold, (train_indices, valid_indices) in enumerate(folds):\n",
    "        nth_fold = fold + 1\n",
    "        nth_fold_str = f'fold_{nth_fold:02d}'\n",
    "        print(f'\\n----- Fold {nth_fold} of {N_SPLITS} -----')\n",
    "\n",
    "        # Prepare the splits of data\n",
    "        X_train, y_train = X_train_tokenized[train_indices], y_train_encoded[train_indices]\n",
    "        X_valid, y_valid = X_train_tokenized[valid_indices], y_train_encoded[valid_indices]\n",
    "\n",
    "        # Build the embedding layer\n",
    "        embedding_layer = build_embedding_layer(embedding_matrix, \n",
    "                                                vocab_size, \n",
    "                                                EMBEDDING_DIM, \n",
    "                                                MAX_SEQUENCE_LENGTH)\n",
    "        # Construct model callbacks, save the best models, and log metrics to file\n",
    "        logger_file_path = f'{OUTPUT_SCORES_DIR}{nth_iter_str}.{nth_fold_str}.scores.csv'\n",
    "        model_callbacks = build_model_callbacks(monitored_metric,\n",
    "                                                'min',\n",
    "                                                log_file_path, # progress\n",
    "                                                None, # model\n",
    "                                                logger_file_path, # logger\n",
    "                                                nth_fold,\n",
    "                                                N_SPLITS)\n",
    "        # Build the model\n",
    "        model = build_model(embedding_layer, MAX_SEQUENCE_LENGTH, random_model_params)    \n",
    "        # Save the model summary to file on the first fold only\n",
    "        # since the models are identical across folds\n",
    "        if nth_fold == 1:\n",
    "            save_model_summary(model, log_file_path)\n",
    "        \n",
    "        # Train the model\n",
    "        history = model.fit(X_train,\n",
    "                            y_train,\n",
    "                            batch_size=batch_size,\n",
    "                            epochs=training_num_epochs,\n",
    "                            verbose=1,\n",
    "                            callbacks=model_callbacks,\n",
    "                            validation_data=[X_valid, y_valid],\n",
    "                            shuffle=True)\n",
    "\n",
    "        # Save the scores for later evaluation\n",
    "        monitored_metric_fold_scores = history.history[monitored_metric]\n",
    "        # Save only the best validation loss\n",
    "        epoch_index = np.argmin(monitored_metric_fold_scores)\n",
    "        best_score_num_epochs.append(int(epoch_index + 1))\n",
    "        best_monitored_metric_score = monitored_metric_fold_scores[epoch_index]\n",
    "        best_scores_per_fold[monitored_metric].append(best_monitored_metric_score)\n",
    "\n",
    "        for metric in other_metrics:\n",
    "            other_metric_fold_scores = history.history[metric]\n",
    "            # Save only the corresponding current metric score for the\n",
    "            # best validation loss epoch\n",
    "            same_epoch_score = other_metric_fold_scores[epoch_index]\n",
    "            best_scores_per_fold[metric].append(same_epoch_score)\n",
    "\n",
    "        # Construct a classification report and confusion matrix\n",
    "        print('Making predictions...')\n",
    "        pred_start = time()\n",
    "        y_pred = model.predict(X_valid, batch_size=batch_size, verbose=0)\n",
    "        pred_elapsed, pred_elapsed_str = get_time_elapsed(pred_start)\n",
    "        pred_runtimes.append(pred_elapsed)\n",
    "        pred_runtime_strs.append(pred_elapsed_str)\n",
    "\n",
    "        print('Writing classification summary to file...')\n",
    "        save_classification_summary(y_valid,\n",
    "                                    y_pred,\n",
    "                                    [0, 1, 2],\n",
    "                                    ['EAP', 'HPL', 'MWS'],\n",
    "                                    log_file_path,\n",
    "                                    mode='a')\n",
    "\n",
    "    print('Writing CV results and runtime summary to file...')\n",
    "    # Calculate the mean and standard deviation across all folds' best scores\n",
    "    summary_lines = 'CV Results Summary:'\n",
    "    for metric in all_metrics:\n",
    "        mean = np.mean(best_scores_per_fold[metric])\n",
    "        std = np.std(best_scores_per_fold[metric])\n",
    "        summary_lines += f'\\n- {metric} mean and std: {mean:.5f} (+/- {std:.5f})'\n",
    "    monitored_mean = np.mean(best_scores_per_fold[monitored_metric])\n",
    "    summary_file_path = (f'{OUTPUT_SUMMARIES_DIR}{monitored_mean:.5f}.'\n",
    "                         f'{nth_iter_str}.summary.txt')\n",
    "    \n",
    "    # Calculate the suggested number of epochs to train for\n",
    "    # using the entire training dataset\n",
    "    final_num_epochs = np.mean(best_score_num_epochs)\n",
    "    # We take the ceiling because it's better to train for\n",
    "    # a little longer than to underfit\n",
    "    final_num_epochs = int(np.ceil(final_num_epochs))\n",
    "    summary_lines += f'\\n\\nfinal_num_epochs = {final_num_epochs}\\n\\n'\n",
    "    \n",
    "    # Save the best epochs per fold\n",
    "    best_epochs_str = json.dumps(best_score_num_epochs)\n",
    "    summary_lines += f'best_score_num_epochs = {best_epochs_str}\\n\\n'\n",
    "    \n",
    "    # Save the best scores per fold\n",
    "    best_scores_str = json.dumps(best_scores_per_fold, indent=4)\n",
    "    summary_lines += f'best_scores_per_fold = {best_scores_str}\\n\\n'\n",
    "    \n",
    "    # Calculate the total and average runtimes across all folds\n",
    "    training_elapsed, training_elapsed_str = get_time_elapsed(training_start)\n",
    "    training_fold_elapsed_str = format_time_str(training_elapsed / N_SPLITS)\n",
    "    pred_elapsed = np.sum(pred_runtimes)\n",
    "    pred_elapsed_str = format_time_str(pred_elapsed)\n",
    "    pred_fold_elapsed_str = format_time_str(pred_elapsed / N_SPLITS)\n",
    "    summary_lines += (f'Total stratified {N_SPLITS}-fold loop runtime: '\n",
    "                      f'{training_elapsed_str}\\n'\n",
    "                      f'Average training runtime per fold: '\n",
    "                      f'{training_fold_elapsed_str}\\n\\n'\n",
    "                      f'Total stratified {N_SPLITS}-fold prediction runtime: '\n",
    "                      f'{pred_elapsed_str}\\n'\n",
    "                      f'Average prediction runtime per fold: '\n",
    "                      f'{pred_fold_elapsed_str}\\n')\n",
    "    for f, time_str in enumerate(pred_runtime_strs):\n",
    "        summary_lines += f'\\nFold {f + 1} prediction runtime: {time_str}'\n",
    "    \n",
    "    save_line_to_file(summary_lines, summary_file_path, 'w')\n",
    "    "
   ]
  },
  {
   "cell_type": "markdown",
   "metadata": {},
   "source": [
    "### Evaluate the results"
   ]
  },
  {
   "cell_type": "code",
   "execution_count": 42,
   "metadata": {},
   "outputs": [],
   "source": [
    "# Set these variables to an existing output file\n",
    "nth_iter = 2\n",
    "nth_fold = 1\n",
    "iter_fold_scores = pd.read_csv(f'{OUTPUT_SCORES_DIR}iter_{nth_iter:02d}.'\n",
    "                               f'fold_{nth_fold:02d}.scores.csv')"
   ]
  },
  {
   "cell_type": "code",
   "execution_count": 43,
   "metadata": {},
   "outputs": [
    {
     "data": {
      "image/png": "[encoded data removed]",
      "text/plain": [
       "<Figure size 432x288 with 1 Axes>"
      ]
     },
     "metadata": {},
     "output_type": "display_data"
    }
   ],
   "source": [
    "# Pass in a metric (without the `val_` prefix) and a fold index to show\n",
    "# the training and validation error curves over the number of epochs\n",
    "display_metric_vs_epochs_plot(iter_fold_scores, 'loss', nth_iter, nth_fold)"
   ]
  },
  {
   "cell_type": "code",
   "execution_count": 44,
   "metadata": {},
   "outputs": [
    {
     "data": {
      "image/png": "[encoded data removed]",
      "text/plain": [
       "<Figure size 432x288 with 1 Axes>"
      ]
     },
     "metadata": {},
     "output_type": "display_data"
    }
   ],
   "source": [
    "display_metric_vs_epochs_plot(iter_fold_scores, 'acc', nth_iter, nth_fold)"
   ]
  },
  {
   "cell_type": "markdown",
   "metadata": {},
   "source": [
    "### Make predictions on the test data\n",
    "In order to make predictions on the Kaggle-provided unlabeled test data, we will need to submit our predictions to Kaggle. It would be best to train on the entire training set; this means that, this time, we won't provide a validation set to the Keras model.\n",
    "\n",
    "How do we know how many epochs to train for? To figure this out, we can use the results from the cross validation phase. Since we have recorded the number of epochs that each fold took to train the model before stopping, we can take the average number of epochs across all folds and use that as the number of epochs to train our final model."
   ]
  },
  {
   "cell_type": "markdown",
   "metadata": {},
   "source": [
    "#### Train the model"
   ]
  },
  {
   "cell_type": "code",
   "execution_count": 45,
   "metadata": {},
   "outputs": [],
   "source": [
    "# Set this to the best number of epochs based on the evaluation phase\n",
    "final_num_epochs = 2"
   ]
  },
  {
   "cell_type": "code",
   "execution_count": 46,
   "metadata": {},
   "outputs": [],
   "source": [
    "# Select the best model params based on the evaluation phase\n",
    "best_iter = 2\n",
    "final_model_params = load_dictionary_from_file(f'{OUTPUT_MODELS_DIR}'\n",
    "                                               f'iter_{best_iter:02d}.params.json')\n",
    "final_batch_size = final_model_params['batch_size']"
   ]
  },
  {
   "cell_type": "code",
   "execution_count": 47,
   "metadata": {},
   "outputs": [],
   "source": [
    "# Build the embedding layer\n",
    "embedding_layer = build_embedding_layer(embedding_matrix, \n",
    "                                        vocab_size, \n",
    "                                        EMBEDDING_DIM, \n",
    "                                        MAX_SEQUENCE_LENGTH)\n",
    "# Build the model with the best model params\n",
    "model = build_model(embedding_layer, MAX_SEQUENCE_LENGTH, final_model_params)\n",
    "# Save the model architecture, weights, and optimizer state to file\n",
    "model.save(f'{OUTPUT_MODELS_DIR}final.model.hdf5')\n",
    "# Save the model summary to file\n",
    "save_model_summary(model, f'{OUTPUT_SUMMARIES_DIR}final.model_summary.txt')"
   ]
  },
  {
   "cell_type": "code",
   "execution_count": 48,
   "metadata": {},
   "outputs": [
    {
     "name": "stdout",
     "output_type": "stream",
     "text": [
      "Epoch 1/2\n",
      "19579/19579 [==============================] - 3s 176us/step - loss: 0.7829 - acc: 0.6566\n",
      "Epoch 2/2\n",
      "19579/19579 [==============================] - 2s 91us/step - loss: 0.5093 - acc: 0.7920\n"
     ]
    }
   ],
   "source": [
    "# Train the model\n",
    "history = model.fit(X_train_tokenized,\n",
    "                    y_train_encoded,\n",
    "                    batch_size=final_batch_size,\n",
    "                    epochs=final_num_epochs,\n",
    "                    verbose=1,\n",
    "                    shuffle=True)"
   ]
  },
  {
   "cell_type": "markdown",
   "metadata": {},
   "source": [
    "#### Make predictions on the test data"
   ]
  },
  {
   "cell_type": "code",
   "execution_count": 49,
   "metadata": {},
   "outputs": [
    {
     "name": "stdout",
     "output_type": "stream",
     "text": [
      "8392/8392 [==============================] - 1s 112us/step\n"
     ]
    }
   ],
   "source": [
    "predictions = model.predict(X_test_tokenized, batch_size=final_batch_size, verbose=1)"
   ]
  },
  {
   "cell_type": "code",
   "execution_count": 50,
   "metadata": {},
   "outputs": [
    {
     "data": {
      "text/plain": [
       "array([[1.9084943e-02, 4.8772232e-03, 9.7603786e-01],\n",
       "       [4.8529705e-01, 4.2202798e-01, 9.2675008e-02],\n",
       "       [9.9236197e-05, 9.9987352e-01, 2.7155940e-05]], dtype=float32)"
      ]
     },
     "execution_count": 50,
     "metadata": {},
     "output_type": "execute_result"
    }
   ],
   "source": [
    "# Check the final submission values\n",
    "predictions[0:3]"
   ]
  },
  {
   "cell_type": "markdown",
   "metadata": {},
   "source": [
    "#### Create a submission CSV"
   ]
  },
  {
   "cell_type": "code",
   "execution_count": 51,
   "metadata": {},
   "outputs": [],
   "source": [
    "submission[['EAP', 'HPL', 'MWS']] = predictions\n",
    "submission.to_csv(f'{OUTPUT_SUBMISSIONS_DIR}001_submission.csv', index=False)"
   ]
  },
  {
   "cell_type": "markdown",
   "metadata": {},
   "source": [
    "### Evaluate the average logloss of the Kaggle submission\n",
    "After submitting to Kaggle, we can calculate the average logloss across the entire test dataset as follows:\n",
    "```\n",
    "Given:\n",
    "    n_test = 8392\n",
    "    %_private = 0.7\n",
    "    %_public = 0.3\n",
    "Average logloss = (private_logloss * n_private + public_logloss * n_public) / n_test\n",
    "                = (private_logloss * (%_private * n_test)\n",
    "                  + public_logloss * (%_public * n_test))\n",
    "                  / n_test\n",
    "Where n_test = n_private + n_public\n",
    "```"
   ]
  },
  {
   "cell_type": "code",
   "execution_count": null,
   "metadata": {},
   "outputs": [],
   "source": []
  }
 ],
 "metadata": {
  "kernelspec": {
   "display_name": "authorid-test",
   "language": "python",
   "name": "authorid-test"
  },
  "language_info": {
   "codemirror_mode": {
    "name": "ipython",
    "version": 3
   },
   "file_extension": ".py",
   "mimetype": "text/x-python",
   "name": "python",
   "nbconvert_exporter": "python",
   "pygments_lexer": "ipython3",
   "version": "3.6.5"
  }
 },
 "nbformat": 4,
 "nbformat_minor": 2
}
