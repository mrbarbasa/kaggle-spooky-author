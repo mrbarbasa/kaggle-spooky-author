{
 "cells": [
  {
   "cell_type": "markdown",
   "metadata": {},
   "source": [
    "# Spooky Author Identification: GloVe CNN Model"
   ]
  },
  {
   "cell_type": "markdown",
   "metadata": {},
   "source": [
    "## Implementation"
   ]
  },
  {
   "cell_type": "markdown",
   "metadata": {},
   "source": [
    "### Import packages"
   ]
  },
  {
   "cell_type": "code",
   "execution_count": 1,
   "metadata": {},
   "outputs": [],
   "source": [
    "%matplotlib inline\n",
    "%load_ext autoreload\n",
    "%autoreload 2"
   ]
  },
  {
   "cell_type": "code",
   "execution_count": 2,
   "metadata": {},
   "outputs": [
    {
     "name": "stderr",
     "output_type": "stream",
     "text": [
      "Using TensorFlow backend.\n"
     ]
    }
   ],
   "source": [
    "from packages import *"
   ]
  },
  {
   "cell_type": "code",
   "execution_count": 146,
   "metadata": {},
   "outputs": [],
   "source": [
    "MODEL_NAME = 'glove_cnn'\n",
    "\n",
    "INPUT_DIR = '../input/'\n",
    "TRAIN_FILE_PATH = f'{INPUT_DIR}train.csv'\n",
    "TEST_FILE_PATH = f'{INPUT_DIR}test.csv'\n",
    "SAMPLE_SUBMISSION_FILE_PATH = f'{INPUT_DIR}sample_submission.csv'\n",
    "\n",
    "SUBMISSIONS_DIR = '../submissions/'\n",
    "\n",
    "EMBEDDINGS_DIR = f'{INPUT_DIR}embeddings/'\n",
    "EMBEDDINGS_FILE_PATH = f'{EMBEDDINGS_DIR}glove.840B.300d.txt'\n",
    "\n",
    "OUTPUT_DIR = '../output/'\n",
    "OUTPUT_LOGS_DIR = f'{OUTPUT_DIR}{MODEL_NAME}/logs/'\n",
    "OUTPUT_MODELS_DIR = f'{OUTPUT_DIR}{MODEL_NAME}/models/'\n",
    "OUTPUT_SUMMARIES_DIR = f'{OUTPUT_DIR}{MODEL_NAME}/summaries/'\n",
    "\n",
    "# Create the output directories if they do not exist (the `_` is necessary\n",
    "# in order to create intermediate directories and is itself not created)\n",
    "os.makedirs(os.path.dirname(f'{OUTPUT_LOGS_DIR}_'), exist_ok=True)\n",
    "os.makedirs(os.path.dirname(f'{OUTPUT_MODELS_DIR}_'), exist_ok=True)\n",
    "os.makedirs(os.path.dirname(f'{OUTPUT_SUMMARIES_DIR}_'), exist_ok=True)\n",
    "\n",
    "EMBEDDING_DIM = 300\n",
    "MAX_FEATURES = None # The top most common words if an integer; otherwise, all words are used\n",
    "MAX_SEQUENCE_LENGTH = 128\n",
    "N_SPLITS = 10\n",
    "\n",
    "# Fix a random seed for reproducibility\n",
    "SEED = 42\n",
    "np.random.seed(SEED)"
   ]
  },
  {
   "cell_type": "markdown",
   "metadata": {},
   "source": [
    "### Load data"
   ]
  },
  {
   "cell_type": "code",
   "execution_count": 4,
   "metadata": {},
   "outputs": [],
   "source": [
    "train, test, submission = load_data(TRAIN_FILE_PATH, \n",
    "                                    TEST_FILE_PATH, \n",
    "                                    SAMPLE_SUBMISSION_FILE_PATH)"
   ]
  },
  {
   "cell_type": "markdown",
   "metadata": {},
   "source": [
    "### Preprocess text"
   ]
  },
  {
   "cell_type": "code",
   "execution_count": 149,
   "metadata": {},
   "outputs": [
    {
     "name": "stdout",
     "output_type": "stream",
     "text": [
      "Found 25943 unique tokens.\n"
     ]
    }
   ],
   "source": [
    "# Todo: Decide whether or not to perform custom text preprocessing beforehand\n",
    "# X_train_sequences = list(train['text'].apply(lambda x: process_text(x)).values)\n",
    "# X_test_sequences = list(test['text'].apply(lambda x: process_text(x)).values)\n",
    "X_train_sequences = list(train['text'].values)\n",
    "X_test_sequences = list(test['text'].values)\n",
    "\n",
    "# Tokenize and pad the sentences\n",
    "X_train_tokenized, X_test_tokenized, word_index = compute_word_index(X_train_sequences,\n",
    "                                                                     X_test_sequences,\n",
    "                                                                     MAX_FEATURES,\n",
    "                                                                     MAX_SEQUENCE_LENGTH)"
   ]
  },
  {
   "cell_type": "markdown",
   "metadata": {},
   "source": [
    "### Prepare the embedding layer\n",
    "These results will later be used during stratified k-fold to construct the embedding layer."
   ]
  },
  {
   "cell_type": "code",
   "execution_count": 6,
   "metadata": {
    "scrolled": true
   },
   "outputs": [
    {
     "name": "stderr",
     "output_type": "stream",
     "text": [
      "2196017it [02:05, 17504.59it/s]"
     ]
    },
    {
     "name": "stdout",
     "output_type": "stream",
     "text": [
      "Found 2196016 word vectors.\n"
     ]
    },
    {
     "name": "stderr",
     "output_type": "stream",
     "text": [
      "\n"
     ]
    }
   ],
   "source": [
    "embeddings_index = load_embeddings(EMBEDDINGS_FILE_PATH)"
   ]
  },
  {
   "cell_type": "code",
   "execution_count": 7,
   "metadata": {},
   "outputs": [
    {
     "name": "stdout",
     "output_type": "stream",
     "text": [
      "Number of vocabulary words not found in the pre-trained embeddings: 2761 of 25943 (10.64%)\n"
     ]
    }
   ],
   "source": [
    "embedding_matrix, vocab_size, num_unknown = construct_embedding_matrix(word_index, \n",
    "                                                                       embeddings_index, \n",
    "                                                                       EMBEDDING_DIM)\n",
    "# Here we subtract 1 from the vocab size because 1 has been added to the\n",
    "# actual number of tokens to account for masking in the embedding matrix\n",
    "unknown_word_percentage = (num_unknown / (vocab_size - 1)) * 100\n",
    "unknown_word_lines = ('Number of vocabulary words not found in the pre-trained embeddings: '\n",
    "                      f'{num_unknown} of {vocab_size - 1} '\n",
    "                      f'({unknown_word_percentage:.2f}%)')\n",
    "print(unknown_word_lines)\n",
    "preprocessing_file_path = f'{OUTPUT_LOGS_DIR}preprocessing.log.txt'\n",
    "save_line_to_file(unknown_word_lines, preprocessing_file_path, 'w')"
   ]
  },
  {
   "cell_type": "markdown",
   "metadata": {},
   "source": [
    "### Train the model\n",
    "Each model will be evaluated based on the logloss metric using either 5-fold or 10-fold cross validation; the lower the logloss, the better the model."
   ]
  },
  {
   "cell_type": "code",
   "execution_count": 8,
   "metadata": {},
   "outputs": [
    {
     "name": "stdout",
     "output_type": "stream",
     "text": [
      "Original class labels: ['EAP' 'HPL' 'MWS']\n"
     ]
    }
   ],
   "source": [
    "# The target classes need to be converted to integers so that\n",
    "# EAP --> 0\n",
    "# HPL --> 1\n",
    "# MWS --> 2\n",
    "y_train_integers = integer_encode_classes(train['author'].values)"
   ]
  },
  {
   "cell_type": "code",
   "execution_count": 9,
   "metadata": {},
   "outputs": [],
   "source": [
    "# The target classes need to be one-hot encoded so that\n",
    "# EAP --> 0 --> [1, 0, 0]\n",
    "# HPL --> 1 --> [0, 1, 0]\n",
    "# MWS --> 2 --> [0, 0, 1]\n",
    "y_train_encoded = one_hot_encode_classes(y_train_integers)"
   ]
  },
  {
   "cell_type": "code",
   "execution_count": 148,
   "metadata": {},
   "outputs": [],
   "source": [
    "# Import model-dependent files\n",
    "from models import build_embedding_layer, build_model_callbacks, save_model_summary\n",
    "from models import build_random_cnn_model as build_model"
   ]
  },
  {
   "cell_type": "code",
   "execution_count": 142,
   "metadata": {
    "scrolled": true
   },
   "outputs": [
    {
     "name": "stdout",
     "output_type": "stream",
     "text": [
      "\n",
      "----- Fold 1 of 10 -----\n",
      "Train on 17620 samples, validate on 1959 samples\n",
      "Epoch 1/100\n",
      "17620/17620 [==============================] - 23s 1ms/step - loss: 0.7664 - acc: 0.6593 - val_loss: 0.6309 - val_acc: 0.7310\n",
      "Epoch 2/100\n",
      "17620/17620 [==============================] - 9s 528us/step - loss: 0.6003 - acc: 0.7502 - val_loss: 0.5673 - val_acc: 0.7560\n",
      "Epoch 3/100\n",
      "17620/17620 [==============================] - 9s 528us/step - loss: 0.5146 - acc: 0.7904 - val_loss: 0.5260 - val_acc: 0.7754\n",
      "Epoch 4/100\n",
      "17620/17620 [==============================] - 9s 528us/step - loss: 0.4369 - acc: 0.8256 - val_loss: 0.5408 - val_acc: 0.7774\n",
      "Epoch 5/100\n",
      "17620/17620 [==============================] - 9s 522us/step - loss: 0.3764 - acc: 0.8514 - val_loss: 0.5096 - val_acc: 0.7963\n",
      "Epoch 6/100\n",
      "17620/17620 [==============================] - 9s 525us/step - loss: 0.3132 - acc: 0.8800 - val_loss: 0.4817 - val_acc: 0.8009\n",
      "Epoch 7/100\n",
      "17620/17620 [==============================] - 9s 529us/step - loss: 0.2558 - acc: 0.9052 - val_loss: 0.5197 - val_acc: 0.7912\n",
      "Epoch 8/100\n",
      "17620/17620 [==============================] - 9s 534us/step - loss: 0.1969 - acc: 0.9279 - val_loss: 0.5011 - val_acc: 0.8152\n",
      "Epoch 9/100\n",
      "17620/17620 [==============================] - 9s 530us/step - loss: 0.1619 - acc: 0.9423 - val_loss: 0.5545 - val_acc: 0.7928\n",
      "Epoch 00009: early stopping\n",
      "\n",
      "----- Fold 2 of 10 -----\n",
      "Train on 17620 samples, validate on 1959 samples\n",
      "Epoch 1/100\n",
      "17620/17620 [==============================] - 23s 1ms/step - loss: 0.7614 - acc: 0.6627 - val_loss: 0.6270 - val_acc: 0.7427\n",
      "Epoch 2/100\n",
      "17620/17620 [==============================] - 9s 525us/step - loss: 0.6014 - acc: 0.7468 - val_loss: 0.5613 - val_acc: 0.7682\n",
      "Epoch 3/100\n",
      "17620/17620 [==============================] - 9s 528us/step - loss: 0.5229 - acc: 0.7879 - val_loss: 0.5171 - val_acc: 0.7861\n",
      "Epoch 4/100\n",
      "17620/17620 [==============================] - 9s 522us/step - loss: 0.4497 - acc: 0.8205 - val_loss: 0.4803 - val_acc: 0.8091\n",
      "Epoch 5/100\n",
      "17620/17620 [==============================] - 9s 523us/step - loss: 0.3892 - acc: 0.8444 - val_loss: 0.4751 - val_acc: 0.8101\n",
      "Epoch 6/100\n",
      "17620/17620 [==============================] - 9s 522us/step - loss: 0.3186 - acc: 0.8779 - val_loss: 0.4690 - val_acc: 0.8132\n",
      "Epoch 7/100\n",
      "17620/17620 [==============================] - 9s 526us/step - loss: 0.2654 - acc: 0.8996 - val_loss: 0.4664 - val_acc: 0.8173\n",
      "Epoch 8/100\n",
      "17620/17620 [==============================] - 9s 523us/step - loss: 0.2058 - acc: 0.9246 - val_loss: 0.5012 - val_acc: 0.8127\n",
      "Epoch 9/100\n",
      "17620/17620 [==============================] - 9s 525us/step - loss: 0.1709 - acc: 0.9390 - val_loss: 0.5168 - val_acc: 0.8137\n",
      "Epoch 10/100\n",
      "17620/17620 [==============================] - 9s 525us/step - loss: 0.1316 - acc: 0.9540 - val_loss: 0.5099 - val_acc: 0.8229\n",
      "Epoch 00010: early stopping\n",
      "\n",
      "----- Fold 3 of 10 -----\n",
      "Train on 17620 samples, validate on 1959 samples\n",
      "Epoch 1/100\n",
      "17620/17620 [==============================] - 23s 1ms/step - loss: 0.7621 - acc: 0.6619 - val_loss: 0.6545 - val_acc: 0.7300\n",
      "Epoch 2/100\n",
      "17620/17620 [==============================] - 9s 528us/step - loss: 0.5920 - acc: 0.7548 - val_loss: 0.5851 - val_acc: 0.7575\n",
      "Epoch 3/100\n",
      "17620/17620 [==============================] - 9s 525us/step - loss: 0.5096 - acc: 0.7911 - val_loss: 0.5414 - val_acc: 0.7805\n",
      "Epoch 4/100\n",
      "17620/17620 [==============================] - 9s 524us/step - loss: 0.4396 - acc: 0.8230 - val_loss: 0.5668 - val_acc: 0.7642\n",
      "Epoch 5/100\n",
      "17620/17620 [==============================] - 9s 520us/step - loss: 0.3746 - acc: 0.8546 - val_loss: 0.5413 - val_acc: 0.7846\n",
      "Epoch 6/100\n",
      "17620/17620 [==============================] - 9s 525us/step - loss: 0.3111 - acc: 0.8812 - val_loss: 0.5206 - val_acc: 0.7948\n",
      "Epoch 7/100\n",
      "17620/17620 [==============================] - 9s 523us/step - loss: 0.2507 - acc: 0.9068 - val_loss: 0.5435 - val_acc: 0.7907\n",
      "Epoch 8/100\n",
      "17620/17620 [==============================] - 9s 523us/step - loss: 0.2088 - acc: 0.9238 - val_loss: 0.5489 - val_acc: 0.8025\n",
      "Epoch 9/100\n",
      "17620/17620 [==============================] - 9s 529us/step - loss: 0.1552 - acc: 0.9453 - val_loss: 0.5926 - val_acc: 0.7984\n",
      "Epoch 00009: early stopping\n",
      "\n",
      "----- Fold 4 of 10 -----\n",
      "Train on 17620 samples, validate on 1959 samples\n",
      "Epoch 1/100\n",
      "17620/17620 [==============================] - 23s 1ms/step - loss: 0.7569 - acc: 0.6656 - val_loss: 0.6255 - val_acc: 0.7351\n",
      "Epoch 2/100\n",
      "17620/17620 [==============================] - 9s 533us/step - loss: 0.5956 - acc: 0.7515 - val_loss: 0.5462 - val_acc: 0.7723\n",
      "Epoch 3/100\n",
      "17620/17620 [==============================] - 9s 537us/step - loss: 0.5154 - acc: 0.7916 - val_loss: 0.5047 - val_acc: 0.7933\n",
      "Epoch 4/100\n",
      "17620/17620 [==============================] - 9s 518us/step - loss: 0.4464 - acc: 0.8211 - val_loss: 0.4920 - val_acc: 0.7948\n",
      "Epoch 5/100\n",
      "17620/17620 [==============================] - 9s 520us/step - loss: 0.3759 - acc: 0.8516 - val_loss: 0.4531 - val_acc: 0.8127\n",
      "Epoch 6/100\n",
      "17620/17620 [==============================] - 9s 515us/step - loss: 0.3154 - acc: 0.8788 - val_loss: 0.4532 - val_acc: 0.8101\n",
      "Epoch 7/100\n",
      "17620/17620 [==============================] - 9s 519us/step - loss: 0.2527 - acc: 0.9072 - val_loss: 0.4742 - val_acc: 0.8070\n",
      "Epoch 8/100\n",
      "17620/17620 [==============================] - 9s 518us/step - loss: 0.2049 - acc: 0.9242 - val_loss: 0.4808 - val_acc: 0.8218\n",
      "Epoch 00008: early stopping\n",
      "\n",
      "----- Fold 5 of 10 -----\n",
      "Train on 17621 samples, validate on 1958 samples\n",
      "Epoch 1/100\n",
      "17621/17621 [==============================] - 23s 1ms/step - loss: 0.7661 - acc: 0.6605 - val_loss: 0.6103 - val_acc: 0.7508\n",
      "Epoch 2/100\n",
      "17621/17621 [==============================] - 9s 514us/step - loss: 0.6109 - acc: 0.7466 - val_loss: 0.5417 - val_acc: 0.7748\n",
      "Epoch 3/100\n",
      "17621/17621 [==============================] - 9s 517us/step - loss: 0.5176 - acc: 0.7894 - val_loss: 0.5179 - val_acc: 0.7891\n",
      "Epoch 4/100\n",
      "17621/17621 [==============================] - 9s 521us/step - loss: 0.4470 - acc: 0.8195 - val_loss: 0.4612 - val_acc: 0.8090\n",
      "Epoch 5/100\n",
      "17621/17621 [==============================] - 9s 514us/step - loss: 0.3851 - acc: 0.8481 - val_loss: 0.5091 - val_acc: 0.7978\n",
      "Epoch 6/100\n",
      "17621/17621 [==============================] - 9s 517us/step - loss: 0.3225 - acc: 0.8758 - val_loss: 0.4457 - val_acc: 0.8172\n",
      "Epoch 7/100\n",
      "17621/17621 [==============================] - 9s 517us/step - loss: 0.2565 - acc: 0.9036 - val_loss: 0.4961 - val_acc: 0.8187\n",
      "Epoch 8/100\n",
      "17621/17621 [==============================] - 9s 513us/step - loss: 0.2106 - acc: 0.9223 - val_loss: 0.4647 - val_acc: 0.8202\n",
      "Epoch 9/100\n",
      "17621/17621 [==============================] - 9s 518us/step - loss: 0.1616 - acc: 0.9421 - val_loss: 0.4793 - val_acc: 0.8289\n",
      "Epoch 00009: early stopping\n",
      "\n",
      "----- Fold 6 of 10 -----\n",
      "Train on 17622 samples, validate on 1957 samples\n",
      "Epoch 1/100\n",
      "17622/17622 [==============================] - 23s 1ms/step - loss: 0.7661 - acc: 0.6607 - val_loss: 0.6402 - val_acc: 0.7307\n",
      "Epoch 2/100\n",
      "17622/17622 [==============================] - 9s 521us/step - loss: 0.5989 - acc: 0.7508 - val_loss: 0.5729 - val_acc: 0.7670\n",
      "Epoch 3/100\n",
      "17622/17622 [==============================] - 9s 514us/step - loss: 0.5119 - acc: 0.7914 - val_loss: 0.5492 - val_acc: 0.7793\n",
      "Epoch 4/100\n",
      "17622/17622 [==============================] - 9s 520us/step - loss: 0.4375 - acc: 0.8259 - val_loss: 0.5375 - val_acc: 0.7966\n",
      "Epoch 5/100\n",
      "17622/17622 [==============================] - 9s 516us/step - loss: 0.3674 - acc: 0.8550 - val_loss: 0.5234 - val_acc: 0.7971\n",
      "Epoch 6/100\n",
      "17622/17622 [==============================] - 9s 520us/step - loss: 0.3062 - acc: 0.8826 - val_loss: 0.5553 - val_acc: 0.7920\n",
      "Epoch 7/100\n",
      "17622/17622 [==============================] - 9s 516us/step - loss: 0.2510 - acc: 0.9043 - val_loss: 0.5708 - val_acc: 0.7931\n",
      "Epoch 8/100\n",
      "17622/17622 [==============================] - 9s 515us/step - loss: 0.2012 - acc: 0.9262 - val_loss: 0.5634 - val_acc: 0.7910\n",
      "Epoch 00008: early stopping\n",
      "\n",
      "----- Fold 7 of 10 -----\n",
      "Train on 17622 samples, validate on 1957 samples\n",
      "Epoch 1/100\n",
      "17622/17622 [==============================] - 23s 1ms/step - loss: 0.7650 - acc: 0.6618 - val_loss: 0.6326 - val_acc: 0.7307\n"
     ]
    },
    {
     "name": "stdout",
     "output_type": "stream",
     "text": [
      "Epoch 2/100\n",
      "17622/17622 [==============================] - 9s 520us/step - loss: 0.5965 - acc: 0.7512 - val_loss: 0.5760 - val_acc: 0.7629\n",
      "Epoch 3/100\n",
      "17622/17622 [==============================] - 9s 520us/step - loss: 0.5167 - acc: 0.7876 - val_loss: 0.5561 - val_acc: 0.7685\n",
      "Epoch 4/100\n",
      "17622/17622 [==============================] - 9s 516us/step - loss: 0.4471 - acc: 0.8210 - val_loss: 0.5162 - val_acc: 0.7869\n",
      "Epoch 5/100\n",
      "17622/17622 [==============================] - 9s 520us/step - loss: 0.3766 - acc: 0.8536 - val_loss: 0.5179 - val_acc: 0.7920\n",
      "Epoch 6/100\n",
      "17622/17622 [==============================] - 9s 520us/step - loss: 0.3115 - acc: 0.8801 - val_loss: 0.4947 - val_acc: 0.8063\n",
      "Epoch 7/100\n",
      "17622/17622 [==============================] - 9s 522us/step - loss: 0.2593 - acc: 0.9056 - val_loss: 0.5105 - val_acc: 0.8028\n",
      "Epoch 8/100\n",
      "17622/17622 [==============================] - 9s 520us/step - loss: 0.1975 - acc: 0.9290 - val_loss: 0.5325 - val_acc: 0.8028\n",
      "Epoch 9/100\n",
      "17622/17622 [==============================] - 9s 522us/step - loss: 0.1562 - acc: 0.9436 - val_loss: 0.5612 - val_acc: 0.8068\n",
      "Epoch 00009: early stopping\n",
      "\n",
      "----- Fold 8 of 10 -----\n",
      "Train on 17622 samples, validate on 1957 samples\n",
      "Epoch 1/100\n",
      "17622/17622 [==============================] - 24s 1ms/step - loss: 0.7536 - acc: 0.6673 - val_loss: 0.6037 - val_acc: 0.7368\n",
      "Epoch 2/100\n",
      "17622/17622 [==============================] - 9s 536us/step - loss: 0.5973 - acc: 0.7480 - val_loss: 0.5498 - val_acc: 0.7655\n",
      "Epoch 3/100\n",
      "17622/17622 [==============================] - 10s 540us/step - loss: 0.5159 - acc: 0.7912 - val_loss: 0.4926 - val_acc: 0.7920\n",
      "Epoch 4/100\n",
      "17622/17622 [==============================] - 9s 530us/step - loss: 0.4439 - acc: 0.8186 - val_loss: 0.4640 - val_acc: 0.8114\n",
      "Epoch 5/100\n",
      "17622/17622 [==============================] - 9s 529us/step - loss: 0.3755 - acc: 0.8517 - val_loss: 0.4650 - val_acc: 0.8084\n",
      "Epoch 6/100\n",
      "17622/17622 [==============================] - 9s 526us/step - loss: 0.3177 - acc: 0.8784 - val_loss: 0.4778 - val_acc: 0.8063\n",
      "Epoch 7/100\n",
      "17622/17622 [==============================] - 9s 527us/step - loss: 0.2547 - acc: 0.9049 - val_loss: 0.4910 - val_acc: 0.8084\n",
      "Epoch 00007: early stopping\n",
      "\n",
      "----- Fold 9 of 10 -----\n",
      "Train on 17622 samples, validate on 1957 samples\n",
      "Epoch 1/100\n",
      "17622/17622 [==============================] - 24s 1ms/step - loss: 0.7608 - acc: 0.6638 - val_loss: 0.6585 - val_acc: 0.7251\n",
      "Epoch 2/100\n",
      "17622/17622 [==============================] - 9s 532us/step - loss: 0.5972 - acc: 0.7517 - val_loss: 0.5902 - val_acc: 0.7603\n",
      "Epoch 3/100\n",
      "17622/17622 [==============================] - 9s 534us/step - loss: 0.5109 - acc: 0.7920 - val_loss: 0.5652 - val_acc: 0.7721\n",
      "Epoch 4/100\n",
      "17622/17622 [==============================] - 10s 539us/step - loss: 0.4385 - acc: 0.8257 - val_loss: 0.5170 - val_acc: 0.7920\n",
      "Epoch 5/100\n",
      "17622/17622 [==============================] - 10s 551us/step - loss: 0.3735 - acc: 0.8535 - val_loss: 0.5548 - val_acc: 0.7828\n",
      "Epoch 6/100\n",
      "17622/17622 [==============================] - 10s 553us/step - loss: 0.3118 - acc: 0.8812 - val_loss: 0.5034 - val_acc: 0.7976\n",
      "Epoch 7/100\n",
      "17622/17622 [==============================] - 10s 543us/step - loss: 0.2512 - acc: 0.9047 - val_loss: 0.5340 - val_acc: 0.8068\n",
      "Epoch 8/100\n",
      "17622/17622 [==============================] - 9s 536us/step - loss: 0.2040 - acc: 0.9258 - val_loss: 0.5377 - val_acc: 0.8007\n",
      "Epoch 9/100\n",
      "17622/17622 [==============================] - 9s 536us/step - loss: 0.1550 - acc: 0.9451 - val_loss: 0.5770 - val_acc: 0.7971\n",
      "Epoch 00009: early stopping\n",
      "\n",
      "----- Fold 10 of 10 -----\n",
      "Train on 17622 samples, validate on 1957 samples\n",
      "Epoch 1/100\n",
      "17622/17622 [==============================] - 24s 1ms/step - loss: 0.7635 - acc: 0.6638 - val_loss: 0.6483 - val_acc: 0.7251\n",
      "Epoch 2/100\n",
      "17622/17622 [==============================] - 10s 539us/step - loss: 0.5970 - acc: 0.7522 - val_loss: 0.5470 - val_acc: 0.7808\n",
      "Epoch 3/100\n",
      "17622/17622 [==============================] - 10s 545us/step - loss: 0.5093 - acc: 0.7907 - val_loss: 0.5256 - val_acc: 0.7726\n",
      "Epoch 4/100\n",
      "17622/17622 [==============================] - 10s 540us/step - loss: 0.4311 - acc: 0.8289 - val_loss: 0.5124 - val_acc: 0.7920\n",
      "Epoch 5/100\n",
      "17622/17622 [==============================] - 10s 541us/step - loss: 0.3685 - acc: 0.8561 - val_loss: 0.4796 - val_acc: 0.8048\n",
      "Epoch 6/100\n",
      "17622/17622 [==============================] - 9s 535us/step - loss: 0.3068 - acc: 0.8796 - val_loss: 0.5008 - val_acc: 0.8053\n",
      "Epoch 7/100\n",
      "17622/17622 [==============================] - 10s 539us/step - loss: 0.2432 - acc: 0.9085 - val_loss: 0.4991 - val_acc: 0.8063\n",
      "Epoch 8/100\n",
      "17622/17622 [==============================] - 9s 528us/step - loss: 0.1993 - acc: 0.9276 - val_loss: 0.5175 - val_acc: 0.8058\n",
      "Epoch 00008: early stopping\n",
      "Writing runtime log to file...\n",
      "Writing CV results summary to file...\n"
     ]
    }
   ],
   "source": [
    "training_num_epochs = 100\n",
    "batch_size = 64 # 32, 64, 128, 256, 512\n",
    "\n",
    "kfold = StratifiedKFold(n_splits=N_SPLITS, shuffle=True, random_state=SEED)\n",
    "folds = kfold.split(X_train_tokenized, y_train_integers)\n",
    "\n",
    "monitored_metric = 'val_loss'\n",
    "other_metrics = ['val_acc', 'loss', 'acc']\n",
    "all_metrics = ['val_loss', 'val_acc', 'loss', 'acc']\n",
    "all_scores = {\n",
    "    'val_loss': [],\n",
    "    'val_acc': [],\n",
    "    'loss': [],\n",
    "    'acc': [],\n",
    "}\n",
    "best_scores_per_fold = {\n",
    "    'val_loss': [],\n",
    "    'val_acc': [],\n",
    "    'loss': [],\n",
    "    'acc': [],\n",
    "}\n",
    "# The number of training epochs that have passed at which\n",
    "# the best validation loss is recorded\n",
    "best_score_num_epochs = []\n",
    "# Runtime records\n",
    "pred_runtimes = []\n",
    "pred_runtime_strs = []\n",
    "training_start = time()\n",
    "\n",
    "for fold, (train_indices, valid_indices) in enumerate(folds):\n",
    "    # Print the current fold\n",
    "    nth_fold = fold + 1\n",
    "    nth_fold_str = f'fold_{nth_fold:02d}'\n",
    "    print(f'\\n----- Fold {nth_fold} of {N_SPLITS} -----')\n",
    "    \n",
    "    # Prepare the splits of data\n",
    "    X_train, y_train = X_train_tokenized[train_indices], y_train_encoded[train_indices]\n",
    "    X_valid, y_valid = X_train_tokenized[valid_indices], y_train_encoded[valid_indices]\n",
    "    \n",
    "    # Build the embedding layer\n",
    "    embedding_layer = build_embedding_layer(embedding_matrix, \n",
    "                                            vocab_size, \n",
    "                                            EMBEDDING_DIM, \n",
    "                                            MAX_SEQUENCE_LENGTH)\n",
    "    # Construct model callbacks, save the best models, and log metrics to file\n",
    "    progress_file_path = f'{OUTPUT_LOGS_DIR}metric_progress.log.txt'\n",
    "    model_file_path = f'{OUTPUT_MODELS_DIR}{nth_fold_str}.model.hdf5'\n",
    "    logger_file_path = f'{OUTPUT_LOGS_DIR}{nth_fold_str}.log.csv'\n",
    "    model_callbacks = build_model_callbacks(monitored_metric,\n",
    "                                            'min',\n",
    "                                            progress_file_path,\n",
    "                                            model_file_path,\n",
    "                                            logger_file_path,\n",
    "                                            nth_fold,\n",
    "                                            N_SPLITS)\n",
    "    # Build the model\n",
    "    model = build_model(embedding_layer, MAX_SEQUENCE_LENGTH)    \n",
    "    # Save the model summary to file on the first fold only\n",
    "    # since the models are identical across folds\n",
    "    if nth_fold == 1:\n",
    "        save_model_summary(model, f'{OUTPUT_SUMMARIES_DIR}cv.model_summary.txt')\n",
    "    # Train the model\n",
    "    history = model.fit(X_train,\n",
    "                        y_train,\n",
    "                        batch_size=batch_size,\n",
    "                        epochs=training_num_epochs,\n",
    "                        verbose=1,\n",
    "                        callbacks=model_callbacks,\n",
    "                        validation_data=[X_valid, y_valid],\n",
    "                        shuffle=True)\n",
    "    \n",
    "    # Save the scores for later evaluation\n",
    "    monitored_metric_fold_scores = history.history[monitored_metric]\n",
    "    all_scores[monitored_metric].append(monitored_metric_fold_scores)\n",
    "    # Save only the best validation loss\n",
    "    epoch_index = np.argmin(monitored_metric_fold_scores)\n",
    "    best_score_num_epochs.append(epoch_index + 1)\n",
    "    best_monitored_metric_score = monitored_metric_fold_scores[epoch_index]\n",
    "    best_scores_per_fold[monitored_metric].append(best_monitored_metric_score)\n",
    "    \n",
    "    for metric in other_metrics:\n",
    "        other_metric_fold_scores = history.history[metric]\n",
    "        all_scores[metric].append(other_metric_fold_scores)\n",
    "        # Save only the corresponding current metric score for the\n",
    "        # best validation loss epoch\n",
    "        same_epoch_score = other_metric_fold_scores[epoch_index]\n",
    "        best_scores_per_fold[metric].append(same_epoch_score)\n",
    "        \n",
    "    # Display a classification report and confusion matrix\n",
    "    print('Making predictions...')\n",
    "    pred_start = time()\n",
    "    y_pred = model.predict(X_valid, batch_size=batch_size, verbose=0)\n",
    "    pred_elapsed, pred_elapsed_str = get_time_elapsed(pred_start)\n",
    "    pred_runtimes.append(pred_elapsed)\n",
    "    pred_runtime_strs.append(pred_elapsed_str)\n",
    "    \n",
    "    print('Writing classification summary to file...')\n",
    "    classification_file_path = (f'{OUTPUT_SUMMARIES_DIR}'\n",
    "                                f'{nth_fold_str}.class_summary.txt')\n",
    "    save_classification_summary(y_valid,\n",
    "                                y_pred,\n",
    "                                [0, 1, 2],\n",
    "                                ['EAP', 'HPL', 'MWS'],\n",
    "                                classification_file_path)\n",
    "\n",
    "print('Writing runtime log to file...')\n",
    "training_elapsed, training_elapsed_str = get_time_elapsed(training_start)\n",
    "training_fold_elapsed_str = format_time_str(training_elapsed / N_SPLITS)\n",
    "pred_elapsed = np.sum(pred_runtimes)\n",
    "pred_elapsed_str = format_time_str(pred_elapsed)\n",
    "pred_fold_elapsed_str = format_time_str(pred_elapsed / N_SPLITS)\n",
    "runtime_lines = (f'Total stratified {N_SPLITS}-fold loop runtime: {training_elapsed_str}\\n'\n",
    "                 f'Average training runtime per fold: {training_fold_elapsed_str}\\n\\n'\n",
    "                 f'Total stratified {N_SPLITS}-fold prediction runtime: {pred_elapsed_str}\\n'\n",
    "                 f'Average prediction runtime per fold: {pred_fold_elapsed_str}\\n\\n')\n",
    "for f, time_str in enumerate(pred_runtime_strs):\n",
    "    runtime_lines += f'Fold {f + 1} prediction runtime: {time_str}\\n'\n",
    "runtime_file_path = f'{OUTPUT_LOGS_DIR}runtime.log.txt'\n",
    "save_line_to_file(runtime_lines, runtime_file_path, 'w')\n",
    "\n",
    "# Calculate the mean and standard deviation across all folds' best scores\n",
    "print('Writing CV results summary to file...')\n",
    "summary_lines = 'CV Results Summary:\\n'\n",
    "for metric in all_metrics:\n",
    "    mean = np.mean(best_scores_per_fold[metric])\n",
    "    std = np.std(best_scores_per_fold[metric])\n",
    "    summary_lines += f'- {metric} mean and std: {mean:.5f} (+/- {std:.5f})\\n'\n",
    "monitored_mean = np.mean(best_scores_per_fold[monitored_metric])\n",
    "summary_file_path = f'{OUTPUT_SUMMARIES_DIR}{monitored_mean:.5f}.results_summary.txt'\n",
    "save_line_to_file(summary_lines, summary_file_path, 'w')\n"
   ]
  },
  {
   "cell_type": "markdown",
   "metadata": {},
   "source": [
    "### Evaluate the results"
   ]
  },
  {
   "cell_type": "code",
   "execution_count": 126,
   "metadata": {},
   "outputs": [
    {
     "data": {
      "text/plain": [
       "\" Example:\\n{\\n    'val_loss': [[0.8656108248708684, 0.8480148858142459], # Fold 1, scores per epoch\\n    [0.8535823000075321, 0.8520218395263746]], # Fold 2, scores per epoch\\n\\n    'val_acc': [[0.6107252297776469, 0.6267620020916075],\\n    [0.6173255694620041, 0.6308100929066869]],\\n\\n    'loss': [[0.9227827079133659, 0.6396668943775261],\\n    [0.9183809885209135, 0.636743621745806]],\\n\\n    'acc': [[0.5735008681389172, 0.7408315457037562],\\n    [0.5728294178462978, 0.7402451480737867]]\\n}\\n\""
      ]
     },
     "execution_count": 126,
     "metadata": {},
     "output_type": "execute_result"
    }
   ],
   "source": [
    "# Note: There might be a different number of epochs per fold\n",
    "\"\"\" Example:\n",
    "{\n",
    "    'val_loss': [[0.8656108248708684, 0.8480148858142459], # Fold 1, scores per epoch\n",
    "    [0.8535823000075321, 0.8520218395263746]], # Fold 2, scores per epoch\n",
    "\n",
    "    'val_acc': [[0.6107252297776469, 0.6267620020916075],\n",
    "    [0.6173255694620041, 0.6308100929066869]],\n",
    "\n",
    "    'loss': [[0.9227827079133659, 0.6396668943775261],\n",
    "    [0.9183809885209135, 0.636743621745806]],\n",
    "\n",
    "    'acc': [[0.5735008681389172, 0.7408315457037562],\n",
    "    [0.5728294178462978, 0.7402451480737867]]\n",
    "}\n",
    "\"\"\"\n",
    "all_scores"
   ]
  },
  {
   "cell_type": "code",
   "execution_count": 127,
   "metadata": {},
   "outputs": [],
   "source": [
    "best_scores_per_fold"
   ]
  },
  {
   "cell_type": "code",
   "execution_count": 140,
   "metadata": {},
   "outputs": [
    {
     "data": {
      "text/plain": [
       "[6, 7, 6, 6, 8, 6, 7, 7, 7, 6]"
      ]
     },
     "execution_count": 140,
     "metadata": {},
     "output_type": "execute_result"
    }
   ],
   "source": [
    "best_score_num_epochs"
   ]
  },
  {
   "cell_type": "code",
   "execution_count": 131,
   "metadata": {},
   "outputs": [
    {
     "data": {
      "image/png": "[encoded data removed]",
      "text/plain": [
       "<Figure size 432x288 with 1 Axes>"
      ]
     },
     "metadata": {},
     "output_type": "display_data"
    }
   ],
   "source": [
    "# Pass in a metric (without the `val_` prefix) and a fold index to show\n",
    "# the training and validation error curves over the number of epochs\n",
    "display_metric_vs_epochs_plot(all_scores, 'loss', 3)"
   ]
  },
  {
   "cell_type": "code",
   "execution_count": 132,
   "metadata": {},
   "outputs": [
    {
     "data": {
      "image/png": "[encoded data removed]",
      "text/plain": [
       "<Figure size 432x288 with 1 Axes>"
      ]
     },
     "metadata": {},
     "output_type": "display_data"
    }
   ],
   "source": [
    "display_metric_vs_epochs_plot(all_scores, 'acc', 3)"
   ]
  },
  {
   "cell_type": "markdown",
   "metadata": {},
   "source": [
    "### Make predictions on the test data\n",
    "In order to make predictions on the Kaggle-provided unlabeled test data, we will need to submit our predictions to Kaggle. It would be best to train on the entire training set; this means that, this time, we won't provide a validation set to the Keras model.\n",
    "\n",
    "How do we know how many epochs to train for? To figure this out, we can use the results from the cross validation phase. Since we have recorded the number of epochs that each fold took to train the model before stopping, we can take the average number of epochs across all folds and use that as the number of epochs to train our final model."
   ]
  },
  {
   "cell_type": "markdown",
   "metadata": {},
   "source": [
    "#### Calculate the number of epochs to train for using the entire training dataset"
   ]
  },
  {
   "cell_type": "code",
   "execution_count": 18,
   "metadata": {},
   "outputs": [
    {
     "data": {
      "text/plain": [
       "[2, 1]"
      ]
     },
     "execution_count": 18,
     "metadata": {},
     "output_type": "execute_result"
    }
   ],
   "source": [
    "best_score_num_epochs"
   ]
  },
  {
   "cell_type": "code",
   "execution_count": 19,
   "metadata": {},
   "outputs": [
    {
     "data": {
      "text/plain": [
       "2"
      ]
     },
     "execution_count": 19,
     "metadata": {},
     "output_type": "execute_result"
    }
   ],
   "source": [
    "# Let's take the average number of epochs across all folds.\n",
    "final_num_epochs = np.mean(best_score_num_epochs)\n",
    "# We take the ceiling because it's better to train for a little longer than to underfit.\n",
    "final_num_epochs = np.ceil(final_num_epochs)\n",
    "# We need to cast it to an int before feeding it to `model.fit`.\n",
    "final_num_epochs = int(final_num_epochs)\n",
    "final_num_epochs"
   ]
  },
  {
   "cell_type": "markdown",
   "metadata": {},
   "source": [
    "#### Train the model"
   ]
  },
  {
   "cell_type": "code",
   "execution_count": 150,
   "metadata": {},
   "outputs": [],
   "source": [
    "from models import build_cnn_model"
   ]
  },
  {
   "cell_type": "code",
   "execution_count": 31,
   "metadata": {},
   "outputs": [],
   "source": [
    "# Build the embedding layer\n",
    "embedding_layer = build_embedding_layer(embedding_matrix, \n",
    "                                        vocab_size, \n",
    "                                        EMBEDDING_DIM, \n",
    "                                        MAX_SEQUENCE_LENGTH)\n",
    "# Build the model\n",
    "model = build_cnn_model(embedding_layer, MAX_SEQUENCE_LENGTH)\n",
    "# Save the model architecture, weights, and optimizer state to file\n",
    "model.save(f'{OUTPUT_MODELS_DIR}final.model.hdf5')\n",
    "# Save the model summary to file\n",
    "save_model_summary(model, f'{OUTPUT_SUMMARIES_DIR}final.model_summary.txt')"
   ]
  },
  {
   "cell_type": "code",
   "execution_count": 22,
   "metadata": {},
   "outputs": [
    {
     "name": "stdout",
     "output_type": "stream",
     "text": [
      "Epoch 1/2\n",
      "19579/19579 [==============================] - 26s 1ms/step - loss: 0.8842 - acc: 0.5964\n",
      "Epoch 2/2\n",
      "19579/19579 [==============================] - 27s 1ms/step - loss: 0.6554 - acc: 0.7255\n"
     ]
    }
   ],
   "source": [
    "# Train the model\n",
    "history = model.fit(X_train_tokenized,\n",
    "                    y_train_encoded,\n",
    "                    batch_size=batch_size,\n",
    "                    epochs=final_num_epochs,\n",
    "                    verbose=1,\n",
    "                    shuffle=True)"
   ]
  },
  {
   "cell_type": "markdown",
   "metadata": {},
   "source": [
    "#### Make predictions on the test data"
   ]
  },
  {
   "cell_type": "code",
   "execution_count": 23,
   "metadata": {},
   "outputs": [
    {
     "name": "stdout",
     "output_type": "stream",
     "text": [
      "8392/8392 [==============================] - 5s 619us/step\n"
     ]
    }
   ],
   "source": [
    "predictions = model.predict(X_test_tokenized, batch_size=batch_size, verbose=1)"
   ]
  },
  {
   "cell_type": "code",
   "execution_count": 24,
   "metadata": {},
   "outputs": [
    {
     "data": {
      "text/plain": [
       "array([[0.03579558, 0.01009183, 0.9541125 ],\n",
       "       [0.93095404, 0.06735893, 0.00168709],\n",
       "       [0.00521636, 0.9862598 , 0.00852381]], dtype=float32)"
      ]
     },
     "execution_count": 24,
     "metadata": {},
     "output_type": "execute_result"
    }
   ],
   "source": [
    "# Check the final submission values\n",
    "predictions[0:3]"
   ]
  },
  {
   "cell_type": "markdown",
   "metadata": {},
   "source": [
    "#### Create a submission CSV"
   ]
  },
  {
   "cell_type": "code",
   "execution_count": 27,
   "metadata": {},
   "outputs": [],
   "source": [
    "submission[['EAP', 'HPL', 'MWS']] = predictions\n",
    "submission.to_csv(f'{SUBMISSIONS_DIR}001_submission.csv', index=False)"
   ]
  },
  {
   "cell_type": "markdown",
   "metadata": {},
   "source": [
    "### Evaluate the average logloss of the Kaggle submission\n",
    "After submitting to Kaggle, we can calculate the average logloss across the entire test dataset as follows:\n",
    "```\n",
    "Given:\n",
    "    n_test = 8392\n",
    "    %_private = 0.7\n",
    "    %_public = 0.3\n",
    "Average logloss = (private_logloss * n_private + public_logloss * n_public) / n_test\n",
    "                = (private_logloss * (%_private * n_test)\n",
    "                  + public_logloss * (%_public * n_test))\n",
    "                  / n_test\n",
    "Where n_test = n_private + n_public\n",
    "```"
   ]
  },
  {
   "cell_type": "code",
   "execution_count": null,
   "metadata": {},
   "outputs": [],
   "source": []
  },
  {
   "cell_type": "markdown",
   "metadata": {},
   "source": [
    "## Refinement\n",
    "Run random search to tune certain hyperparameters for each algorithm for at least 60 iterations (but I’ll lower that number if it ends up taking way too long) in order to find the best model."
   ]
  },
  {
   "cell_type": "code",
   "execution_count": null,
   "metadata": {},
   "outputs": [],
   "source": []
  }
 ],
 "metadata": {
  "kernelspec": {
   "display_name": "authorid-test",
   "language": "python",
   "name": "authorid-test"
  },
  "language_info": {
   "codemirror_mode": {
    "name": "ipython",
    "version": 3
   },
   "file_extension": ".py",
   "mimetype": "text/x-python",
   "name": "python",
   "nbconvert_exporter": "python",
   "pygments_lexer": "ipython3",
   "version": "3.6.5"
  }
 },
 "nbformat": 4,
 "nbformat_minor": 2
}
