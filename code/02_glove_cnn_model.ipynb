{
 "cells": [
  {
   "cell_type": "markdown",
   "metadata": {},
   "source": [
    "# Spooky Author Identification: GloVe CNN Model"
   ]
  },
  {
   "cell_type": "markdown",
   "metadata": {},
   "source": [
    "## Implementation"
   ]
  },
  {
   "cell_type": "markdown",
   "metadata": {},
   "source": [
    "### Import packages"
   ]
  },
  {
   "cell_type": "code",
   "execution_count": 1,
   "metadata": {},
   "outputs": [],
   "source": [
    "%matplotlib inline\n",
    "%load_ext autoreload\n",
    "%autoreload 2"
   ]
  },
  {
   "cell_type": "code",
   "execution_count": 2,
   "metadata": {},
   "outputs": [
    {
     "name": "stderr",
     "output_type": "stream",
     "text": [
      "Using TensorFlow backend.\n"
     ]
    }
   ],
   "source": [
    "from packages import *"
   ]
  },
  {
   "cell_type": "code",
   "execution_count": 36,
   "metadata": {},
   "outputs": [],
   "source": [
    "MODEL_NAME = 'glove_cnn'\n",
    "\n",
    "INPUT_DIR = '../input/'\n",
    "TRAIN_FILE_PATH = f'{INPUT_DIR}train.csv'\n",
    "TEST_FILE_PATH = f'{INPUT_DIR}test.csv'\n",
    "SAMPLE_SUBMISSION_FILE_PATH = f'{INPUT_DIR}sample_submission.csv'\n",
    "\n",
    "EMBEDDINGS_DIR = f'{INPUT_DIR}embeddings/'\n",
    "EMBEDDINGS_FILE_PATH = f'{EMBEDDINGS_DIR}glove.840B.300d.txt'\n",
    "\n",
    "OUTPUT_DIR = '../output/'\n",
    "OUTPUT_LOGS_DIR = f'{OUTPUT_DIR}{MODEL_NAME}/logs/'\n",
    "OUTPUT_MODELS_DIR = f'{OUTPUT_DIR}{MODEL_NAME}/models/'\n",
    "OUTPUT_SCORES_DIR = f'{OUTPUT_DIR}{MODEL_NAME}/scores/'\n",
    "OUTPUT_SUBMISSIONS_DIR = f'{OUTPUT_DIR}{MODEL_NAME}/submissions/'\n",
    "OUTPUT_SUMMARIES_DIR = f'{OUTPUT_DIR}{MODEL_NAME}/summaries/'\n",
    "\n",
    "# Create the output directories if they do not exist (the `_` is necessary\n",
    "# in order to create intermediate directories and is itself not created)\n",
    "os.makedirs(os.path.dirname(f'{OUTPUT_LOGS_DIR}_'), exist_ok=True)\n",
    "os.makedirs(os.path.dirname(f'{OUTPUT_MODELS_DIR}_'), exist_ok=True)\n",
    "os.makedirs(os.path.dirname(f'{OUTPUT_SCORES_DIR}_'), exist_ok=True)\n",
    "os.makedirs(os.path.dirname(f'{OUTPUT_SUBMISSIONS_DIR}_'), exist_ok=True)\n",
    "os.makedirs(os.path.dirname(f'{OUTPUT_SUMMARIES_DIR}_'), exist_ok=True)\n",
    "\n",
    "EMBEDDING_DIM = 300\n",
    "MAX_FEATURES = None # The top most common words if an integer; otherwise, all words are used\n",
    "MAX_SEQUENCE_LENGTH = 128\n",
    "N_SPLITS = 10\n",
    "\n",
    "# Fix a random seed for reproducibility\n",
    "SEED = 42\n",
    "np.random.seed(SEED)"
   ]
  },
  {
   "cell_type": "markdown",
   "metadata": {},
   "source": [
    "### Load data"
   ]
  },
  {
   "cell_type": "code",
   "execution_count": 4,
   "metadata": {},
   "outputs": [],
   "source": [
    "train, test, submission = load_data(TRAIN_FILE_PATH, \n",
    "                                    TEST_FILE_PATH, \n",
    "                                    SAMPLE_SUBMISSION_FILE_PATH)"
   ]
  },
  {
   "cell_type": "markdown",
   "metadata": {},
   "source": [
    "### Preprocess text"
   ]
  },
  {
   "cell_type": "code",
   "execution_count": 5,
   "metadata": {},
   "outputs": [
    {
     "name": "stdout",
     "output_type": "stream",
     "text": [
      "Found 25943 unique tokens.\n"
     ]
    }
   ],
   "source": [
    "# Todo: Decide whether or not to perform custom text preprocessing beforehand\n",
    "# X_train_sequences = list(train['text'].apply(lambda x: process_text(x)).values)\n",
    "# X_test_sequences = list(test['text'].apply(lambda x: process_text(x)).values)\n",
    "X_train_sequences = list(train['text'].values)\n",
    "X_test_sequences = list(test['text'].values)\n",
    "\n",
    "# Tokenize and pad the sentences\n",
    "X_train_tokenized, X_test_tokenized, word_index = compute_word_index(X_train_sequences,\n",
    "                                                                     X_test_sequences,\n",
    "                                                                     MAX_FEATURES,\n",
    "                                                                     MAX_SEQUENCE_LENGTH)"
   ]
  },
  {
   "cell_type": "markdown",
   "metadata": {},
   "source": [
    "### Prepare the embedding layer\n",
    "These results will later be used during stratified k-fold to construct the embedding layer."
   ]
  },
  {
   "cell_type": "code",
   "execution_count": 6,
   "metadata": {
    "scrolled": true
   },
   "outputs": [
    {
     "name": "stderr",
     "output_type": "stream",
     "text": [
      "2196017it [02:06, 17390.89it/s]"
     ]
    },
    {
     "name": "stdout",
     "output_type": "stream",
     "text": [
      "Found 2196016 word vectors.\n"
     ]
    },
    {
     "name": "stderr",
     "output_type": "stream",
     "text": [
      "\n"
     ]
    }
   ],
   "source": [
    "embeddings_index = load_embeddings(EMBEDDINGS_FILE_PATH)"
   ]
  },
  {
   "cell_type": "code",
   "execution_count": 7,
   "metadata": {},
   "outputs": [
    {
     "name": "stdout",
     "output_type": "stream",
     "text": [
      "Number of vocabulary words not found in the pre-trained embeddings: 2761 of 25943 (10.64%)\n"
     ]
    }
   ],
   "source": [
    "embedding_matrix, vocab_size, num_unknown = construct_embedding_matrix(word_index, \n",
    "                                                                       embeddings_index, \n",
    "                                                                       EMBEDDING_DIM)\n",
    "# Here we subtract 1 from the vocab size because 1 has been added to the\n",
    "# actual number of tokens to account for masking in the embedding matrix\n",
    "unknown_word_percentage = (num_unknown / (vocab_size - 1)) * 100\n",
    "unknown_word_lines = ('Number of vocabulary words not found in the pre-trained embeddings: '\n",
    "                      f'{num_unknown} of {vocab_size - 1} '\n",
    "                      f'({unknown_word_percentage:.2f}%)')\n",
    "print(unknown_word_lines)\n",
    "preprocessing_file_path = f'{OUTPUT_LOGS_DIR}preprocessing.log.txt'\n",
    "save_line_to_file(unknown_word_lines, preprocessing_file_path, 'w')"
   ]
  },
  {
   "cell_type": "markdown",
   "metadata": {},
   "source": [
    "### Train the model\n",
    "Each model will be evaluated based on the logloss metric using either 5-fold or 10-fold cross validation; the lower the logloss, the better the model."
   ]
  },
  {
   "cell_type": "code",
   "execution_count": 8,
   "metadata": {},
   "outputs": [
    {
     "name": "stdout",
     "output_type": "stream",
     "text": [
      "Original class labels: ['EAP' 'HPL' 'MWS']\n"
     ]
    }
   ],
   "source": [
    "# The target classes need to be converted to integers so that\n",
    "# EAP --> 0\n",
    "# HPL --> 1\n",
    "# MWS --> 2\n",
    "y_train_integers = integer_encode_classes(train['author'].values)"
   ]
  },
  {
   "cell_type": "code",
   "execution_count": 9,
   "metadata": {},
   "outputs": [],
   "source": [
    "# The target classes need to be one-hot encoded so that\n",
    "# EAP --> 0 --> [1, 0, 0]\n",
    "# HPL --> 1 --> [0, 1, 0]\n",
    "# MWS --> 2 --> [0, 0, 1]\n",
    "y_train_encoded = one_hot_encode_classes(y_train_integers)"
   ]
  },
  {
   "cell_type": "code",
   "execution_count": 27,
   "metadata": {},
   "outputs": [],
   "source": [
    "# Import model-dependent files\n",
    "from models import build_embedding_layer, build_model_callbacks, save_model_summary\n",
    "from models import get_random_cnn_params as get_random_model_params\n",
    "from models import build_cnn_model as build_model"
   ]
  },
  {
   "cell_type": "code",
   "execution_count": 55,
   "metadata": {
    "scrolled": true
   },
   "outputs": [
    {
     "name": "stdout",
     "output_type": "stream",
     "text": [
      "\n",
      "----- Iteration 1 of 2 -----\n",
      "Writing model params to file...\n",
      "\n",
      "----- Fold 1 of 2 -----\n",
      "Train on 9789 samples, validate on 9790 samples\n",
      "Epoch 1/100\n",
      "9789/9789 [==============================] - 3s 297us/step - loss: 1.0261 - acc: 0.4769 - val_loss: 0.9202 - val_acc: 0.5709\n",
      "Epoch 2/100\n",
      "9789/9789 [==============================] - 1s 55us/step - loss: 0.8868 - acc: 0.5964 - val_loss: 0.8020 - val_acc: 0.6453\n",
      "Epoch 3/100\n",
      "9789/9789 [==============================] - 1s 56us/step - loss: 0.8197 - acc: 0.6375 - val_loss: 0.7611 - val_acc: 0.6772\n",
      "Epoch 4/100\n",
      "9789/9789 [==============================] - 1s 55us/step - loss: 0.7771 - acc: 0.6608 - val_loss: 0.7282 - val_acc: 0.6866\n",
      "Epoch 5/100\n",
      "9789/9789 [==============================] - 1s 53us/step - loss: 0.7333 - acc: 0.6859 - val_loss: 0.7217 - val_acc: 0.6899\n",
      "Epoch 6/100\n",
      "9789/9789 [==============================] - 1s 54us/step - loss: 0.7070 - acc: 0.7024 - val_loss: 0.6991 - val_acc: 0.7031\n",
      "Epoch 7/100\n",
      "9789/9789 [==============================] - 1s 56us/step - loss: 0.6813 - acc: 0.7134 - val_loss: 0.6781 - val_acc: 0.7127\n",
      "Epoch 8/100\n",
      "9789/9789 [==============================] - 1s 54us/step - loss: 0.6591 - acc: 0.7254 - val_loss: 0.7024 - val_acc: 0.6984\n",
      "Epoch 9/100\n",
      "9789/9789 [==============================] - 1s 57us/step - loss: 0.6268 - acc: 0.7454 - val_loss: 0.6557 - val_acc: 0.7166\n",
      "Epoch 10/100\n",
      "9789/9789 [==============================] - 1s 54us/step - loss: 0.6170 - acc: 0.7432 - val_loss: 0.6953 - val_acc: 0.7009\n",
      "Epoch 11/100\n",
      "9789/9789 [==============================] - 1s 56us/step - loss: 0.5927 - acc: 0.7588 - val_loss: 0.6480 - val_acc: 0.7199\n",
      "Epoch 12/100\n",
      "9789/9789 [==============================] - 1s 56us/step - loss: 0.5779 - acc: 0.7670 - val_loss: 0.6639 - val_acc: 0.7181\n",
      "Epoch 13/100\n",
      "9789/9789 [==============================] - 1s 55us/step - loss: 0.5512 - acc: 0.7802 - val_loss: 0.6985 - val_acc: 0.7085\n",
      "Epoch 14/100\n",
      "9789/9789 [==============================] - 1s 56us/step - loss: 0.5407 - acc: 0.7822 - val_loss: 0.6322 - val_acc: 0.7331\n",
      "Epoch 15/100\n",
      "9789/9789 [==============================] - 1s 56us/step - loss: 0.5261 - acc: 0.7880 - val_loss: 0.6352 - val_acc: 0.7325\n",
      "Epoch 16/100\n",
      "9789/9789 [==============================] - 1s 55us/step - loss: 0.5124 - acc: 0.7955 - val_loss: 0.6537 - val_acc: 0.7240\n",
      "Epoch 17/100\n",
      "9789/9789 [==============================] - 1s 55us/step - loss: 0.5073 - acc: 0.7995 - val_loss: 0.6305 - val_acc: 0.7334\n",
      "Epoch 18/100\n",
      "9789/9789 [==============================] - 1s 55us/step - loss: 0.4946 - acc: 0.8014 - val_loss: 0.6728 - val_acc: 0.7240\n",
      "Epoch 19/100\n",
      "9789/9789 [==============================] - 1s 55us/step - loss: 0.4813 - acc: 0.8093 - val_loss: 0.7050 - val_acc: 0.7170\n",
      "Epoch 20/100\n",
      "9789/9789 [==============================] - 1s 54us/step - loss: 0.4708 - acc: 0.8113 - val_loss: 0.6868 - val_acc: 0.7221\n",
      "Epoch 00020: early stopping\n",
      "Making predictions...\n",
      "Writing classification summary to file...\n",
      "\n",
      "----- Fold 2 of 2 -----\n",
      "Train on 9790 samples, validate on 9789 samples\n",
      "Epoch 1/100\n",
      "9790/9790 [==============================] - 3s 298us/step - loss: 1.0247 - acc: 0.4851 - val_loss: 0.8928 - val_acc: 0.6107\n",
      "Epoch 2/100\n",
      "9790/9790 [==============================] - 1s 57us/step - loss: 0.8840 - acc: 0.5959 - val_loss: 0.8128 - val_acc: 0.6618\n",
      "Epoch 3/100\n",
      "9790/9790 [==============================] - 1s 55us/step - loss: 0.8082 - acc: 0.6428 - val_loss: 0.7705 - val_acc: 0.6740\n",
      "Epoch 4/100\n",
      "9790/9790 [==============================] - 1s 54us/step - loss: 0.7647 - acc: 0.6751 - val_loss: 0.7171 - val_acc: 0.7014\n",
      "Epoch 5/100\n",
      "9790/9790 [==============================] - 1s 54us/step - loss: 0.7303 - acc: 0.6852 - val_loss: 0.6975 - val_acc: 0.7087\n",
      "Epoch 6/100\n",
      "9790/9790 [==============================] - 1s 51us/step - loss: 0.6981 - acc: 0.7013 - val_loss: 0.6808 - val_acc: 0.7124\n",
      "Epoch 7/100\n",
      "9790/9790 [==============================] - 1s 57us/step - loss: 0.6712 - acc: 0.7152 - val_loss: 0.6672 - val_acc: 0.7194\n",
      "Epoch 8/100\n",
      "9790/9790 [==============================] - 1s 53us/step - loss: 0.6528 - acc: 0.7230 - val_loss: 0.6623 - val_acc: 0.7186\n",
      "Epoch 9/100\n",
      "9790/9790 [==============================] - 1s 54us/step - loss: 0.6219 - acc: 0.7395 - val_loss: 0.6545 - val_acc: 0.7250\n",
      "Epoch 10/100\n",
      "9790/9790 [==============================] - 1s 54us/step - loss: 0.5983 - acc: 0.7523 - val_loss: 0.6505 - val_acc: 0.7277\n",
      "Epoch 11/100\n",
      "9790/9790 [==============================] - 1s 53us/step - loss: 0.5820 - acc: 0.7630 - val_loss: 0.6508 - val_acc: 0.7307\n",
      "Epoch 12/100\n",
      "9790/9790 [==============================] - 1s 53us/step - loss: 0.5573 - acc: 0.7678 - val_loss: 0.6583 - val_acc: 0.7265\n",
      "Epoch 13/100\n",
      "9790/9790 [==============================] - 1s 55us/step - loss: 0.5479 - acc: 0.7740 - val_loss: 0.6234 - val_acc: 0.7395\n",
      "Epoch 14/100\n",
      "9790/9790 [==============================] - 1s 52us/step - loss: 0.5301 - acc: 0.7816 - val_loss: 0.6312 - val_acc: 0.7410\n",
      "Epoch 15/100\n",
      "9790/9790 [==============================] - 1s 53us/step - loss: 0.5124 - acc: 0.7955 - val_loss: 0.6739 - val_acc: 0.7263\n",
      "Epoch 16/100\n",
      "9790/9790 [==============================] - 1s 53us/step - loss: 0.5119 - acc: 0.7908 - val_loss: 0.6284 - val_acc: 0.7421\n",
      "Epoch 00016: early stopping\n",
      "Making predictions...\n",
      "Writing classification summary to file...\n",
      "Writing CV results and runtime summary to file...\n",
      "\n",
      "----- Iteration 2 of 2 -----\n",
      "Writing model params to file...\n",
      "\n",
      "----- Fold 1 of 2 -----\n",
      "Train on 9789 samples, validate on 9790 samples\n",
      "Epoch 1/100\n",
      "9789/9789 [==============================] - 5s 498us/step - loss: 1.0681 - acc: 0.4123 - val_loss: 1.0225 - val_acc: 0.4459\n",
      "Epoch 2/100\n",
      "9789/9789 [==============================] - 2s 156us/step - loss: 0.9256 - acc: 0.5516 - val_loss: 0.8600 - val_acc: 0.5923\n",
      "Epoch 3/100\n",
      "9789/9789 [==============================] - 2s 158us/step - loss: 0.7297 - acc: 0.6888 - val_loss: 0.7735 - val_acc: 0.6547\n",
      "Epoch 4/100\n",
      "9789/9789 [==============================] - 2s 157us/step - loss: 0.4966 - acc: 0.8071 - val_loss: 0.6711 - val_acc: 0.7170\n",
      "Epoch 5/100\n",
      "9789/9789 [==============================] - 2s 158us/step - loss: 0.2834 - acc: 0.8971 - val_loss: 0.8685 - val_acc: 0.7025\n",
      "Epoch 6/100\n",
      "9789/9789 [==============================] - 2s 155us/step - loss: 0.1496 - acc: 0.9506 - val_loss: 0.8844 - val_acc: 0.7314\n",
      "Epoch 7/100\n",
      "9789/9789 [==============================] - 2s 156us/step - loss: 0.1055 - acc: 0.9654 - val_loss: 0.9363 - val_acc: 0.7399\n",
      "Epoch 00007: early stopping\n",
      "Making predictions...\n",
      "Writing classification summary to file...\n",
      "\n",
      "----- Fold 2 of 2 -----\n",
      "Train on 9790 samples, validate on 9789 samples\n",
      "Epoch 1/100\n",
      "9790/9790 [==============================] - 5s 498us/step - loss: 1.0819 - acc: 0.3964 - val_loss: 1.0818 - val_acc: 0.4035\n",
      "Epoch 2/100\n",
      "9790/9790 [==============================] - 2s 154us/step - loss: 0.9760 - acc: 0.4951 - val_loss: 0.8770 - val_acc: 0.5563\n",
      "Epoch 3/100\n",
      "9790/9790 [==============================] - 2s 155us/step - loss: 0.7976 - acc: 0.6045 - val_loss: 0.8344 - val_acc: 0.6446\n",
      "Epoch 4/100\n",
      "9790/9790 [==============================] - 2s 155us/step - loss: 0.6018 - acc: 0.7469 - val_loss: 0.6951 - val_acc: 0.7094\n",
      "Epoch 5/100\n",
      "9790/9790 [==============================] - 2s 156us/step - loss: 0.3953 - acc: 0.8485 - val_loss: 0.6791 - val_acc: 0.7483\n",
      "Epoch 6/100\n",
      "9790/9790 [==============================] - 2s 155us/step - loss: 0.3031 - acc: 0.8928 - val_loss: 0.6848 - val_acc: 0.7557\n",
      "Epoch 7/100\n",
      "9790/9790 [==============================] - 2s 155us/step - loss: 0.1441 - acc: 0.9523 - val_loss: 1.0393 - val_acc: 0.7383\n",
      "Epoch 8/100\n",
      "9790/9790 [==============================] - 2s 155us/step - loss: 0.0764 - acc: 0.9753 - val_loss: 1.0745 - val_acc: 0.7563\n",
      "Epoch 00008: early stopping\n",
      "Making predictions...\n",
      "Writing classification summary to file...\n",
      "Writing CV results and runtime summary to file...\n"
     ]
    }
   ],
   "source": [
    "# Random search\n",
    "\n",
    "training_num_epochs = 100 # With early stopping in place\n",
    "num_random_search_iter = 2 # Todo: Change to 60\n",
    "N_SPLITS = 2 # Todo: Remove this line\n",
    "\n",
    "# Calculate the k-fold splits (same splits across all iterations)\n",
    "kfold = StratifiedKFold(n_splits=N_SPLITS, shuffle=True, random_state=SEED)\n",
    "\n",
    "# Randomly search for the best model using 10-fold cross validation for each iteration.\n",
    "# Note: Before re-running this cell, you might want to delete the existing files in the\n",
    "# `OUTPUT_SUMMARIES_DIR` folder, since the files within might not get overwritten.\n",
    "for nth_iter in range(1, num_random_search_iter+1):\n",
    "    \n",
    "    # Start the training timer for the current iteration\n",
    "    training_start = time()\n",
    "    \n",
    "    nth_iter_str = f'iter_{nth_iter:02d}'\n",
    "    print(f'\\n----- Iteration {nth_iter} of {num_random_search_iter} -----')\n",
    "\n",
    "    # Metrics to monitor and record\n",
    "    monitored_metric = 'val_loss'\n",
    "    other_metrics = ['val_acc', 'loss', 'acc']\n",
    "    all_metrics = ['val_loss', 'val_acc', 'loss', 'acc']\n",
    "    \n",
    "    # The number of training epochs that have passed at which\n",
    "    # the best validation loss is recorded\n",
    "    best_score_num_epochs = []\n",
    "    \n",
    "    # The metric scores recorded from the epoch number at which\n",
    "    # the best validation loss is recorded.\n",
    "    # Note that each list should be `N_SPLITS` in length.\n",
    "    best_scores_per_fold = { 'val_loss': [], 'val_acc': [], 'loss': [], 'acc': [] }\n",
    "    \n",
    "    # Runtime records\n",
    "    pred_runtimes = []\n",
    "    pred_runtime_strs = []\n",
    "\n",
    "    # Retrieve the random model params for the current iteration\n",
    "    random_model_params = get_random_model_params()\n",
    "    batch_size = random_model_params['batch_size']\n",
    "    \n",
    "    print('Writing model params to file...')\n",
    "    params_file_path = f'{OUTPUT_MODELS_DIR}{nth_iter_str}.params.json'\n",
    "    save_dictionary_to_file(random_model_params, params_file_path)    \n",
    "    \n",
    "    # The model summary, improvement log, and classification summary file path\n",
    "    log_file_path = f'{OUTPUT_LOGS_DIR}{nth_iter_str}.log.txt'\n",
    "    \n",
    "    # Prepare the generator\n",
    "    folds = kfold.split(X_train_tokenized, y_train_integers)\n",
    "    \n",
    "    # Begin 10-fold cross validation for the current set of random model params\n",
    "    for fold, (train_indices, valid_indices) in enumerate(folds):\n",
    "        nth_fold = fold + 1\n",
    "        nth_fold_str = f'fold_{nth_fold:02d}'\n",
    "        print(f'\\n----- Fold {nth_fold} of {N_SPLITS} -----')\n",
    "\n",
    "        # Prepare the splits of data\n",
    "        X_train, y_train = X_train_tokenized[train_indices], y_train_encoded[train_indices]\n",
    "        X_valid, y_valid = X_train_tokenized[valid_indices], y_train_encoded[valid_indices]\n",
    "\n",
    "        # Build the embedding layer\n",
    "        embedding_layer = build_embedding_layer(embedding_matrix, \n",
    "                                                vocab_size, \n",
    "                                                EMBEDDING_DIM, \n",
    "                                                MAX_SEQUENCE_LENGTH)\n",
    "        # Construct model callbacks, save the best models, and log metrics to file\n",
    "        logger_file_path = f'{OUTPUT_SCORES_DIR}{nth_iter_str}.{nth_fold_str}.scores.csv'\n",
    "        model_callbacks = build_model_callbacks(monitored_metric,\n",
    "                                                'min',\n",
    "                                                log_file_path, # progress\n",
    "                                                None, # model\n",
    "                                                logger_file_path, # logger\n",
    "                                                nth_fold,\n",
    "                                                N_SPLITS)\n",
    "        # Build the model\n",
    "        model = build_model(embedding_layer, MAX_SEQUENCE_LENGTH, random_model_params)    \n",
    "        # Save the model summary to file on the first fold only\n",
    "        # since the models are identical across folds\n",
    "        if nth_fold == 1:\n",
    "            save_model_summary(model, log_file_path)\n",
    "        \n",
    "        # Train the model\n",
    "        history = model.fit(X_train,\n",
    "                            y_train,\n",
    "                            batch_size=batch_size,\n",
    "                            epochs=training_num_epochs,\n",
    "                            verbose=1,\n",
    "                            callbacks=model_callbacks,\n",
    "                            validation_data=[X_valid, y_valid],\n",
    "                            shuffle=True)\n",
    "\n",
    "        # Save the scores for later evaluation\n",
    "        monitored_metric_fold_scores = history.history[monitored_metric]\n",
    "        # Save only the best validation loss\n",
    "        epoch_index = np.argmin(monitored_metric_fold_scores)\n",
    "        best_score_num_epochs.append(int(epoch_index + 1))\n",
    "        best_monitored_metric_score = monitored_metric_fold_scores[epoch_index]\n",
    "        best_scores_per_fold[monitored_metric].append(best_monitored_metric_score)\n",
    "\n",
    "        for metric in other_metrics:\n",
    "            other_metric_fold_scores = history.history[metric]\n",
    "            # Save only the corresponding current metric score for the\n",
    "            # best validation loss epoch\n",
    "            same_epoch_score = other_metric_fold_scores[epoch_index]\n",
    "            best_scores_per_fold[metric].append(same_epoch_score)\n",
    "\n",
    "        # Construct a classification report and confusion matrix\n",
    "        print('Making predictions...')\n",
    "        pred_start = time()\n",
    "        y_pred = model.predict(X_valid, batch_size=batch_size, verbose=0)\n",
    "        pred_elapsed, pred_elapsed_str = get_time_elapsed(pred_start)\n",
    "        pred_runtimes.append(pred_elapsed)\n",
    "        pred_runtime_strs.append(pred_elapsed_str)\n",
    "\n",
    "        print('Writing classification summary to file...')\n",
    "        save_classification_summary(y_valid,\n",
    "                                    y_pred,\n",
    "                                    [0, 1, 2],\n",
    "                                    ['EAP', 'HPL', 'MWS'],\n",
    "                                    log_file_path,\n",
    "                                    mode='a')\n",
    "\n",
    "    print('Writing CV results and runtime summary to file...')\n",
    "    # Calculate the mean and standard deviation across all folds' best scores\n",
    "    summary_lines = 'CV Results Summary:'\n",
    "    for metric in all_metrics:\n",
    "        mean = np.mean(best_scores_per_fold[metric])\n",
    "        std = np.std(best_scores_per_fold[metric])\n",
    "        summary_lines += f'\\n- {metric} mean and std: {mean:.5f} (+/- {std:.5f})'\n",
    "    monitored_mean = np.mean(best_scores_per_fold[monitored_metric])\n",
    "    summary_file_path = (f'{OUTPUT_SUMMARIES_DIR}{monitored_mean:.5f}.'\n",
    "                         f'{nth_iter_str}.summary.txt')\n",
    "    \n",
    "    # Calculate the suggested number of epochs to train for\n",
    "    # using the entire training dataset\n",
    "    final_num_epochs = np.mean(best_score_num_epochs)\n",
    "    # We take the ceiling because it's better to train for\n",
    "    # a little longer than to underfit\n",
    "    final_num_epochs = int(np.ceil(final_num_epochs))\n",
    "    summary_lines += f'\\n\\nfinal_num_epochs = {final_num_epochs}\\n\\n'\n",
    "    \n",
    "    # Save the best epochs per fold\n",
    "    best_epochs_str = json.dumps(best_score_num_epochs)\n",
    "    summary_lines += f'best_score_num_epochs = {best_epochs_str}\\n\\n'\n",
    "    \n",
    "    # Save the best scores per fold\n",
    "    best_scores_str = json.dumps(best_scores_per_fold, indent=4)\n",
    "    summary_lines += f'best_scores_per_fold = {best_scores_str}\\n\\n'\n",
    "    \n",
    "    # Calculate the total and average runtimes across all folds\n",
    "    training_elapsed, training_elapsed_str = get_time_elapsed(training_start)\n",
    "    training_fold_elapsed_str = format_time_str(training_elapsed / N_SPLITS)\n",
    "    pred_elapsed = np.sum(pred_runtimes)\n",
    "    pred_elapsed_str = format_time_str(pred_elapsed)\n",
    "    pred_fold_elapsed_str = format_time_str(pred_elapsed / N_SPLITS)\n",
    "    summary_lines += (f'Total stratified {N_SPLITS}-fold loop runtime: '\n",
    "                      f'{training_elapsed_str}\\n'\n",
    "                      f'Average training runtime per fold: '\n",
    "                      f'{training_fold_elapsed_str}\\n\\n'\n",
    "                      f'Total stratified {N_SPLITS}-fold prediction runtime: '\n",
    "                      f'{pred_elapsed_str}\\n'\n",
    "                      f'Average prediction runtime per fold: '\n",
    "                      f'{pred_fold_elapsed_str}\\n')\n",
    "    for f, time_str in enumerate(pred_runtime_strs):\n",
    "        summary_lines += f'\\nFold {f + 1} prediction runtime: {time_str}'\n",
    "    \n",
    "    save_line_to_file(summary_lines, summary_file_path, 'w')\n",
    "    "
   ]
  },
  {
   "cell_type": "markdown",
   "metadata": {},
   "source": [
    "### Evaluate the results"
   ]
  },
  {
   "cell_type": "code",
   "execution_count": 59,
   "metadata": {},
   "outputs": [],
   "source": [
    "# Set these variables to an existing output file\n",
    "nth_iter = 1\n",
    "nth_fold = 2\n",
    "iter_fold_scores = pd.read_csv(f'{OUTPUT_SCORES_DIR}iter_{nth_iter:02d}.'\n",
    "                               f'fold_{nth_fold:02d}.scores.csv')"
   ]
  },
  {
   "cell_type": "code",
   "execution_count": 60,
   "metadata": {},
   "outputs": [
    {
     "data": {
      "image/png": "[encoded data removed]",
      "text/plain": [
       "<Figure size 432x288 with 1 Axes>"
      ]
     },
     "metadata": {},
     "output_type": "display_data"
    }
   ],
   "source": [
    "# Pass in a metric (without the `val_` prefix) and a fold index to show\n",
    "# the training and validation error curves over the number of epochs\n",
    "display_metric_vs_epochs_plot(iter_fold_scores, 'loss', nth_iter, nth_fold)"
   ]
  },
  {
   "cell_type": "code",
   "execution_count": 61,
   "metadata": {},
   "outputs": [
    {
     "data": {
      "image/png": "[encoded data removed]",
      "text/plain": [
       "<Figure size 432x288 with 1 Axes>"
      ]
     },
     "metadata": {},
     "output_type": "display_data"
    }
   ],
   "source": [
    "display_metric_vs_epochs_plot(iter_fold_scores, 'acc', nth_iter, nth_fold)"
   ]
  },
  {
   "cell_type": "markdown",
   "metadata": {},
   "source": [
    "### Make predictions on the test data\n",
    "In order to make predictions on the Kaggle-provided unlabeled test data, we will need to submit our predictions to Kaggle. It would be best to train on the entire training set; this means that, this time, we won't provide a validation set to the Keras model.\n",
    "\n",
    "How do we know how many epochs to train for? To figure this out, we can use the results from the cross validation phase. Since we have recorded the number of epochs that each fold took to train the model before stopping, we can take the average number of epochs across all folds and use that as the number of epochs to train our final model."
   ]
  },
  {
   "cell_type": "markdown",
   "metadata": {},
   "source": [
    "#### Train the model"
   ]
  },
  {
   "cell_type": "code",
   "execution_count": 62,
   "metadata": {},
   "outputs": [],
   "source": [
    "# Set this to the best number of epochs based on the evaluation phase\n",
    "final_num_epochs = 9"
   ]
  },
  {
   "cell_type": "code",
   "execution_count": 46,
   "metadata": {},
   "outputs": [],
   "source": [
    "# Select the best model params based on the evaluation phase\n",
    "best_iter = 2\n",
    "final_model_params = load_dictionary_from_file(f'{OUTPUT_MODELS_DIR}'\n",
    "                                               f'iter_{best_iter:02d}.params.json')\n",
    "final_batch_size = final_model_params['batch_size']"
   ]
  },
  {
   "cell_type": "code",
   "execution_count": 47,
   "metadata": {},
   "outputs": [],
   "source": [
    "# Build the embedding layer\n",
    "embedding_layer = build_embedding_layer(embedding_matrix, \n",
    "                                        vocab_size, \n",
    "                                        EMBEDDING_DIM, \n",
    "                                        MAX_SEQUENCE_LENGTH)\n",
    "# Build the model with the best model params\n",
    "model = build_model(embedding_layer, MAX_SEQUENCE_LENGTH, final_model_params)\n",
    "# Save the model architecture, weights, and optimizer state to file\n",
    "model.save(f'{OUTPUT_MODELS_DIR}final.model.hdf5')\n",
    "# Save the model summary to file\n",
    "save_model_summary(model, f'{OUTPUT_SUMMARIES_DIR}final.model_summary.txt')"
   ]
  },
  {
   "cell_type": "code",
   "execution_count": 48,
   "metadata": {},
   "outputs": [
    {
     "name": "stdout",
     "output_type": "stream",
     "text": [
      "Epoch 1/2\n",
      "19579/19579 [==============================] - 3s 176us/step - loss: 0.7829 - acc: 0.6566\n",
      "Epoch 2/2\n",
      "19579/19579 [==============================] - 2s 91us/step - loss: 0.5093 - acc: 0.7920\n"
     ]
    }
   ],
   "source": [
    "# Train the model\n",
    "history = model.fit(X_train_tokenized,\n",
    "                    y_train_encoded,\n",
    "                    batch_size=final_batch_size,\n",
    "                    epochs=final_num_epochs,\n",
    "                    verbose=1,\n",
    "                    shuffle=True)"
   ]
  },
  {
   "cell_type": "markdown",
   "metadata": {},
   "source": [
    "#### Make predictions on the test data"
   ]
  },
  {
   "cell_type": "code",
   "execution_count": 49,
   "metadata": {},
   "outputs": [
    {
     "name": "stdout",
     "output_type": "stream",
     "text": [
      "8392/8392 [==============================] - 1s 112us/step\n"
     ]
    }
   ],
   "source": [
    "predictions = model.predict(X_test_tokenized, batch_size=final_batch_size, verbose=1)"
   ]
  },
  {
   "cell_type": "code",
   "execution_count": 50,
   "metadata": {},
   "outputs": [
    {
     "data": {
      "text/plain": [
       "array([[1.9084943e-02, 4.8772232e-03, 9.7603786e-01],\n",
       "       [4.8529705e-01, 4.2202798e-01, 9.2675008e-02],\n",
       "       [9.9236197e-05, 9.9987352e-01, 2.7155940e-05]], dtype=float32)"
      ]
     },
     "execution_count": 50,
     "metadata": {},
     "output_type": "execute_result"
    }
   ],
   "source": [
    "# Check the final submission values\n",
    "predictions[0:3]"
   ]
  },
  {
   "cell_type": "markdown",
   "metadata": {},
   "source": [
    "#### Create a submission CSV"
   ]
  },
  {
   "cell_type": "code",
   "execution_count": 51,
   "metadata": {},
   "outputs": [],
   "source": [
    "submission[['EAP', 'HPL', 'MWS']] = predictions\n",
    "submission.to_csv(f'{OUTPUT_SUBMISSIONS_DIR}001_submission.csv', index=False)"
   ]
  },
  {
   "cell_type": "markdown",
   "metadata": {},
   "source": [
    "### Evaluate the mean logloss of the Kaggle submission\n",
    "After submitting to Kaggle, we can calculate the mean logloss across the entire test dataset as follows:\n",
    "```\n",
    "Given:\n",
    "    n_test = 8392\n",
    "    %_public = 0.3\n",
    "    %_private = 0.7\n",
    "    public_logloss # Retrieve from Kaggle after submission\n",
    "    private_logloss # Retrieve from Kaggle after submission\n",
    "    \n",
    "Mean logloss = (public_logloss * n_public + private_logloss * n_private) / n_test\n",
    "             = (public_logloss * (%_public * n_test)\n",
    "                + private_logloss * (%_private * n_test))\n",
    "               / n_test\n",
    "               \n",
    "Where n_test = n_public + n_private\n",
    "```"
   ]
  },
  {
   "cell_type": "markdown",
   "metadata": {},
   "source": [
    "#### Benchmark Model\n",
    "Our benchmark model is the sample submission file provided by Kaggle, in which the probability distribution across the three authors is the exact same per sample, such that their probabilities are proportional to the number of samples of said author's work in the training dataset (EAP at about 40%, HPL at about 29%, and MWS at about 31%)."
   ]
  },
  {
   "cell_type": "code",
   "execution_count": 67,
   "metadata": {},
   "outputs": [
    {
     "name": "stdout",
     "output_type": "stream",
     "text": [
      "8392\n",
      "2517.6\n",
      "5874.4\n"
     ]
    }
   ],
   "source": [
    "n_test = len(submission)\n",
    "n_public = n_test * 0.3\n",
    "n_private = n_test * 0.7\n",
    "print(n_test, n_public, n_private, sep='\\n')"
   ]
  },
  {
   "cell_type": "code",
   "execution_count": 68,
   "metadata": {},
   "outputs": [
    {
     "name": "stdout",
     "output_type": "stream",
     "text": [
      "Mean logloss for the benchmark model: 1.088255\n"
     ]
    }
   ],
   "source": [
    "public_logloss = 1.08199\n",
    "private_logloss = 1.09094\n",
    "mean_logloss = (public_logloss * n_public + private_logloss * n_private) / n_test\n",
    "print(f'Mean logloss for the benchmark model: {mean_logloss}')"
   ]
  },
  {
   "cell_type": "markdown",
   "metadata": {},
   "source": [
    "#### CNN Model"
   ]
  },
  {
   "cell_type": "code",
   "execution_count": null,
   "metadata": {},
   "outputs": [],
   "source": []
  }
 ],
 "metadata": {
  "kernelspec": {
   "display_name": "authorid-test",
   "language": "python",
   "name": "authorid-test"
  },
  "language_info": {
   "codemirror_mode": {
    "name": "ipython",
    "version": 3
   },
   "file_extension": ".py",
   "mimetype": "text/x-python",
   "name": "python",
   "nbconvert_exporter": "python",
   "pygments_lexer": "ipython3",
   "version": "3.6.5"
  }
 },
 "nbformat": 4,
 "nbformat_minor": 2
}
