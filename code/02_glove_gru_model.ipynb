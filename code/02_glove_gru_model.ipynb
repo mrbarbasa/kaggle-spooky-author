{
 "cells": [
  {
   "cell_type": "markdown",
   "metadata": {},
   "source": [
    "# Spooky Author Identification: GloVe GRU Model"
   ]
  },
  {
   "cell_type": "markdown",
   "metadata": {},
   "source": [
    "## Implementation"
   ]
  },
  {
   "cell_type": "markdown",
   "metadata": {},
   "source": [
    "### Import packages"
   ]
  },
  {
   "cell_type": "code",
   "execution_count": 1,
   "metadata": {},
   "outputs": [],
   "source": [
    "%matplotlib inline\n",
    "%load_ext autoreload\n",
    "%autoreload 2"
   ]
  },
  {
   "cell_type": "code",
   "execution_count": 12,
   "metadata": {},
   "outputs": [],
   "source": [
    "from packages import *"
   ]
  },
  {
   "cell_type": "code",
   "execution_count": 13,
   "metadata": {},
   "outputs": [],
   "source": [
    "MODEL_NAME = 'glove_gru'\n",
    "\n",
    "INPUT_DIR = '../input/'\n",
    "TRAIN_FILE_PATH = f'{INPUT_DIR}train.csv'\n",
    "TEST_FILE_PATH = f'{INPUT_DIR}test.csv'\n",
    "SAMPLE_SUBMISSION_FILE_PATH = f'{INPUT_DIR}sample_submission.csv'\n",
    "\n",
    "SUBMISSIONS_DIR = '../submissions/'\n",
    "\n",
    "EMBEDDINGS_DIR = f'{INPUT_DIR}embeddings/'\n",
    "GLOVE_EMBEDDINGS_FILE_PATH = f'{EMBEDDINGS_DIR}glove.6B.300d.txt' # Try `glove.840B.300d.txt`\n",
    "\n",
    "OUTPUT_DIR = '../output/'\n",
    "OUTPUT_LOGS_DIR = f'{OUTPUT_DIR}{MODEL_NAME}/logs/'\n",
    "OUTPUT_MODELS_DIR = f'{OUTPUT_DIR}{MODEL_NAME}/models/'\n",
    "OUTPUT_SUMMARIES_DIR = f'{OUTPUT_DIR}{MODEL_NAME}/summaries/'\n",
    "\n",
    "# Create the output directories if they do not exist (the `_` is necessary\n",
    "# in order to create intermediate directories and is itself not created)\n",
    "os.makedirs(os.path.dirname(f'{OUTPUT_LOGS_DIR}_'), exist_ok=True)\n",
    "os.makedirs(os.path.dirname(f'{OUTPUT_MODELS_DIR}_'), exist_ok=True)\n",
    "os.makedirs(os.path.dirname(f'{OUTPUT_SUMMARIES_DIR}_'), exist_ok=True)\n",
    "\n",
    "EMBEDDING_DIM = 300\n",
    "MAX_FEATURES = 12000 # The top most common words\n",
    "MAX_SEQUENCE_LENGTH = 900 # Since max number of words in a sentence is 861; try 34 as well\n",
    "N_SPLITS = 2\n",
    "\n",
    "# Fix a random seed for reproducibility\n",
    "SEED = 42\n",
    "np.random.seed(SEED)"
   ]
  },
  {
   "cell_type": "markdown",
   "metadata": {},
   "source": [
    "### Load data"
   ]
  },
  {
   "cell_type": "code",
   "execution_count": 4,
   "metadata": {},
   "outputs": [],
   "source": [
    "train, test, submission = load_data(TRAIN_FILE_PATH, \n",
    "                                    TEST_FILE_PATH, \n",
    "                                    SAMPLE_SUBMISSION_FILE_PATH)"
   ]
  },
  {
   "cell_type": "markdown",
   "metadata": {},
   "source": [
    "### Preprocess text"
   ]
  },
  {
   "cell_type": "code",
   "execution_count": 5,
   "metadata": {},
   "outputs": [
    {
     "name": "stdout",
     "output_type": "stream",
     "text": [
      "Found 25943 unique tokens.\n"
     ]
    }
   ],
   "source": [
    "# Todo: Decide whether or not to perform custom text preprocessing beforehand\n",
    "# X_train_sequences = list(train['text'].apply(lambda x: process_text(x)).values)\n",
    "# X_test_sequences = list(test['text'].apply(lambda x: process_text(x)).values)\n",
    "X_train_sequences = list(train['text'].values)\n",
    "X_test_sequences = list(test['text'].values)\n",
    "\n",
    "# Tokenize and pad the sentences\n",
    "X_train_tokenized, X_test_tokenized, word_index = compute_word_index(X_train_sequences,\n",
    "                                                                     X_test_sequences,\n",
    "                                                                     MAX_FEATURES,\n",
    "                                                                     MAX_SEQUENCE_LENGTH)"
   ]
  },
  {
   "cell_type": "markdown",
   "metadata": {},
   "source": [
    "### Prepare the embedding layer\n",
    "These results will later be used during stratified k-fold to construct the embedding layer."
   ]
  },
  {
   "cell_type": "code",
   "execution_count": 6,
   "metadata": {},
   "outputs": [
    {
     "name": "stderr",
     "output_type": "stream",
     "text": [
      "400000it [00:38, 10418.03it/s]"
     ]
    },
    {
     "name": "stdout",
     "output_type": "stream",
     "text": [
      "Found 400000 word vectors.\n"
     ]
    },
    {
     "name": "stderr",
     "output_type": "stream",
     "text": [
      "\n"
     ]
    }
   ],
   "source": [
    "embeddings_index = load_glove_embeddings(GLOVE_EMBEDDINGS_FILE_PATH)"
   ]
  },
  {
   "cell_type": "code",
   "execution_count": 7,
   "metadata": {},
   "outputs": [],
   "source": [
    "embedding_matrix, vocab_size = construct_embedding_matrix(word_index, \n",
    "                                                          embeddings_index, \n",
    "                                                          EMBEDDING_DIM)"
   ]
  },
  {
   "cell_type": "markdown",
   "metadata": {},
   "source": [
    "### Train the model\n",
    "Each model will be evaluated based on the logloss metric using either 5-fold or 10-fold cross validation; the lower the logloss, the better the model."
   ]
  },
  {
   "cell_type": "code",
   "execution_count": 8,
   "metadata": {},
   "outputs": [
    {
     "name": "stdout",
     "output_type": "stream",
     "text": [
      "Original class labels: ['EAP' 'HPL' 'MWS']\n"
     ]
    }
   ],
   "source": [
    "# The target classes need to be converted to integers so that\n",
    "# EAP --> 0\n",
    "# HPL --> 1\n",
    "# MWS --> 2\n",
    "y_train_integers = integer_encode_classes(train['author'].values)"
   ]
  },
  {
   "cell_type": "code",
   "execution_count": 9,
   "metadata": {},
   "outputs": [],
   "source": [
    "# The target classes need to be one-hot encoded so that\n",
    "# EAP --> 0 --> [1, 0, 0]\n",
    "# HPL --> 1 --> [0, 1, 0]\n",
    "# MWS --> 2 --> [0, 0, 1]\n",
    "y_train_encoded = one_hot_encode_classes(y_train_integers)"
   ]
  },
  {
   "cell_type": "code",
   "execution_count": 10,
   "metadata": {},
   "outputs": [],
   "source": [
    "# Import model-dependent files\n",
    "from models import build_embedding_layer, build_model_callbacks, save_model_summary\n",
    "from models import build_gru_model as build_model"
   ]
  },
  {
   "cell_type": "code",
   "execution_count": 14,
   "metadata": {},
   "outputs": [
    {
     "name": "stdout",
     "output_type": "stream",
     "text": [
      "\n",
      "----- Fold 1 of 2 -----\n",
      "Train on 9789 samples, validate on 9790 samples\n",
      "Epoch 1/2\n",
      "9789/9789 [==============================] - 22s 2ms/step - loss: 0.9283 - acc: 0.5633 - val_loss: 0.8618 - val_acc: 0.6140\n",
      "Epoch 2/2\n",
      "9789/9789 [==============================] - 19s 2ms/step - loss: 0.6370 - acc: 0.7422 - val_loss: 0.8490 - val_acc: 0.6273\n",
      "Making predictions...\n",
      "Writing classification summary to file...\n",
      "\n",
      "----- Fold 2 of 2 -----\n",
      "Train on 9790 samples, validate on 9789 samples\n",
      "Epoch 1/2\n",
      "9790/9790 [==============================] - 20s 2ms/step - loss: 0.9281 - acc: 0.5683 - val_loss: 0.8721 - val_acc: 0.6041\n",
      "Epoch 2/2\n",
      "9790/9790 [==============================] - 19s 2ms/step - loss: 0.6392 - acc: 0.7409 - val_loss: 0.8728 - val_acc: 0.6193\n",
      "Making predictions...\n",
      "Writing classification summary to file...\n",
      "Writing runtime log to file...\n"
     ]
    }
   ],
   "source": [
    "training_num_epochs = 2 # 100\n",
    "batch_size = 64 # 32, 64, 128, 256, 512\n",
    "\n",
    "kfold = StratifiedKFold(n_splits=N_SPLITS, shuffle=True, random_state=SEED)\n",
    "folds = kfold.split(X_train_tokenized, y_train_integers)\n",
    "\n",
    "monitored_metric = 'val_loss'\n",
    "other_metrics = ['val_acc', 'loss', 'acc']\n",
    "all_metrics = ['val_loss', 'val_acc', 'loss', 'acc']\n",
    "all_scores = {\n",
    "    'val_loss': [],\n",
    "    'val_acc': [],\n",
    "    'loss': [],\n",
    "    'acc': [],\n",
    "}\n",
    "best_scores_per_fold = {\n",
    "    'val_loss': [],\n",
    "    'val_acc': [],\n",
    "    'loss': [],\n",
    "    'acc': [],\n",
    "}\n",
    "# The number of training epochs that have passed at which\n",
    "# the best validation loss is recorded\n",
    "best_score_num_epochs = []\n",
    "# Runtime records\n",
    "pred_runtimes = []\n",
    "pred_runtime_strs = []\n",
    "training_start = time()\n",
    "\n",
    "for fold, (train_indices, valid_indices) in enumerate(folds):\n",
    "    # Print the current fold\n",
    "    nth_fold = fold + 1\n",
    "    nth_fold_str = f'fold_{nth_fold:02d}'\n",
    "    print(f'\\n----- Fold {nth_fold} of {N_SPLITS} -----')\n",
    "    \n",
    "    # Prepare the splits of data\n",
    "    X_train, y_train = X_train_tokenized[train_indices], y_train_encoded[train_indices]\n",
    "    X_valid, y_valid = X_train_tokenized[valid_indices], y_train_encoded[valid_indices]\n",
    "    \n",
    "    # Build the embedding layer\n",
    "    embedding_layer = build_embedding_layer(embedding_matrix, \n",
    "                                            vocab_size, \n",
    "                                            EMBEDDING_DIM, \n",
    "                                            MAX_SEQUENCE_LENGTH)\n",
    "    # Construct model callbacks, save the best models, and log metrics to file\n",
    "    progress_file_path = f'{OUTPUT_LOGS_DIR}metric_progress.log.txt'\n",
    "    model_file_path = f'{OUTPUT_MODELS_DIR}{nth_fold_str}.model.hdf5'\n",
    "    logger_file_path = f'{OUTPUT_LOGS_DIR}{nth_fold_str}.log.csv'\n",
    "    model_callbacks = build_model_callbacks(monitored_metric,\n",
    "                                            'min',\n",
    "                                            progress_file_path,\n",
    "                                            model_file_path,\n",
    "                                            logger_file_path,\n",
    "                                            nth_fold,\n",
    "                                            N_SPLITS)\n",
    "    # Build the model\n",
    "    model = build_model(embedding_layer, MAX_SEQUENCE_LENGTH)    \n",
    "    # Save the model summary to file on the first fold only\n",
    "    # since the models are identical across folds\n",
    "    if nth_fold == 1:\n",
    "        save_model_summary(model, f'{OUTPUT_SUMMARIES_DIR}cv.model_summary.txt')\n",
    "    # Train the model\n",
    "    history = model.fit(X_train,\n",
    "                        y_train,\n",
    "                        batch_size=batch_size,\n",
    "                        epochs=training_num_epochs,\n",
    "                        verbose=1,\n",
    "                        callbacks=model_callbacks,\n",
    "                        validation_data=[X_valid, y_valid],\n",
    "                        shuffle=True)\n",
    "    \n",
    "    # Save the scores for later evaluation\n",
    "    monitored_metric_fold_scores = history.history[monitored_metric]\n",
    "    all_scores[monitored_metric].append(monitored_metric_fold_scores)\n",
    "    # Save only the best validation loss\n",
    "    epoch_index = np.argmin(monitored_metric_fold_scores)\n",
    "    best_score_num_epochs.append(epoch_index + 1)\n",
    "    best_monitored_metric_score = monitored_metric_fold_scores[epoch_index]\n",
    "    best_scores_per_fold[monitored_metric].append(best_monitored_metric_score)\n",
    "    \n",
    "    for metric in other_metrics:\n",
    "        other_metric_fold_scores = history.history[metric]\n",
    "        all_scores[metric].append(other_metric_fold_scores)\n",
    "        # Save only the corresponding current metric score for the\n",
    "        # best validation loss epoch\n",
    "        same_epoch_score = other_metric_fold_scores[epoch_index]\n",
    "        best_scores_per_fold[metric].append(same_epoch_score)\n",
    "        \n",
    "    # Display a classification report and confusion matrix\n",
    "    print('Making predictions...')\n",
    "    pred_start = time()\n",
    "    y_pred = model.predict(X_valid, batch_size=batch_size, verbose=0)\n",
    "    pred_elapsed, pred_elapsed_str = get_time_elapsed(pred_start)\n",
    "    pred_runtimes.append(pred_elapsed)\n",
    "    pred_runtime_strs.append(pred_elapsed_str)\n",
    "    \n",
    "    print('Writing classification summary to file...')\n",
    "    classification_file_path = (f'{OUTPUT_SUMMARIES_DIR}'\n",
    "                                f'{nth_fold_str}.class_summary.txt')\n",
    "    save_classification_summary(y_valid,\n",
    "                                y_pred,\n",
    "                                [0, 1, 2],\n",
    "                                ['EAP', 'HPL', 'MWS'],\n",
    "                                classification_file_path)\n",
    "\n",
    "print('Writing runtime log to file...')\n",
    "training_elapsed, training_elapsed_str = get_time_elapsed(training_start)\n",
    "training_fold_elapsed_str = format_time_str(training_elapsed / N_SPLITS)\n",
    "pred_elapsed = np.sum(pred_runtimes)\n",
    "pred_elapsed_str = format_time_str(pred_elapsed)\n",
    "pred_fold_elapsed_str = format_time_str(pred_elapsed / N_SPLITS)\n",
    "runtime_lines = (f'Total stratified {N_SPLITS}-fold loop runtime: {training_elapsed_str}\\n'\n",
    "                 f'Average training runtime per fold: {training_fold_elapsed_str}\\n\\n'\n",
    "                 f'Total stratified {N_SPLITS}-fold prediction runtime: {pred_elapsed_str}\\n'\n",
    "                 f'Average prediction runtime per fold: {pred_fold_elapsed_str}\\n\\n')\n",
    "for f, time_str in enumerate(pred_runtime_strs):\n",
    "    runtime_lines += f'Fold {f + 1} prediction runtime: {time_str}\\n'\n",
    "runtime_file_path = f'{OUTPUT_LOGS_DIR}runtime.log.txt'\n",
    "save_line_to_file(runtime_lines, runtime_file_path, 'w')\n"
   ]
  },
  {
   "cell_type": "markdown",
   "metadata": {},
   "source": [
    "### Evaluate the results"
   ]
  },
  {
   "cell_type": "code",
   "execution_count": 15,
   "metadata": {},
   "outputs": [
    {
     "data": {
      "text/plain": [
       "{'val_loss': [[0.861779847281459, 0.8489728891569455],\n",
       "  [0.8720801774858028, 0.8727720117944049]],\n",
       " 'val_acc': [[0.6139938711632991, 0.6272727272361973],\n",
       "  [0.6041475124653348, 0.6192665234724145]],\n",
       " 'loss': [[0.9282604439325066, 0.6370282547322171],\n",
       "  [0.9280550282383841, 0.6391535302348229]],\n",
       " 'acc': [[0.5632853200869414, 0.7421595666963606],\n",
       "  [0.5683350358238259, 0.7408580183374017]]}"
      ]
     },
     "execution_count": 15,
     "metadata": {},
     "output_type": "execute_result"
    }
   ],
   "source": [
    "# Note: There might be a different number of epochs per fold\n",
    "\"\"\" Example:\n",
    "{\n",
    "    'val_loss': [[0.8656108248708684, 0.8480148858142459], # Fold 1, scores per epoch\n",
    "    [0.8535823000075321, 0.8520218395263746]], # Fold 2, scores per epoch\n",
    "\n",
    "    'val_acc': [[0.6107252297776469, 0.6267620020916075],\n",
    "    [0.6173255694620041, 0.6308100929066869]],\n",
    "\n",
    "    'loss': [[0.9227827079133659, 0.6396668943775261],\n",
    "    [0.9183809885209135, 0.636743621745806]],\n",
    "\n",
    "    'acc': [[0.5735008681389172, 0.7408315457037562],\n",
    "    [0.5728294178462978, 0.7402451480737867]]\n",
    "}\n",
    "\"\"\"\n",
    "all_scores"
   ]
  },
  {
   "cell_type": "code",
   "execution_count": 16,
   "metadata": {},
   "outputs": [
    {
     "data": {
      "text/plain": [
       "{'val_loss': [0.8489728891569455, 0.8720801774858028],\n",
       " 'val_acc': [0.6272727272361973, 0.6041475124653348],\n",
       " 'loss': [0.6370282547322171, 0.9280550282383841],\n",
       " 'acc': [0.7421595666963606, 0.5683350358238259]}"
      ]
     },
     "execution_count": 16,
     "metadata": {},
     "output_type": "execute_result"
    }
   ],
   "source": [
    "best_scores_per_fold"
   ]
  },
  {
   "cell_type": "code",
   "execution_count": 17,
   "metadata": {},
   "outputs": [
    {
     "data": {
      "text/plain": [
       "[2, 1]"
      ]
     },
     "execution_count": 17,
     "metadata": {},
     "output_type": "execute_result"
    }
   ],
   "source": [
    "best_score_num_epochs"
   ]
  },
  {
   "cell_type": "code",
   "execution_count": 18,
   "metadata": {},
   "outputs": [
    {
     "name": "stdout",
     "output_type": "stream",
     "text": [
      "CV Results Summary:\n",
      "- val_loss mean and std: 0.8605 (+/- 0.0116)\n",
      "- val_acc mean and std: 0.6157 (+/- 0.0116)\n",
      "- loss mean and std: 0.7825 (+/- 0.1455)\n",
      "- acc mean and std: 0.6552 (+/- 0.0869)\n"
     ]
    }
   ],
   "source": [
    "# Calculate the mean and standard deviation across all folds' best scores\n",
    "print('CV Results Summary:')\n",
    "for metric in all_metrics:\n",
    "    mean = np.mean(best_scores_per_fold[metric])\n",
    "    std = np.std(best_scores_per_fold[metric])\n",
    "    print(f'- {metric} mean and std: {mean:.4f} (+/- {std:.4f})')"
   ]
  },
  {
   "cell_type": "code",
   "execution_count": 19,
   "metadata": {},
   "outputs": [
    {
     "data": {
      "image/png": "[encoded data removed]",
      "text/plain": [
       "<Figure size 432x288 with 1 Axes>"
      ]
     },
     "metadata": {},
     "output_type": "display_data"
    }
   ],
   "source": [
    "# Pass in a metric (without the `val_` prefix) and a fold index to show\n",
    "# the training and validation error curves over the number of epochs\n",
    "display_metric_vs_epochs_plot(all_scores, 'loss', 0)"
   ]
  },
  {
   "cell_type": "code",
   "execution_count": 20,
   "metadata": {},
   "outputs": [
    {
     "data": {
      "image/png": "[encoded data removed]",
      "text/plain": [
       "<Figure size 432x288 with 1 Axes>"
      ]
     },
     "metadata": {},
     "output_type": "display_data"
    }
   ],
   "source": [
    "display_metric_vs_epochs_plot(all_scores, 'acc', 0)"
   ]
  },
  {
   "cell_type": "markdown",
   "metadata": {},
   "source": [
    "### Make predictions on the test data\n",
    "In order to make predictions on the Kaggle-provided unlabeled test data, we will need to submit our predictions to Kaggle. It would be best to train on the entire training set; this means that, this time, we won't provide a validation set to the Keras model.\n",
    "\n",
    "How do we know how many epochs to train for? To figure this out, we can use the results from the cross validation phase. Since we have recorded the number of epochs that each fold took to train the model before stopping, we can take the average number of epochs across all folds and use that as the number of epochs to train our final model."
   ]
  },
  {
   "cell_type": "markdown",
   "metadata": {},
   "source": [
    "#### Calculate the number of epochs to train for using the entire training dataset"
   ]
  },
  {
   "cell_type": "code",
   "execution_count": 21,
   "metadata": {},
   "outputs": [
    {
     "data": {
      "text/plain": [
       "[2, 1]"
      ]
     },
     "execution_count": 21,
     "metadata": {},
     "output_type": "execute_result"
    }
   ],
   "source": [
    "best_score_num_epochs"
   ]
  },
  {
   "cell_type": "code",
   "execution_count": 22,
   "metadata": {},
   "outputs": [
    {
     "data": {
      "text/plain": [
       "2"
      ]
     },
     "execution_count": 22,
     "metadata": {},
     "output_type": "execute_result"
    }
   ],
   "source": [
    "# Let's take the average number of epochs across all folds.\n",
    "final_num_epochs = np.mean(best_score_num_epochs)\n",
    "# We take the ceiling because it's better to train for a little longer than to underfit.\n",
    "final_num_epochs = np.ceil(final_num_epochs)\n",
    "# We need to cast it to an int before feeding it to `model.fit`.\n",
    "final_num_epochs = int(final_num_epochs)\n",
    "final_num_epochs"
   ]
  },
  {
   "cell_type": "markdown",
   "metadata": {},
   "source": [
    "#### Train the model"
   ]
  },
  {
   "cell_type": "code",
   "execution_count": 23,
   "metadata": {},
   "outputs": [],
   "source": [
    "# Build the embedding layer\n",
    "embedding_layer = build_embedding_layer(embedding_matrix, \n",
    "                                        vocab_size, \n",
    "                                        EMBEDDING_DIM, \n",
    "                                        MAX_SEQUENCE_LENGTH)\n",
    "# Build the model\n",
    "model = build_model(embedding_layer, MAX_SEQUENCE_LENGTH)\n",
    "# Save the model architecture, weights, and optimizer state to file\n",
    "model.save(f'{OUTPUT_MODELS_DIR}final.model.hdf5')\n",
    "# Save the model summary to file\n",
    "save_model_summary(model, f'{OUTPUT_SUMMARIES_DIR}final.model_summary.txt')"
   ]
  },
  {
   "cell_type": "code",
   "execution_count": 24,
   "metadata": {},
   "outputs": [
    {
     "name": "stdout",
     "output_type": "stream",
     "text": [
      "Epoch 1/2\n",
      "19579/19579 [==============================] - 30s 2ms/step - loss: 0.8881 - acc: 0.5970\n",
      "Epoch 2/2\n",
      "19579/19579 [==============================] - 26s 1ms/step - loss: 0.6564 - acc: 0.7245\n"
     ]
    }
   ],
   "source": [
    "# Train the model\n",
    "history = model.fit(X_train_tokenized,\n",
    "                    y_train_encoded,\n",
    "                    batch_size=batch_size,\n",
    "                    epochs=final_num_epochs,\n",
    "                    verbose=1,\n",
    "                    shuffle=True)"
   ]
  },
  {
   "cell_type": "markdown",
   "metadata": {},
   "source": [
    "#### Make predictions on the test data"
   ]
  },
  {
   "cell_type": "code",
   "execution_count": 25,
   "metadata": {},
   "outputs": [
    {
     "name": "stdout",
     "output_type": "stream",
     "text": [
      "8392/8392 [==============================] - 5s 646us/step\n"
     ]
    }
   ],
   "source": [
    "predictions = model.predict(X_test_tokenized, batch_size=batch_size, verbose=1)"
   ]
  },
  {
   "cell_type": "code",
   "execution_count": 26,
   "metadata": {},
   "outputs": [
    {
     "data": {
      "text/plain": [
       "array([[0.08561282, 0.00806847, 0.9063187 ],\n",
       "       [0.9336152 , 0.06432535, 0.00205949],\n",
       "       [0.01768409, 0.9706443 , 0.01167159]], dtype=float32)"
      ]
     },
     "execution_count": 26,
     "metadata": {},
     "output_type": "execute_result"
    }
   ],
   "source": [
    "# Check the final submission values\n",
    "predictions[0:3]"
   ]
  },
  {
   "cell_type": "markdown",
   "metadata": {},
   "source": [
    "#### Create a submission CSV"
   ]
  },
  {
   "cell_type": "code",
   "execution_count": 27,
   "metadata": {},
   "outputs": [],
   "source": [
    "submission[['EAP', 'HPL', 'MWS']] = predictions\n",
    "submission.to_csv(f'{SUBMISSIONS_DIR}001_submission.csv', index=False)"
   ]
  },
  {
   "cell_type": "markdown",
   "metadata": {},
   "source": [
    "### Evaluate the average logloss of the Kaggle submission\n",
    "After submitting to Kaggle, we can calculate the average logloss across the entire test dataset as follows:\n",
    "```\n",
    "Given:\n",
    "    n_test = 8392\n",
    "    %_private = 0.7\n",
    "    %_public = 0.3\n",
    "Average logloss = (private_logloss * n_private + public_logloss * n_public) / n_test\n",
    "                = (private_logloss * (%_private * n_test)\n",
    "                  + public_logloss * (%_public * n_test))\n",
    "                  / n_test\n",
    "Where n_test = n_private + n_public\n",
    "```"
   ]
  },
  {
   "cell_type": "code",
   "execution_count": null,
   "metadata": {},
   "outputs": [],
   "source": []
  },
  {
   "cell_type": "markdown",
   "metadata": {},
   "source": [
    "## Refinement\n",
    "Run random search to tune certain hyperparameters for each algorithm for at least 60 iterations (but I’ll lower that number if it ends up taking way too long) in order to find the best model."
   ]
  },
  {
   "cell_type": "code",
   "execution_count": null,
   "metadata": {},
   "outputs": [],
   "source": []
  }
 ],
 "metadata": {
  "kernelspec": {
   "display_name": "quadcop",
   "language": "python",
   "name": "quadcop"
  },
  "language_info": {
   "codemirror_mode": {
    "name": "ipython",
    "version": 3
   },
   "file_extension": ".py",
   "mimetype": "text/x-python",
   "name": "python",
   "nbconvert_exporter": "python",
   "pygments_lexer": "ipython3",
   "version": "3.6.6"
  }
 },
 "nbformat": 4,
 "nbformat_minor": 2
}
