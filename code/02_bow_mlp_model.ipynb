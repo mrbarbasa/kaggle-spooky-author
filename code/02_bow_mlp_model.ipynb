{
 "cells": [
  {
   "cell_type": "markdown",
   "metadata": {},
   "source": [
    "# Spooky Author Identification: Bag-of-Words MLP Model"
   ]
  },
  {
   "cell_type": "markdown",
   "metadata": {},
   "source": [
    "## Implementation"
   ]
  },
  {
   "cell_type": "markdown",
   "metadata": {},
   "source": [
    "### Import packages"
   ]
  },
  {
   "cell_type": "code",
   "execution_count": 1,
   "metadata": {},
   "outputs": [],
   "source": [
    "%matplotlib inline\n",
    "%load_ext autoreload\n",
    "%autoreload 2"
   ]
  },
  {
   "cell_type": "code",
   "execution_count": 2,
   "metadata": {},
   "outputs": [],
   "source": [
    "import os\n",
    "\n",
    "os.environ['CUDA_DEVICE_ORDER'] = 'PCI_BUS_ID'\n",
    "os.environ['CUDA_VISIBLE_DEVICES'] = '' # Set to empty string for CPU, '0' for the first GPU"
   ]
  },
  {
   "cell_type": "code",
   "execution_count": 3,
   "metadata": {},
   "outputs": [
    {
     "name": "stdout",
     "output_type": "stream",
     "text": [
      "[nltk_data] Downloading package punkt to\n",
      "[nltk_data]     /Users/greenbeats/nltk_data...\n",
      "[nltk_data]   Package punkt is already up-to-date!\n",
      "[nltk_data] Downloading package stopwords to\n",
      "[nltk_data]     /Users/greenbeats/nltk_data...\n",
      "[nltk_data]   Package stopwords is already up-to-date!\n",
      "[nltk_data] Downloading package wordnet to\n",
      "[nltk_data]     /Users/greenbeats/nltk_data...\n",
      "[nltk_data]   Package wordnet is already up-to-date!\n",
      "[nltk_data] Downloading package averaged_perceptron_tagger to\n",
      "[nltk_data]     /Users/greenbeats/nltk_data...\n",
      "[nltk_data]   Package averaged_perceptron_tagger is already up-to-\n",
      "[nltk_data]       date!\n"
     ]
    },
    {
     "data": {
      "text/plain": [
       "True"
      ]
     },
     "execution_count": 3,
     "metadata": {},
     "output_type": "execute_result"
    }
   ],
   "source": [
    "# If you don't already have these packages, run this cell\n",
    "import nltk\n",
    "nltk.download('punkt')\n",
    "nltk.download('stopwords')\n",
    "nltk.download('wordnet')\n",
    "nltk.download('averaged_perceptron_tagger')"
   ]
  },
  {
   "cell_type": "code",
   "execution_count": 4,
   "metadata": {},
   "outputs": [
    {
     "name": "stderr",
     "output_type": "stream",
     "text": [
      "Using TensorFlow backend.\n"
     ]
    }
   ],
   "source": [
    "from packages import *"
   ]
  },
  {
   "cell_type": "code",
   "execution_count": 5,
   "metadata": {},
   "outputs": [],
   "source": [
    "MODEL_NAME = 'bow_mlp'\n",
    "\n",
    "INPUT_DIR = '../input/'\n",
    "TRAIN_FILE_PATH = f'{INPUT_DIR}train.csv'\n",
    "TEST_FILE_PATH = f'{INPUT_DIR}test.csv'\n",
    "SAMPLE_SUBMISSION_FILE_PATH = f'{INPUT_DIR}sample_submission.csv'\n",
    "\n",
    "OUTPUT_DIR = '../output/'\n",
    "OUTPUT_LOGS_DIR = f'{OUTPUT_DIR}{MODEL_NAME}/logs/'\n",
    "OUTPUT_MODELS_DIR = f'{OUTPUT_DIR}{MODEL_NAME}/models/'\n",
    "OUTPUT_SCORES_DIR = f'{OUTPUT_DIR}{MODEL_NAME}/scores/'\n",
    "OUTPUT_SUBMISSIONS_DIR = f'{OUTPUT_DIR}{MODEL_NAME}/submissions/'\n",
    "OUTPUT_SUMMARIES_DIR = f'{OUTPUT_DIR}{MODEL_NAME}/summaries/'\n",
    "\n",
    "# Create the output directories if they do not exist (the `_` is necessary\n",
    "# in order to create intermediate directories and is itself not created)\n",
    "os.makedirs(os.path.dirname(f'{OUTPUT_LOGS_DIR}_'), exist_ok=True)\n",
    "os.makedirs(os.path.dirname(f'{OUTPUT_MODELS_DIR}_'), exist_ok=True)\n",
    "os.makedirs(os.path.dirname(f'{OUTPUT_SCORES_DIR}_'), exist_ok=True)\n",
    "os.makedirs(os.path.dirname(f'{OUTPUT_SUBMISSIONS_DIR}_'), exist_ok=True)\n",
    "os.makedirs(os.path.dirname(f'{OUTPUT_SUMMARIES_DIR}_'), exist_ok=True)\n",
    "\n",
    "MAX_FEATURES = 20000 # The max number of features (unigrams and bigrams)\n",
    "TOKEN_MODE = 'word' # Word-level tokenization; can also be set to 'char'\n",
    "NGRAM_RANGE = (1, 2) # Range of n-gram sizes (unigrams and bigrams)\n",
    "# A token will be discarded if it appears less than 2 times across documents in the corpus\n",
    "MIN_DOCUMENT_FREQUENCY = 2\n",
    "N_SPLITS = 10\n",
    "\n",
    "# Fix a random seed for reproducibility\n",
    "SEED = 42\n",
    "np.random.seed(SEED)"
   ]
  },
  {
   "cell_type": "markdown",
   "metadata": {},
   "source": [
    "### Load data"
   ]
  },
  {
   "cell_type": "code",
   "execution_count": 6,
   "metadata": {},
   "outputs": [],
   "source": [
    "train, test, submission = load_data(TRAIN_FILE_PATH,\n",
    "                                    TEST_FILE_PATH,\n",
    "                                    SAMPLE_SUBMISSION_FILE_PATH)"
   ]
  },
  {
   "cell_type": "markdown",
   "metadata": {},
   "source": [
    "### Google's \"Algorithm for Data Preparation and Model Building\"\n",
    "\n",
    "Let's follow Google's algorithm below to test our hypothesis that a bag-of-words multilayer perceptron model will perform better than our CNN and RNN models using pre-trained GloVe and fastText word embeddings.\n",
    "\n",
    "Source: https://developers.google.com/machine-learning/guides/text-classification/step-2-5\n",
    "\n",
    "```\n",
    "1. Calculate the number of samples/number of words per sample ratio.\n",
    "2. If this ratio is less than 1500, tokenize the text as n-grams and use a\n",
    "simple multi-layer perceptron (MLP) model to classify them (left branch in the\n",
    "flowchart below):\n",
    "  a. Split the samples into word n-grams; convert the n-grams into vectors.\n",
    "  b. Score the importance of the vectors and then select the top 20K using the scores.\n",
    "  c. Build an MLP model.\n",
    "3. If the ratio is greater than 1500, tokenize the text as sequences and use a\n",
    "   sepCNN model to classify them (right branch in the flowchart below):\n",
    "  a. Split the samples into words; select the top 20K words based on their frequency.\n",
    "  b. Convert the samples into word sequence vectors.\n",
    "  c. If the original number of samples/number of words per sample ratio is less\n",
    "     than 15K, using a fine-tuned pre-trained embedding with the sepCNN\n",
    "     model will likely provide the best results.\n",
    "4. Measure the model performance with different hyperparameter values to find\n",
    "   the best model configuration for the dataset.\n",
    "```"
   ]
  },
  {
   "cell_type": "markdown",
   "metadata": {},
   "source": [
    "### Calculate the number of samples/number of words per sample ratio\n",
    "From the same source URL above, Google has stated the following:\n",
    "\n",
    "> **From our experiments, we have observed that the ratio of “number of samples” (S) to “number of words per sample” (W) correlates with which model performs well.**\n",
    "\n",
    "> When the value for this ratio is small (<1500), small multi-layer perceptrons that take n-grams as input (which we'll call **Option A**) perform better or at least as well as sequence models. MLPs are simple to define and understand, and they take much less compute time than sequence models. When the value for this ratio is large (>= 1500), use a sequence model (**Option B**).\n"
   ]
  },
  {
   "cell_type": "markdown",
   "metadata": {},
   "source": [
    "We have calculated that this number is about `732.46` from the EDA notebook."
   ]
  },
  {
   "cell_type": "markdown",
   "metadata": {},
   "source": [
    "### Tokenize the text as word n-grams and convert them into vectors\n",
    "Since the calculated ratio of `732.46` is less than the `1500` threshold, we'll proceed with **Option A** (the n-gram inputs with an MLP model). First, we need to tokenize the text as n-grams and select only the top `MAX_FEATURES` most important features from the vector of tokens."
   ]
  },
  {
   "cell_type": "markdown",
   "metadata": {},
   "source": [
    "### Preprocess text"
   ]
  },
  {
   "cell_type": "code",
   "execution_count": 7,
   "metadata": {},
   "outputs": [
    {
     "name": "stdout",
     "output_type": "stream",
     "text": [
      "Original class labels: ['EAP' 'HPL' 'MWS']\n"
     ]
    }
   ],
   "source": [
    "# The target classes need to be converted to integers so that\n",
    "# EAP --> 0\n",
    "# HPL --> 1\n",
    "# MWS --> 2\n",
    "y_train_integers = integer_encode_classes(train['author'].values)"
   ]
  },
  {
   "cell_type": "code",
   "execution_count": 8,
   "metadata": {},
   "outputs": [],
   "source": [
    "# The target classes need to be one-hot encoded so that\n",
    "# EAP --> 0 --> [1, 0, 0]\n",
    "# HPL --> 1 --> [0, 1, 0]\n",
    "# MWS --> 2 --> [0, 0, 1]\n",
    "y_train_encoded = one_hot_encode_classes(y_train_integers)"
   ]
  },
  {
   "cell_type": "code",
   "execution_count": 9,
   "metadata": {},
   "outputs": [
    {
     "name": "stdout",
     "output_type": "stream",
     "text": [
      "Found 76279 unique unigrams and bigrams.\n",
      "But only kept the 20000 most important ones.\n"
     ]
    }
   ],
   "source": [
    "# Apply text preprocessing on each sentence\n",
    "X_train_sequences = list(train['text'].apply(\n",
    "    lambda x: process_text(x,\n",
    "                           lower=False,\n",
    "                           remove_punc=False,\n",
    "                           normalize_spelling=True, # Todo: Also try False\n",
    "                           stem=False,\n",
    "                           lemmatize=False,\n",
    "                           remove_stopwords=False)).values)\n",
    "X_test_sequences = list(test['text'].apply(\n",
    "    lambda x: process_text(x,\n",
    "                           lower=False,\n",
    "                           remove_punc=False,\n",
    "                           normalize_spelling=True, # Todo: Also try False\n",
    "                           stem=False,\n",
    "                           lemmatize=False,\n",
    "                           remove_stopwords=False)).values)\n",
    "\n",
    "# Vectorize the sentences and TF-IDF features\n",
    "X_train_tokenized, X_test_tokenized = vectorize_ngrams(X_train_sequences,\n",
    "                                                       X_test_sequences,\n",
    "                                                       y_train_integers,\n",
    "                                                       MAX_FEATURES,\n",
    "                                                       TOKEN_MODE,\n",
    "                                                       NGRAM_RANGE,\n",
    "                                                       MIN_DOCUMENT_FREQUENCY)"
   ]
  },
  {
   "cell_type": "code",
   "execution_count": 10,
   "metadata": {},
   "outputs": [
    {
     "data": {
      "text/plain": [
       "(20000,)"
      ]
     },
     "execution_count": 10,
     "metadata": {},
     "output_type": "execute_result"
    }
   ],
   "source": [
    "# Retrieve the input shape\n",
    "input_shape = X_train_tokenized.shape[1:]\n",
    "input_shape"
   ]
  },
  {
   "cell_type": "code",
   "execution_count": 11,
   "metadata": {},
   "outputs": [
    {
     "data": {
      "text/plain": [
       "<3x20000 sparse matrix of type '<class 'numpy.float32'>'\n",
       "\twith 119 stored elements in Compressed Sparse Row format>"
      ]
     },
     "execution_count": 11,
     "metadata": {},
     "output_type": "execute_result"
    }
   ],
   "source": [
    "X_train_tokenized[0:3]"
   ]
  },
  {
   "cell_type": "markdown",
   "metadata": {},
   "source": [
    "### Train the model\n",
    "Each model will be evaluated based on the logloss metric using either 5-fold or 10-fold cross validation; the lower the logloss, the better the model. This is the step in which we measure the model performance with different hyperparameter values to find the best model configuration for the dataset."
   ]
  },
  {
   "cell_type": "code",
   "execution_count": 12,
   "metadata": {},
   "outputs": [],
   "source": [
    "# Import model-dependent files\n",
    "from models import build_model_callbacks, save_model_summary\n",
    "from models import get_random_mlp_params as get_random_model_params\n",
    "from models import build_mlp_model as build_model"
   ]
  },
  {
   "cell_type": "code",
   "execution_count": 13,
   "metadata": {
    "scrolled": true
   },
   "outputs": [
    {
     "name": "stdout",
     "output_type": "stream",
     "text": [
      "\n",
      "----- Iteration 1 of 1 -----\n",
      "Writing model params to file...\n",
      "\n",
      "----- Fold 1 of 10 -----\n",
      "Train on 17620 samples, validate on 1959 samples\n",
      "Epoch 1/1000\n",
      "17620/17620 [==============================] - 12s 665us/step - loss: 0.9187 - acc: 0.6241 - val_loss: 0.6860 - val_acc: 0.8188\n",
      "Epoch 2/1000\n",
      "17620/17620 [==============================] - 12s 696us/step - loss: 0.5061 - acc: 0.8631 - val_loss: 0.4367 - val_acc: 0.8581\n",
      "Epoch 3/1000\n",
      "17620/17620 [==============================] - 12s 705us/step - loss: 0.3234 - acc: 0.9064 - val_loss: 0.3523 - val_acc: 0.8765\n",
      "Epoch 4/1000\n",
      "17620/17620 [==============================] - 9s 538us/step - loss: 0.2478 - acc: 0.9261 - val_loss: 0.3115 - val_acc: 0.8836\n",
      "Epoch 5/1000\n",
      "17620/17620 [==============================] - 11s 615us/step - loss: 0.1952 - acc: 0.9430 - val_loss: 0.2902 - val_acc: 0.8887\n",
      "Epoch 6/1000\n",
      "17620/17620 [==============================] - 10s 577us/step - loss: 0.1664 - acc: 0.9483 - val_loss: 0.2779 - val_acc: 0.8954\n",
      "Epoch 7/1000\n",
      "17620/17620 [==============================] - 11s 637us/step - loss: 0.1380 - acc: 0.9603 - val_loss: 0.2698 - val_acc: 0.8918\n",
      "Epoch 8/1000\n",
      "17620/17620 [==============================] - 12s 658us/step - loss: 0.1230 - acc: 0.9628 - val_loss: 0.2675 - val_acc: 0.8938\n",
      "Epoch 9/1000\n",
      "17620/17620 [==============================] - 12s 683us/step - loss: 0.1106 - acc: 0.9673 - val_loss: 0.2697 - val_acc: 0.8928\n",
      "Epoch 10/1000\n",
      "17620/17620 [==============================] - 12s 708us/step - loss: 0.0954 - acc: 0.9715 - val_loss: 0.2712 - val_acc: 0.8928\n",
      "Epoch 11/1000\n",
      "17620/17620 [==============================] - 11s 611us/step - loss: 0.0892 - acc: 0.9730 - val_loss: 0.2736 - val_acc: 0.8913\n",
      "Epoch 00011: early stopping\n",
      "Making predictions...\n",
      "Writing classification summary to file...\n",
      "\n",
      "----- Fold 2 of 10 -----\n",
      "Train on 17620 samples, validate on 1959 samples\n",
      "Epoch 1/1000\n",
      "17620/17620 [==============================] - 12s 706us/step - loss: 0.9062 - acc: 0.6428 - val_loss: 0.6609 - val_acc: 0.8438\n",
      "Epoch 2/1000\n",
      "17620/17620 [==============================] - 11s 611us/step - loss: 0.4973 - acc: 0.8621 - val_loss: 0.4040 - val_acc: 0.8882\n",
      "Epoch 3/1000\n",
      "17620/17620 [==============================] - 11s 607us/step - loss: 0.3245 - acc: 0.9028 - val_loss: 0.3161 - val_acc: 0.9005\n",
      "Epoch 4/1000\n",
      "17620/17620 [==============================] - 12s 709us/step - loss: 0.2456 - acc: 0.9233 - val_loss: 0.2760 - val_acc: 0.9066\n",
      "Epoch 5/1000\n",
      "17620/17620 [==============================] - 11s 647us/step - loss: 0.1958 - acc: 0.9419 - val_loss: 0.2530 - val_acc: 0.9132\n",
      "Epoch 6/1000\n",
      "17620/17620 [==============================] - 11s 641us/step - loss: 0.1636 - acc: 0.9497 - val_loss: 0.2418 - val_acc: 0.9086\n",
      "Epoch 7/1000\n",
      "17620/17620 [==============================] - 12s 707us/step - loss: 0.1406 - acc: 0.9581 - val_loss: 0.2353 - val_acc: 0.9117\n",
      "Epoch 8/1000\n",
      "17620/17620 [==============================] - 12s 655us/step - loss: 0.1202 - acc: 0.9656 - val_loss: 0.2280 - val_acc: 0.9148\n",
      "Epoch 9/1000\n",
      "17620/17620 [==============================] - 11s 651us/step - loss: 0.1094 - acc: 0.9678 - val_loss: 0.2286 - val_acc: 0.9096\n",
      "Epoch 10/1000\n",
      "17620/17620 [==============================] - 12s 669us/step - loss: 0.0983 - acc: 0.9698 - val_loss: 0.2314 - val_acc: 0.9086\n",
      "Epoch 11/1000\n",
      "17620/17620 [==============================] - 9s 513us/step - loss: 0.0898 - acc: 0.9742 - val_loss: 0.2295 - val_acc: 0.9112\n",
      "Epoch 00011: early stopping\n",
      "Making predictions...\n",
      "Writing classification summary to file...\n",
      "\n",
      "----- Fold 3 of 10 -----\n",
      "Train on 17620 samples, validate on 1959 samples\n",
      "Epoch 1/1000\n",
      "17620/17620 [==============================] - 10s 570us/step - loss: 0.9094 - acc: 0.6663 - val_loss: 0.6713 - val_acc: 0.8244\n",
      "Epoch 2/1000\n",
      "17620/17620 [==============================] - 9s 519us/step - loss: 0.4967 - acc: 0.8699 - val_loss: 0.4251 - val_acc: 0.8714\n",
      "Epoch 3/1000\n",
      "17620/17620 [==============================] - 10s 567us/step - loss: 0.3225 - acc: 0.9061 - val_loss: 0.3413 - val_acc: 0.8872\n",
      "Epoch 4/1000\n",
      "17620/17620 [==============================] - 8s 472us/step - loss: 0.2424 - acc: 0.9285 - val_loss: 0.2977 - val_acc: 0.8959\n",
      "Epoch 5/1000\n",
      "17620/17620 [==============================] - 9s 484us/step - loss: 0.1948 - acc: 0.9411 - val_loss: 0.2780 - val_acc: 0.8918\n",
      "Epoch 6/1000\n",
      "17620/17620 [==============================] - 9s 530us/step - loss: 0.1643 - acc: 0.9520 - val_loss: 0.2638 - val_acc: 0.8928\n",
      "Epoch 7/1000\n",
      "17620/17620 [==============================] - 9s 501us/step - loss: 0.1417 - acc: 0.9563 - val_loss: 0.2572 - val_acc: 0.8974\n",
      "Epoch 8/1000\n",
      "17620/17620 [==============================] - 9s 529us/step - loss: 0.1188 - acc: 0.9662 - val_loss: 0.2544 - val_acc: 0.9015\n",
      "Epoch 9/1000\n",
      "17620/17620 [==============================] - 9s 537us/step - loss: 0.1091 - acc: 0.9678 - val_loss: 0.2545 - val_acc: 0.8984\n",
      "Epoch 10/1000\n",
      "17620/17620 [==============================] - 9s 524us/step - loss: 0.0994 - acc: 0.9696 - val_loss: 0.2546 - val_acc: 0.8984\n",
      "Epoch 11/1000\n",
      "17620/17620 [==============================] - 10s 581us/step - loss: 0.0921 - acc: 0.9714 - val_loss: 0.2529 - val_acc: 0.9010\n",
      "Epoch 12/1000\n",
      "17620/17620 [==============================] - 10s 568us/step - loss: 0.0848 - acc: 0.9729 - val_loss: 0.2567 - val_acc: 0.8984\n",
      "Epoch 13/1000\n",
      "17620/17620 [==============================] - 11s 612us/step - loss: 0.0785 - acc: 0.9750 - val_loss: 0.2565 - val_acc: 0.8984\n",
      "Epoch 14/1000\n",
      "17620/17620 [==============================] - 9s 516us/step - loss: 0.0752 - acc: 0.9767 - val_loss: 0.2555 - val_acc: 0.9020\n",
      "Epoch 00014: early stopping\n",
      "Making predictions...\n",
      "Writing classification summary to file...\n",
      "\n",
      "----- Fold 4 of 10 -----\n",
      "Train on 17620 samples, validate on 1959 samples\n",
      "Epoch 1/1000\n",
      "17620/17620 [==============================] - 9s 514us/step - loss: 0.9077 - acc: 0.6257 - val_loss: 0.6695 - val_acc: 0.8474\n",
      "Epoch 2/1000\n",
      "17620/17620 [==============================] - 9s 525us/step - loss: 0.4970 - acc: 0.8632 - val_loss: 0.4164 - val_acc: 0.8862\n",
      "Epoch 3/1000\n",
      "17620/17620 [==============================] - 10s 581us/step - loss: 0.3257 - acc: 0.9023 - val_loss: 0.3306 - val_acc: 0.8969\n",
      "Epoch 4/1000\n",
      "17620/17620 [==============================] - 10s 556us/step - loss: 0.2464 - acc: 0.9263 - val_loss: 0.2886 - val_acc: 0.9030\n",
      "Epoch 5/1000\n",
      "17620/17620 [==============================] - 9s 508us/step - loss: 0.1977 - acc: 0.9403 - val_loss: 0.2624 - val_acc: 0.9091\n",
      "Epoch 6/1000\n",
      "17620/17620 [==============================] - 10s 546us/step - loss: 0.1657 - acc: 0.9502 - val_loss: 0.2503 - val_acc: 0.9096\n",
      "Epoch 7/1000\n",
      "17620/17620 [==============================] - 8s 469us/step - loss: 0.1391 - acc: 0.9586 - val_loss: 0.2454 - val_acc: 0.9107\n",
      "Epoch 8/1000\n",
      "17620/17620 [==============================] - 8s 462us/step - loss: 0.1258 - acc: 0.9612 - val_loss: 0.2361 - val_acc: 0.9107\n",
      "Epoch 9/1000\n",
      "17620/17620 [==============================] - 8s 463us/step - loss: 0.1108 - acc: 0.9663 - val_loss: 0.2311 - val_acc: 0.9142\n",
      "Epoch 10/1000\n",
      "17620/17620 [==============================] - 8s 453us/step - loss: 0.0994 - acc: 0.9704 - val_loss: 0.2371 - val_acc: 0.9137\n",
      "Epoch 11/1000\n",
      "17620/17620 [==============================] - 9s 519us/step - loss: 0.0934 - acc: 0.9713 - val_loss: 0.2364 - val_acc: 0.9102\n",
      "Epoch 12/1000\n",
      "17620/17620 [==============================] - 9s 521us/step - loss: 0.0825 - acc: 0.9761 - val_loss: 0.2354 - val_acc: 0.9102\n",
      "Epoch 00012: early stopping\n",
      "Making predictions...\n",
      "Writing classification summary to file...\n",
      "\n",
      "----- Fold 5 of 10 -----\n",
      "Train on 17621 samples, validate on 1958 samples\n",
      "Epoch 1/1000\n",
      "17621/17621 [==============================] - 11s 607us/step - loss: 0.9118 - acc: 0.6308 - val_loss: 0.6515 - val_acc: 0.8488\n",
      "Epoch 2/1000\n",
      "17621/17621 [==============================] - 9s 488us/step - loss: 0.4974 - acc: 0.8633 - val_loss: 0.3905 - val_acc: 0.8902\n",
      "Epoch 3/1000\n",
      "17621/17621 [==============================] - 8s 478us/step - loss: 0.3250 - acc: 0.9055 - val_loss: 0.3046 - val_acc: 0.9045\n",
      "Epoch 4/1000\n",
      "17621/17621 [==============================] - 9s 493us/step - loss: 0.2443 - acc: 0.9245 - val_loss: 0.2674 - val_acc: 0.9101\n",
      "Epoch 5/1000\n"
     ]
    },
    {
     "name": "stdout",
     "output_type": "stream",
     "text": [
      "17621/17621 [==============================] - 8s 478us/step - loss: 0.1946 - acc: 0.9427 - val_loss: 0.2478 - val_acc: 0.9142\n",
      "Epoch 6/1000\n",
      "17621/17621 [==============================] - 8s 475us/step - loss: 0.1647 - acc: 0.9499 - val_loss: 0.2361 - val_acc: 0.9142\n",
      "Epoch 7/1000\n",
      "17621/17621 [==============================] - 8s 472us/step - loss: 0.1446 - acc: 0.9559 - val_loss: 0.2301 - val_acc: 0.9142\n",
      "Epoch 8/1000\n",
      "17621/17621 [==============================] - 9s 483us/step - loss: 0.1218 - acc: 0.9652 - val_loss: 0.2268 - val_acc: 0.9147\n",
      "Epoch 9/1000\n",
      "17621/17621 [==============================] - 8s 465us/step - loss: 0.1093 - acc: 0.9671 - val_loss: 0.2270 - val_acc: 0.9173\n",
      "Epoch 10/1000\n",
      "17621/17621 [==============================] - 8s 466us/step - loss: 0.0990 - acc: 0.9694 - val_loss: 0.2285 - val_acc: 0.9162\n",
      "Epoch 11/1000\n",
      "17621/17621 [==============================] - 8s 462us/step - loss: 0.0892 - acc: 0.9734 - val_loss: 0.2309 - val_acc: 0.9152\n",
      "Epoch 00011: early stopping\n",
      "Making predictions...\n",
      "Writing classification summary to file...\n",
      "\n",
      "----- Fold 6 of 10 -----\n",
      "Train on 17622 samples, validate on 1957 samples\n",
      "Epoch 1/1000\n",
      "17622/17622 [==============================] - 8s 476us/step - loss: 0.9218 - acc: 0.6747 - val_loss: 0.6739 - val_acc: 0.8319\n",
      "Epoch 2/1000\n",
      "17622/17622 [==============================] - 8s 462us/step - loss: 0.5064 - acc: 0.8631 - val_loss: 0.4203 - val_acc: 0.8728\n",
      "Epoch 3/1000\n",
      "17622/17622 [==============================] - 9s 515us/step - loss: 0.3284 - acc: 0.9035 - val_loss: 0.3385 - val_acc: 0.8850\n",
      "Epoch 4/1000\n",
      "17622/17622 [==============================] - 12s 697us/step - loss: 0.2475 - acc: 0.9262 - val_loss: 0.3031 - val_acc: 0.8927\n",
      "Epoch 5/1000\n",
      "17622/17622 [==============================] - 12s 659us/step - loss: 0.1965 - acc: 0.9423 - val_loss: 0.2836 - val_acc: 0.8993\n",
      "Epoch 6/1000\n",
      "17622/17622 [==============================] - 10s 563us/step - loss: 0.1645 - acc: 0.9495 - val_loss: 0.2747 - val_acc: 0.9009\n",
      "Epoch 7/1000\n",
      "17622/17622 [==============================] - 11s 618us/step - loss: 0.1431 - acc: 0.9556 - val_loss: 0.2711 - val_acc: 0.9014\n",
      "Epoch 8/1000\n",
      "17622/17622 [==============================] - 9s 522us/step - loss: 0.1236 - acc: 0.9653 - val_loss: 0.2671 - val_acc: 0.9039\n",
      "Epoch 9/1000\n",
      "17622/17622 [==============================] - 10s 561us/step - loss: 0.1116 - acc: 0.9667 - val_loss: 0.2720 - val_acc: 0.9004\n",
      "Epoch 10/1000\n",
      "17622/17622 [==============================] - 10s 548us/step - loss: 0.0999 - acc: 0.9696 - val_loss: 0.2692 - val_acc: 0.9085\n",
      "Epoch 11/1000\n",
      "17622/17622 [==============================] - 8s 472us/step - loss: 0.0900 - acc: 0.9726 - val_loss: 0.2748 - val_acc: 0.9050\n",
      "Epoch 00011: early stopping\n",
      "Making predictions...\n",
      "Writing classification summary to file...\n",
      "\n",
      "----- Fold 7 of 10 -----\n",
      "Train on 17622 samples, validate on 1957 samples\n",
      "Epoch 1/1000\n",
      "17622/17622 [==============================] - 9s 527us/step - loss: 0.9125 - acc: 0.6382 - val_loss: 0.6735 - val_acc: 0.8309\n",
      "Epoch 2/1000\n",
      "17622/17622 [==============================] - 8s 479us/step - loss: 0.4965 - acc: 0.8670 - val_loss: 0.4242 - val_acc: 0.8677\n",
      "Epoch 3/1000\n",
      "17622/17622 [==============================] - 8s 461us/step - loss: 0.3203 - acc: 0.9054 - val_loss: 0.3374 - val_acc: 0.8835\n",
      "Epoch 4/1000\n",
      "17622/17622 [==============================] - 9s 490us/step - loss: 0.2411 - acc: 0.9287 - val_loss: 0.2965 - val_acc: 0.8942\n",
      "Epoch 5/1000\n",
      "17622/17622 [==============================] - 8s 472us/step - loss: 0.1963 - acc: 0.9410 - val_loss: 0.2754 - val_acc: 0.8968\n",
      "Epoch 6/1000\n",
      "17622/17622 [==============================] - 9s 488us/step - loss: 0.1620 - acc: 0.9518 - val_loss: 0.2616 - val_acc: 0.8993\n",
      "Epoch 7/1000\n",
      "17622/17622 [==============================] - 9s 499us/step - loss: 0.1392 - acc: 0.9589 - val_loss: 0.2532 - val_acc: 0.9004\n",
      "Epoch 8/1000\n",
      "17622/17622 [==============================] - 8s 479us/step - loss: 0.1203 - acc: 0.9637 - val_loss: 0.2532 - val_acc: 0.8998\n",
      "Epoch 9/1000\n",
      "17622/17622 [==============================] - 8s 465us/step - loss: 0.1080 - acc: 0.9671 - val_loss: 0.2495 - val_acc: 0.9029\n",
      "Epoch 10/1000\n",
      "17622/17622 [==============================] - 8s 458us/step - loss: 0.1011 - acc: 0.9696 - val_loss: 0.2525 - val_acc: 0.8998\n",
      "Epoch 11/1000\n",
      "17622/17622 [==============================] - 8s 466us/step - loss: 0.0893 - acc: 0.9723 - val_loss: 0.2560 - val_acc: 0.8958\n",
      "Epoch 12/1000\n",
      "17622/17622 [==============================] - 10s 552us/step - loss: 0.0823 - acc: 0.9753 - val_loss: 0.2635 - val_acc: 0.8947\n",
      "Epoch 00012: early stopping\n",
      "Making predictions...\n",
      "Writing classification summary to file...\n",
      "\n",
      "----- Fold 8 of 10 -----\n",
      "Train on 17622 samples, validate on 1957 samples\n",
      "Epoch 1/1000\n",
      "17622/17622 [==============================] - 10s 590us/step - loss: 0.9139 - acc: 0.6418 - val_loss: 0.6696 - val_acc: 0.8365\n",
      "Epoch 2/1000\n",
      "17622/17622 [==============================] - 8s 479us/step - loss: 0.5058 - acc: 0.8658 - val_loss: 0.4175 - val_acc: 0.8779\n",
      "Epoch 3/1000\n",
      "17622/17622 [==============================] - 9s 521us/step - loss: 0.3321 - acc: 0.9023 - val_loss: 0.3285 - val_acc: 0.8958\n",
      "Epoch 4/1000\n",
      "17622/17622 [==============================] - 12s 691us/step - loss: 0.2487 - acc: 0.9244 - val_loss: 0.2875 - val_acc: 0.9034\n",
      "Epoch 5/1000\n",
      "17622/17622 [==============================] - 11s 619us/step - loss: 0.2016 - acc: 0.9392 - val_loss: 0.2645 - val_acc: 0.9065\n",
      "Epoch 6/1000\n",
      "17622/17622 [==============================] - 11s 613us/step - loss: 0.1714 - acc: 0.9472 - val_loss: 0.2516 - val_acc: 0.9070\n",
      "Epoch 7/1000\n",
      "17622/17622 [==============================] - 11s 602us/step - loss: 0.1432 - acc: 0.9569 - val_loss: 0.2437 - val_acc: 0.9070\n",
      "Epoch 8/1000\n",
      "17622/17622 [==============================] - 11s 597us/step - loss: 0.1265 - acc: 0.9613 - val_loss: 0.2381 - val_acc: 0.9131\n",
      "Epoch 9/1000\n",
      "17622/17622 [==============================] - 11s 601us/step - loss: 0.1102 - acc: 0.9679 - val_loss: 0.2383 - val_acc: 0.9136\n",
      "Epoch 10/1000\n",
      "17622/17622 [==============================] - 10s 594us/step - loss: 0.1016 - acc: 0.9684 - val_loss: 0.2379 - val_acc: 0.9096\n",
      "Epoch 11/1000\n",
      "17622/17622 [==============================] - 11s 604us/step - loss: 0.0930 - acc: 0.9729 - val_loss: 0.2385 - val_acc: 0.9106\n",
      "Epoch 12/1000\n",
      "17622/17622 [==============================] - 11s 604us/step - loss: 0.0864 - acc: 0.9742 - val_loss: 0.2397 - val_acc: 0.9070\n",
      "Epoch 13/1000\n",
      "17622/17622 [==============================] - 11s 597us/step - loss: 0.0811 - acc: 0.9753 - val_loss: 0.2431 - val_acc: 0.9075\n",
      "Epoch 00013: early stopping\n",
      "Making predictions...\n",
      "Writing classification summary to file...\n",
      "\n",
      "----- Fold 9 of 10 -----\n",
      "Train on 17622 samples, validate on 1957 samples\n",
      "Epoch 1/1000\n",
      "17622/17622 [==============================] - 12s 705us/step - loss: 0.9160 - acc: 0.6334 - val_loss: 0.6736 - val_acc: 0.8324\n",
      "Epoch 2/1000\n",
      "17622/17622 [==============================] - 10s 545us/step - loss: 0.5011 - acc: 0.8628 - val_loss: 0.4183 - val_acc: 0.8779\n",
      "Epoch 3/1000\n",
      "17622/17622 [==============================] - 9s 492us/step - loss: 0.3263 - acc: 0.9044 - val_loss: 0.3325 - val_acc: 0.8917\n",
      "Epoch 4/1000\n",
      "17622/17622 [==============================] - 9s 507us/step - loss: 0.2459 - acc: 0.9257 - val_loss: 0.2908 - val_acc: 0.9060\n",
      "Epoch 5/1000\n",
      "17622/17622 [==============================] - 9s 530us/step - loss: 0.1971 - acc: 0.9399 - val_loss: 0.2680 - val_acc: 0.9096\n",
      "Epoch 6/1000\n",
      "17622/17622 [==============================] - 9s 507us/step - loss: 0.1671 - acc: 0.9498 - val_loss: 0.2529 - val_acc: 0.9101\n",
      "Epoch 7/1000\n",
      "17622/17622 [==============================] - 8s 461us/step - loss: 0.1437 - acc: 0.9559 - val_loss: 0.2433 - val_acc: 0.9096\n",
      "Epoch 8/1000\n",
      "17622/17622 [==============================] - 9s 493us/step - loss: 0.1242 - acc: 0.9631 - val_loss: 0.2427 - val_acc: 0.9096\n",
      "Epoch 9/1000\n",
      "17622/17622 [==============================] - 8s 455us/step - loss: 0.1114 - acc: 0.9666 - val_loss: 0.2392 - val_acc: 0.9116\n",
      "Epoch 10/1000\n",
      "17622/17622 [==============================] - 8s 451us/step - loss: 0.1008 - acc: 0.9695 - val_loss: 0.2422 - val_acc: 0.9106\n",
      "Epoch 11/1000\n"
     ]
    },
    {
     "name": "stdout",
     "output_type": "stream",
     "text": [
      "17622/17622 [==============================] - 8s 458us/step - loss: 0.0907 - acc: 0.9729 - val_loss: 0.2397 - val_acc: 0.9055\n",
      "Epoch 12/1000\n",
      "17622/17622 [==============================] - 8s 456us/step - loss: 0.0832 - acc: 0.9751 - val_loss: 0.2403 - val_acc: 0.9070\n",
      "Epoch 00012: early stopping\n",
      "Making predictions...\n",
      "Writing classification summary to file...\n",
      "\n",
      "----- Fold 10 of 10 -----\n",
      "Train on 17622 samples, validate on 1957 samples\n",
      "Epoch 1/1000\n",
      "17622/17622 [==============================] - 9s 495us/step - loss: 0.9076 - acc: 0.6185 - val_loss: 0.6550 - val_acc: 0.8416\n",
      "Epoch 2/1000\n",
      "17622/17622 [==============================] - 9s 503us/step - loss: 0.5026 - acc: 0.8649 - val_loss: 0.3991 - val_acc: 0.8815\n",
      "Epoch 3/1000\n",
      "17622/17622 [==============================] - 8s 477us/step - loss: 0.3266 - acc: 0.9039 - val_loss: 0.3130 - val_acc: 0.8942\n",
      "Epoch 4/1000\n",
      "17622/17622 [==============================] - 9s 486us/step - loss: 0.2450 - acc: 0.9269 - val_loss: 0.2743 - val_acc: 0.8998\n",
      "Epoch 5/1000\n",
      "17622/17622 [==============================] - 9s 485us/step - loss: 0.1955 - acc: 0.9415 - val_loss: 0.2555 - val_acc: 0.9014\n",
      "Epoch 6/1000\n",
      "17622/17622 [==============================] - 9s 491us/step - loss: 0.1646 - acc: 0.9509 - val_loss: 0.2393 - val_acc: 0.9055\n",
      "Epoch 7/1000\n",
      "17622/17622 [==============================] - 8s 482us/step - loss: 0.1412 - acc: 0.9575 - val_loss: 0.2332 - val_acc: 0.9060\n",
      "Epoch 8/1000\n",
      "17622/17622 [==============================] - 9s 487us/step - loss: 0.1214 - acc: 0.9641 - val_loss: 0.2283 - val_acc: 0.9060\n",
      "Epoch 9/1000\n",
      "17622/17622 [==============================] - 9s 487us/step - loss: 0.1102 - acc: 0.9677 - val_loss: 0.2283 - val_acc: 0.9024\n",
      "Epoch 10/1000\n",
      "17622/17622 [==============================] - 9s 486us/step - loss: 0.0978 - acc: 0.9707 - val_loss: 0.2265 - val_acc: 0.9085\n",
      "Epoch 11/1000\n",
      "17622/17622 [==============================] - 9s 488us/step - loss: 0.0891 - acc: 0.9727 - val_loss: 0.2306 - val_acc: 0.9085\n",
      "Epoch 12/1000\n",
      "17622/17622 [==============================] - 9s 487us/step - loss: 0.0832 - acc: 0.9747 - val_loss: 0.2366 - val_acc: 0.9060\n",
      "Epoch 13/1000\n",
      "17622/17622 [==============================] - 9s 493us/step - loss: 0.0787 - acc: 0.9753 - val_loss: 0.2405 - val_acc: 0.9065\n",
      "Epoch 00013: early stopping\n",
      "Making predictions...\n",
      "Writing classification summary to file...\n",
      "Writing CV results and runtime summary to file...\n"
     ]
    }
   ],
   "source": [
    "# Random search\n",
    "\n",
    "training_num_epochs = 100 # With early stopping in place\n",
    "num_random_search_iter = 60 # The number of iterations\n",
    "offset_iter = 0 # How many iterations to offset the nth iteration by\n",
    "\n",
    "# Calculate the k-fold splits (same splits across all iterations)\n",
    "kfold = StratifiedKFold(n_splits=N_SPLITS, shuffle=True, random_state=SEED)\n",
    "\n",
    "# Randomly search for the best model using 10-fold cross validation for each iteration.\n",
    "# Note: Before re-running this cell, you might want to delete the existing files in the\n",
    "# `OUTPUT_SUMMARIES_DIR` folder, since the files within might not get overwritten.\n",
    "for nth_iter in range(1+offset_iter, num_random_search_iter+1+offset_iter):\n",
    "    \n",
    "    # Start the training timer for the current iteration\n",
    "    training_start = time()\n",
    "    \n",
    "    nth_iter_str = f'iter_{nth_iter:02d}'\n",
    "    print(f'\\n----- Iteration {nth_iter} of {num_random_search_iter+offset_iter} -----')\n",
    "\n",
    "    # Metrics to monitor and record\n",
    "    monitored_metric = 'val_loss'\n",
    "    other_metrics = ['val_acc', 'loss', 'acc']\n",
    "    all_metrics = ['val_loss', 'val_acc', 'loss', 'acc']\n",
    "    \n",
    "    # The number of training epochs that have passed at which\n",
    "    # the best validation loss is recorded\n",
    "    best_score_num_epochs = []\n",
    "    \n",
    "    # The metric scores recorded from the epoch number at which\n",
    "    # the best validation loss is recorded.\n",
    "    # Note that each list should be `N_SPLITS` in length.\n",
    "    best_scores_per_fold = { 'val_loss': [], 'val_acc': [], 'loss': [], 'acc': [] }\n",
    "    \n",
    "    # Runtime records\n",
    "    pred_runtimes = []\n",
    "    pred_runtime_strs = []\n",
    "\n",
    "    # Retrieve the random model params for the current iteration\n",
    "    random_model_params = get_random_model_params()\n",
    "    batch_size = random_model_params['batch_size']\n",
    "    \n",
    "    print('Writing model params to file...')\n",
    "    params_file_path = f'{OUTPUT_MODELS_DIR}{nth_iter_str}.params.json'\n",
    "    save_dictionary_to_file(random_model_params, params_file_path)    \n",
    "    \n",
    "    # The model summary, improvement log, and classification summary file path\n",
    "    log_file_path = f'{OUTPUT_LOGS_DIR}{nth_iter_str}.log.txt'\n",
    "    \n",
    "    # Prepare the generator\n",
    "    folds = kfold.split(X_train_tokenized, y_train_integers)\n",
    "    \n",
    "    # Begin 10-fold cross validation for the current set of random model params\n",
    "    for fold, (train_indices, valid_indices) in enumerate(folds):\n",
    "        nth_fold = fold + 1\n",
    "        nth_fold_str = f'fold_{nth_fold:02d}'\n",
    "        print(f'\\n----- Fold {nth_fold} of {N_SPLITS} -----')\n",
    "\n",
    "        # Prepare the splits of data\n",
    "        X_train, y_train = X_train_tokenized[train_indices], y_train_encoded[train_indices]\n",
    "        X_valid, y_valid = X_train_tokenized[valid_indices], y_train_encoded[valid_indices]\n",
    "\n",
    "        # Construct model callbacks, save the best models, and log metrics to file\n",
    "        logger_file_path = f'{OUTPUT_SCORES_DIR}{nth_iter_str}.{nth_fold_str}.scores.csv'\n",
    "        model_callbacks = build_model_callbacks(monitored_metric,\n",
    "                                                'min',\n",
    "                                                log_file_path, # progress\n",
    "                                                None, # model\n",
    "                                                logger_file_path, # logger\n",
    "                                                nth_fold,\n",
    "                                                N_SPLITS)\n",
    "        # Build the model\n",
    "        model = build_model(input_shape, random_model_params)\n",
    "        # Save the model summary to file on the first fold only\n",
    "        # since the models are identical across folds\n",
    "        if nth_fold == 1:\n",
    "            save_model_summary(model, log_file_path)\n",
    "        \n",
    "        # Train the model\n",
    "        history = model.fit(X_train,\n",
    "                            y_train,\n",
    "                            batch_size=batch_size,\n",
    "                            epochs=training_num_epochs,\n",
    "                            verbose=1,\n",
    "                            callbacks=model_callbacks,\n",
    "                            validation_data=[X_valid, y_valid],\n",
    "                            shuffle=True)\n",
    "        \n",
    "        # Save the scores for later evaluation\n",
    "        monitored_metric_fold_scores = history.history[monitored_metric]\n",
    "        # Save only the best validation loss\n",
    "        epoch_index = np.argmin(monitored_metric_fold_scores)\n",
    "        best_score_num_epochs.append(int(epoch_index + 1))\n",
    "        best_monitored_metric_score = monitored_metric_fold_scores[epoch_index]\n",
    "        best_scores_per_fold[monitored_metric].append(best_monitored_metric_score)\n",
    "\n",
    "        for metric in other_metrics:\n",
    "            other_metric_fold_scores = history.history[metric]\n",
    "            # Save only the corresponding current metric score for the\n",
    "            # best validation loss epoch\n",
    "            same_epoch_score = other_metric_fold_scores[epoch_index]\n",
    "            best_scores_per_fold[metric].append(same_epoch_score)\n",
    "\n",
    "        # Construct a classification report and confusion matrix\n",
    "        print('Making predictions...')\n",
    "        pred_start = time()\n",
    "        y_pred = model.predict(X_valid, batch_size=batch_size, verbose=0)\n",
    "        pred_elapsed, pred_elapsed_str = get_time_elapsed(pred_start)\n",
    "        pred_runtimes.append(pred_elapsed)\n",
    "        pred_runtime_strs.append(pred_elapsed_str)\n",
    "\n",
    "        print('Writing classification summary to file...')\n",
    "        save_classification_summary(y_valid,\n",
    "                                    y_pred,\n",
    "                                    [0, 1, 2],\n",
    "                                    ['EAP', 'HPL', 'MWS'],\n",
    "                                    log_file_path,\n",
    "                                    mode='a')\n",
    "\n",
    "    print('Writing CV results and runtime summary to file...')\n",
    "    # Calculate the mean and standard deviation across all folds' best scores\n",
    "    summary_lines = 'CV Results Summary:'\n",
    "    for metric in all_metrics:\n",
    "        mean = np.mean(best_scores_per_fold[metric])\n",
    "        std = np.std(best_scores_per_fold[metric])\n",
    "        summary_lines += f'\\n- {metric} mean and std: {mean:.5f} (+/- {std:.5f})'\n",
    "    monitored_mean = np.mean(best_scores_per_fold[monitored_metric])\n",
    "    summary_file_path = (f'{OUTPUT_SUMMARIES_DIR}{monitored_mean:.5f}.'\n",
    "                         f'{nth_iter_str}.summary.txt')\n",
    "    \n",
    "    # Calculate the suggested number of epochs to train for\n",
    "    # using the entire training dataset\n",
    "    final_num_epochs = np.mean(best_score_num_epochs)\n",
    "    # We take the ceiling because it's better to train for\n",
    "    # a little longer than to underfit\n",
    "    final_num_epochs = int(np.ceil(final_num_epochs))\n",
    "    summary_lines += f'\\n\\nfinal_num_epochs = {final_num_epochs}\\n\\n'\n",
    "    \n",
    "    # Save the best epochs per fold\n",
    "    best_epochs_str = json.dumps(best_score_num_epochs)\n",
    "    summary_lines += f'best_score_num_epochs = {best_epochs_str}\\n\\n'\n",
    "    \n",
    "    # Save the best scores per fold\n",
    "    best_scores_str = json.dumps(best_scores_per_fold, indent=4)\n",
    "    summary_lines += f'best_scores_per_fold = {best_scores_str}\\n\\n'\n",
    "    \n",
    "    # Calculate the total and average runtimes across all folds\n",
    "    training_elapsed, training_elapsed_str = get_time_elapsed(training_start)\n",
    "    training_fold_elapsed_str = format_time_str(training_elapsed / N_SPLITS)\n",
    "    pred_elapsed = np.sum(pred_runtimes)\n",
    "    pred_elapsed_str = format_time_str(pred_elapsed)\n",
    "    pred_fold_elapsed_str = format_time_str(pred_elapsed / N_SPLITS)\n",
    "    summary_lines += (f'Total stratified {N_SPLITS}-fold loop runtime: '\n",
    "                      f'{training_elapsed_str}\\n'\n",
    "                      f'Average training runtime per fold: '\n",
    "                      f'{training_fold_elapsed_str}\\n\\n'\n",
    "                      f'Total stratified {N_SPLITS}-fold prediction runtime: '\n",
    "                      f'{pred_elapsed_str}\\n'\n",
    "                      f'Average prediction runtime per fold: '\n",
    "                      f'{pred_fold_elapsed_str}\\n')\n",
    "    for f, time_str in enumerate(pred_runtime_strs):\n",
    "        summary_lines += f'\\nFold {f + 1} prediction runtime: {time_str}'\n",
    "    \n",
    "    save_line_to_file(summary_lines, summary_file_path, 'w')\n"
   ]
  },
  {
   "cell_type": "markdown",
   "metadata": {},
   "source": [
    "### Evaluate the results"
   ]
  },
  {
   "cell_type": "code",
   "execution_count": 27,
   "metadata": {},
   "outputs": [],
   "source": [
    "# Set these variables to an existing output file\n",
    "nth_iter = 1\n",
    "nth_fold = 7\n",
    "iter_fold_scores = pd.read_csv(f'{OUTPUT_SCORES_DIR}iter_{nth_iter:02d}.'\n",
    "                               f'fold_{nth_fold:02d}.scores.csv')"
   ]
  },
  {
   "cell_type": "code",
   "execution_count": 28,
   "metadata": {},
   "outputs": [
    {
     "data": {
      "image/png": "[encoded data removed]",
      "text/plain": [
       "<Figure size 432x288 with 1 Axes>"
      ]
     },
     "metadata": {},
     "output_type": "display_data"
    }
   ],
   "source": [
    "# Pass in a metric (without the `val_` prefix) and a fold index to show\n",
    "# the training and validation error curves over the number of epochs\n",
    "display_metric_vs_epochs_plot(iter_fold_scores, 'loss', nth_iter, nth_fold)"
   ]
  },
  {
   "cell_type": "code",
   "execution_count": 29,
   "metadata": {},
   "outputs": [
    {
     "data": {
      "image/png": "[encoded data removed]",
      "text/plain": [
       "<Figure size 432x288 with 1 Axes>"
      ]
     },
     "metadata": {},
     "output_type": "display_data"
    }
   ],
   "source": [
    "display_metric_vs_epochs_plot(iter_fold_scores, 'acc', nth_iter, nth_fold)"
   ]
  },
  {
   "cell_type": "markdown",
   "metadata": {},
   "source": [
    "### Make predictions on the test data\n",
    "In order to make predictions on the Kaggle-provided unlabeled test data, we will need to submit our predictions to Kaggle. It would be best to train on the entire training set; this means that, this time, we won't provide a validation set to the Keras model.\n",
    "\n",
    "How do we know how many epochs to train for? To figure this out, we can use the results from the cross validation phase. Since we have recorded the number of epochs that each fold took to train the model before stopping, we can take the average number of epochs across all folds and use that as the number of epochs to train our final model."
   ]
  },
  {
   "cell_type": "markdown",
   "metadata": {},
   "source": [
    "#### Train the model"
   ]
  },
  {
   "cell_type": "code",
   "execution_count": 30,
   "metadata": {},
   "outputs": [],
   "source": [
    "# Set this to the best number of epochs based on the evaluation phase\n",
    "final_num_epochs = 9"
   ]
  },
  {
   "cell_type": "code",
   "execution_count": 31,
   "metadata": {},
   "outputs": [],
   "source": [
    "# Select the best model params based on the evaluation phase\n",
    "best_iter = 1\n",
    "final_model_params = load_dictionary_from_file(f'{OUTPUT_MODELS_DIR}'\n",
    "                                               f'iter_{best_iter:02d}.params.json')\n",
    "final_batch_size = final_model_params['batch_size']"
   ]
  },
  {
   "cell_type": "code",
   "execution_count": 32,
   "metadata": {},
   "outputs": [],
   "source": [
    "# Build the model with the best model params\n",
    "model = build_model(input_shape, final_model_params)\n",
    "# Save the model architecture, weights, and optimizer state to file\n",
    "model.save(f'{OUTPUT_MODELS_DIR}final.model.hdf5')\n",
    "# Save the model summary to file\n",
    "save_model_summary(model, f'{OUTPUT_SUMMARIES_DIR}final.model_summary.txt')"
   ]
  },
  {
   "cell_type": "code",
   "execution_count": 33,
   "metadata": {},
   "outputs": [
    {
     "name": "stdout",
     "output_type": "stream",
     "text": [
      "Epoch 1/9\n",
      "19579/19579 [==============================] - 11s 567us/step - loss: 0.8891 - acc: 0.6574\n",
      "Epoch 2/9\n",
      "19579/19579 [==============================] - 11s 578us/step - loss: 0.4625 - acc: 0.8723\n",
      "Epoch 3/9\n",
      "19579/19579 [==============================] - 11s 545us/step - loss: 0.3081 - acc: 0.9038\n",
      "Epoch 4/9\n",
      "19579/19579 [==============================] - 11s 538us/step - loss: 0.2325 - acc: 0.9290\n",
      "Epoch 5/9\n",
      "19579/19579 [==============================] - 10s 534us/step - loss: 0.1875 - acc: 0.9434\n",
      "Epoch 6/9\n",
      "19579/19579 [==============================] - 10s 536us/step - loss: 0.1556 - acc: 0.9511\n",
      "Epoch 7/9\n",
      "19579/19579 [==============================] - 10s 528us/step - loss: 0.1378 - acc: 0.9577\n",
      "Epoch 8/9\n",
      "19579/19579 [==============================] - 10s 535us/step - loss: 0.1181 - acc: 0.9643\n",
      "Epoch 9/9\n",
      "19579/19579 [==============================] - 11s 570us/step - loss: 0.1079 - acc: 0.9660\n"
     ]
    }
   ],
   "source": [
    "# Train the model\n",
    "history = model.fit(X_train_tokenized,\n",
    "                    y_train_encoded,\n",
    "                    batch_size=final_batch_size,\n",
    "                    epochs=final_num_epochs,\n",
    "                    verbose=1,\n",
    "                    shuffle=True)"
   ]
  },
  {
   "cell_type": "markdown",
   "metadata": {},
   "source": [
    "#### Make predictions on the test data"
   ]
  },
  {
   "cell_type": "code",
   "execution_count": 34,
   "metadata": {},
   "outputs": [
    {
     "name": "stdout",
     "output_type": "stream",
     "text": [
      "8392/8392 [==============================] - 1s 98us/step\n"
     ]
    }
   ],
   "source": [
    "predictions = model.predict(X_test_tokenized, batch_size=final_batch_size, verbose=1)"
   ]
  },
  {
   "cell_type": "code",
   "execution_count": 35,
   "metadata": {},
   "outputs": [
    {
     "data": {
      "text/plain": [
       "array([[2.3719482e-03, 1.8796196e-02, 9.7883189e-01],\n",
       "       [9.9660289e-01, 3.2997099e-03, 9.7403281e-05],\n",
       "       [7.0439349e-03, 9.7891653e-01, 1.4039552e-02]], dtype=float32)"
      ]
     },
     "execution_count": 35,
     "metadata": {},
     "output_type": "execute_result"
    }
   ],
   "source": [
    "# Check the final submission values\n",
    "predictions[0:3]"
   ]
  },
  {
   "cell_type": "markdown",
   "metadata": {},
   "source": [
    "#### Create a submission CSV"
   ]
  },
  {
   "cell_type": "code",
   "execution_count": 36,
   "metadata": {},
   "outputs": [],
   "source": [
    "submission[['EAP', 'HPL', 'MWS']] = predictions\n",
    "submission_num = 30\n",
    "submission_description = 'bow_google_mlp_after_tp_i'\n",
    "submission_filename = f'{submission_num:03d}_{submission_description}.csv'\n",
    "submission_file_path = f'{OUTPUT_SUBMISSIONS_DIR}{submission_filename}'\n",
    "submission.to_csv(submission_file_path, index=False)"
   ]
  },
  {
   "cell_type": "markdown",
   "metadata": {},
   "source": [
    "### Evaluate the mean logloss of the Kaggle submission\n",
    "After submitting to Kaggle, we can calculate the mean logloss across the entire test dataset as follows:\n",
    "```\n",
    "Given:\n",
    "    n_test = 8392\n",
    "    %_private = 0.7\n",
    "    %_public = 0.3\n",
    "    private_logloss # Retrieve from Kaggle after submission\n",
    "    public_logloss # Retrieve from Kaggle after submission\n",
    "    \n",
    "Mean logloss = (private_logloss * n_private + public_logloss * n_public) / n_test\n",
    "             = (private_logloss * (%_private * n_test)\n",
    "                + public_logloss * (%_public * n_test))\n",
    "               / n_test\n",
    "               \n",
    "Where n_test = n_private + n_public\n",
    "```"
   ]
  },
  {
   "cell_type": "markdown",
   "metadata": {},
   "source": [
    "#### Benchmark Model\n",
    "Our benchmark model is the sample submission file provided by Kaggle, in which the probability distribution across the three authors is the exact same per sample, such that their probabilities are proportional to the number of samples of said author's work in the training dataset (EAP at about 40%, HPL at about 29%, and MWS at about 31%)."
   ]
  },
  {
   "cell_type": "code",
   "execution_count": 37,
   "metadata": {},
   "outputs": [
    {
     "name": "stdout",
     "output_type": "stream",
     "text": [
      "Total number of samples: 8392\n",
      "Number of private leaderboard samples: 5874.4\n",
      "Number of public leaderboard samples: 2517.6\n"
     ]
    }
   ],
   "source": [
    "n_test = len(submission)\n",
    "n_private = n_test * 0.7\n",
    "n_public = n_test * 0.3\n",
    "print(f'Total number of samples: {n_test}',\n",
    "      f'Number of private leaderboard samples: {n_private}',\n",
    "      f'Number of public leaderboard samples: {n_public}',\n",
    "      sep='\\n')"
   ]
  },
  {
   "cell_type": "code",
   "execution_count": 38,
   "metadata": {},
   "outputs": [
    {
     "name": "stdout",
     "output_type": "stream",
     "text": [
      "Mean logloss for the benchmark model: 1.088255\n"
     ]
    }
   ],
   "source": [
    "private_logloss = 1.09094\n",
    "public_logloss = 1.08199\n",
    "mean_logloss = (private_logloss * n_private + public_logloss * n_public) / n_test\n",
    "print(f'Mean logloss for the benchmark model: {mean_logloss}')"
   ]
  },
  {
   "cell_type": "markdown",
   "metadata": {},
   "source": [
    "#### CNN Model"
   ]
  },
  {
   "cell_type": "code",
   "execution_count": 39,
   "metadata": {},
   "outputs": [
    {
     "name": "stdout",
     "output_type": "stream",
     "text": [
      "Mean logloss: 0.37335\n"
     ]
    }
   ],
   "source": [
    "calculate_mean_logloss(0.36698, 0.38822)"
   ]
  },
  {
   "cell_type": "code",
   "execution_count": null,
   "metadata": {},
   "outputs": [],
   "source": []
  }
 ],
 "metadata": {
  "kernelspec": {
   "display_name": "quadcop",
   "language": "python",
   "name": "quadcop"
  },
  "language_info": {
   "codemirror_mode": {
    "name": "ipython",
    "version": 3
   },
   "file_extension": ".py",
   "mimetype": "text/x-python",
   "name": "python",
   "nbconvert_exporter": "python",
   "pygments_lexer": "ipython3",
   "version": "3.6.6"
  }
 },
 "nbformat": 4,
 "nbformat_minor": 2
}
