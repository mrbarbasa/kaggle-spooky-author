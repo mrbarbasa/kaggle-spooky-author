{
 "cells": [
  {
   "cell_type": "markdown",
   "metadata": {},
   "source": [
    "# Spooky Author Identification: EDA and Text Preprocessing"
   ]
  },
  {
   "cell_type": "markdown",
   "metadata": {},
   "source": [
    "## Skimming the Text Data\n",
    "- There are some uncommon/misspelled words such as those used by HPL: \"It was all mud an' water, an' the sky was dark, an' the rain was wipin' aout all tracks abaout as fast as could be; but beginnin' at the glen maouth, whar the trees had moved, they was still some o' them awful prints big as bar'ls like he seen Monday.\"\n",
    "- There are some mentions of places like \"Windsor\" and names like \"Dr. Johnson\"\n",
    "- There are uses of uncommon words such as \"pursy\" or made-up words such as \"drest\" (meaning \"dressed\")\n",
    "- UK English is used, such as \"travellers\" or \"neighbour\"\n",
    "- There are some words with multiple spellings, such as \"until\" vs. \"untill\"\n",
    "- EAP sometimes writes in French: \"que tout notre raisonnement se rèduit à céder au sentiment;\"\n",
    "- There are no hyphenated words\n",
    "- Since the data is in CSV format, there are odd uses of punctuation marks like triple double quotes: \"\"\"The nitre\"\" I said: \"\"see, it increases.\"\n",
    "- There do not appear to be any numbers (if they exist, they're spelled out in words)\n",
    "- Punctuations used are: . , : ; ' \" ?\n",
    "- All caps are rare occurrences"
   ]
  },
  {
   "cell_type": "markdown",
   "metadata": {},
   "source": [
    "## Import Packages"
   ]
  },
  {
   "cell_type": "code",
   "execution_count": 1,
   "metadata": {},
   "outputs": [],
   "source": [
    "%matplotlib inline\n",
    "%load_ext autoreload\n",
    "%autoreload 2"
   ]
  },
  {
   "cell_type": "code",
   "execution_count": 2,
   "metadata": {},
   "outputs": [],
   "source": [
    "import os\n",
    "\n",
    "os.environ['CUDA_DEVICE_ORDER'] = 'PCI_BUS_ID'\n",
    "os.environ['CUDA_VISIBLE_DEVICES'] = '' # '' to run on CPU, '0' to run on the first GPU"
   ]
  },
  {
   "cell_type": "code",
   "execution_count": 3,
   "metadata": {},
   "outputs": [
    {
     "name": "stdout",
     "output_type": "stream",
     "text": [
      "[nltk_data] Downloading package punkt to\n",
      "[nltk_data]     /Users/greenbeats/nltk_data...\n",
      "[nltk_data]   Package punkt is already up-to-date!\n",
      "[nltk_data] Downloading package stopwords to\n",
      "[nltk_data]     /Users/greenbeats/nltk_data...\n",
      "[nltk_data]   Package stopwords is already up-to-date!\n",
      "[nltk_data] Downloading package wordnet to\n",
      "[nltk_data]     /Users/greenbeats/nltk_data...\n",
      "[nltk_data]   Package wordnet is already up-to-date!\n",
      "[nltk_data] Downloading package averaged_perceptron_tagger to\n",
      "[nltk_data]     /Users/greenbeats/nltk_data...\n",
      "[nltk_data]   Package averaged_perceptron_tagger is already up-to-\n",
      "[nltk_data]       date!\n"
     ]
    },
    {
     "data": {
      "text/plain": [
       "True"
      ]
     },
     "execution_count": 3,
     "metadata": {},
     "output_type": "execute_result"
    }
   ],
   "source": [
    "# If you don't already have these packages, run this cell\n",
    "import nltk\n",
    "nltk.download('punkt')\n",
    "nltk.download('stopwords')\n",
    "nltk.download('wordnet')\n",
    "nltk.download('averaged_perceptron_tagger')"
   ]
  },
  {
   "cell_type": "code",
   "execution_count": 4,
   "metadata": {},
   "outputs": [
    {
     "name": "stderr",
     "output_type": "stream",
     "text": [
      "Using TensorFlow backend.\n"
     ]
    }
   ],
   "source": [
    "from packages import *"
   ]
  },
  {
   "cell_type": "code",
   "execution_count": 5,
   "metadata": {},
   "outputs": [],
   "source": [
    "INPUT_DIR = '../input/'\n",
    "TRAIN_FILE_PATH = f'{INPUT_DIR}train.csv'\n",
    "TEST_FILE_PATH = f'{INPUT_DIR}test.csv'\n",
    "SAMPLE_SUBMISSION_FILE_PATH = f'{INPUT_DIR}sample_submission.csv'\n",
    "\n",
    "IMAGES_DIR = '../images/'\n",
    "\n",
    "# Fix a random seed for reproducibility\n",
    "SEED = 42\n",
    "np.random.seed(SEED)"
   ]
  },
  {
   "cell_type": "markdown",
   "metadata": {},
   "source": [
    "## Load Data"
   ]
  },
  {
   "cell_type": "code",
   "execution_count": 6,
   "metadata": {},
   "outputs": [],
   "source": [
    "train, test, submission = load_data(TRAIN_FILE_PATH, \n",
    "                                    TEST_FILE_PATH, \n",
    "                                    SAMPLE_SUBMISSION_FILE_PATH)"
   ]
  },
  {
   "cell_type": "markdown",
   "metadata": {},
   "source": [
    "## Explore Data"
   ]
  },
  {
   "cell_type": "code",
   "execution_count": 7,
   "metadata": {},
   "outputs": [
    {
     "data": {
      "text/html": [
       "<div>\n",
       "<style scoped>\n",
       "    .dataframe tbody tr th:only-of-type {\n",
       "        vertical-align: middle;\n",
       "    }\n",
       "\n",
       "    .dataframe tbody tr th {\n",
       "        vertical-align: top;\n",
       "    }\n",
       "\n",
       "    .dataframe thead th {\n",
       "        text-align: right;\n",
       "    }\n",
       "</style>\n",
       "<table border=\"1\" class=\"dataframe\">\n",
       "  <thead>\n",
       "    <tr style=\"text-align: right;\">\n",
       "      <th></th>\n",
       "      <th>id</th>\n",
       "      <th>text</th>\n",
       "      <th>author</th>\n",
       "    </tr>\n",
       "  </thead>\n",
       "  <tbody>\n",
       "    <tr>\n",
       "      <th>0</th>\n",
       "      <td>id26305</td>\n",
       "      <td>This process, however, afforded me no means of...</td>\n",
       "      <td>EAP</td>\n",
       "    </tr>\n",
       "    <tr>\n",
       "      <th>1</th>\n",
       "      <td>id17569</td>\n",
       "      <td>It never once occurred to me that the fumbling...</td>\n",
       "      <td>HPL</td>\n",
       "    </tr>\n",
       "    <tr>\n",
       "      <th>2</th>\n",
       "      <td>id11008</td>\n",
       "      <td>In his left hand was a gold snuff box, from wh...</td>\n",
       "      <td>EAP</td>\n",
       "    </tr>\n",
       "    <tr>\n",
       "      <th>3</th>\n",
       "      <td>id27763</td>\n",
       "      <td>How lovely is spring As we looked from Windsor...</td>\n",
       "      <td>MWS</td>\n",
       "    </tr>\n",
       "    <tr>\n",
       "      <th>4</th>\n",
       "      <td>id12958</td>\n",
       "      <td>Finding nothing else, not even gold, the Super...</td>\n",
       "      <td>HPL</td>\n",
       "    </tr>\n",
       "  </tbody>\n",
       "</table>\n",
       "</div>"
      ],
      "text/plain": [
       "        id                                               text author\n",
       "0  id26305  This process, however, afforded me no means of...    EAP\n",
       "1  id17569  It never once occurred to me that the fumbling...    HPL\n",
       "2  id11008  In his left hand was a gold snuff box, from wh...    EAP\n",
       "3  id27763  How lovely is spring As we looked from Windsor...    MWS\n",
       "4  id12958  Finding nothing else, not even gold, the Super...    HPL"
      ]
     },
     "execution_count": 7,
     "metadata": {},
     "output_type": "execute_result"
    }
   ],
   "source": [
    "train.head()"
   ]
  },
  {
   "cell_type": "code",
   "execution_count": 8,
   "metadata": {},
   "outputs": [
    {
     "data": {
      "text/plain": [
       "(19579, 3)"
      ]
     },
     "execution_count": 8,
     "metadata": {},
     "output_type": "execute_result"
    }
   ],
   "source": [
    "train.shape"
   ]
  },
  {
   "cell_type": "code",
   "execution_count": 9,
   "metadata": {},
   "outputs": [
    {
     "data": {
      "text/plain": [
       "pandas.core.groupby.groupby.DataFrameGroupBy"
      ]
     },
     "execution_count": 9,
     "metadata": {},
     "output_type": "execute_result"
    }
   ],
   "source": [
    "author_groups = train.groupby('author') # Returns a list-like object of tuples\n",
    "type(author_groups)"
   ]
  },
  {
   "cell_type": "code",
   "execution_count": 10,
   "metadata": {},
   "outputs": [
    {
     "name": "stdout",
     "output_type": "stream",
     "text": [
      "<class 'str'>\n",
      "<class 'pandas.core.frame.DataFrame'>\n",
      "<class 'str'>\n",
      "<class 'pandas.core.frame.DataFrame'>\n",
      "<class 'str'>\n",
      "<class 'pandas.core.frame.DataFrame'>\n"
     ]
    }
   ],
   "source": [
    "for author, df in author_groups:\n",
    "    print(type(author))\n",
    "    print(type(df))"
   ]
  },
  {
   "cell_type": "code",
   "execution_count": 11,
   "metadata": {},
   "outputs": [
    {
     "name": "stdout",
     "output_type": "stream",
     "text": [
      "Sample distribution per author out of 19,579 samples:\n",
      "EAP 7,900 samples or 40.35%\n",
      "HPL 5,635 samples or 28.78%\n",
      "MWS 6,044 samples or 30.87%\n"
     ]
    }
   ],
   "source": [
    "# How many samples are there per author?\n",
    "def get_sample_distribution(data, feature):\n",
    "    print('Sample distribution per {} out of {:,} samples:'.format(feature, len(data)))\n",
    "    unique_feature_values = data[feature].unique()\n",
    "    for value in unique_feature_values:\n",
    "        sample_count = len(data[data[feature]==value])\n",
    "        percentage = (sample_count / len(data)) * 100\n",
    "        print(value, '{:,} samples or {:.2f}%'.format(sample_count, percentage))\n",
    "        \n",
    "get_sample_distribution(train, 'author')"
   ]
  },
  {
   "cell_type": "code",
   "execution_count": 12,
   "metadata": {},
   "outputs": [
    {
     "name": "stdout",
     "output_type": "stream",
     "text": [
      "Character count of the text per author:\n",
      "EAP 1,131,484\n",
      "HPL 883,812\n",
      "MWS 922,675\n"
     ]
    }
   ],
   "source": [
    "# Let's concatenate all of the text entries per author\n",
    "def get_text_per_feature(data, feature, text_feature, sep=' '):\n",
    "    print('Character count of the text per {}:'.format(feature))\n",
    "    texts = []\n",
    "    unique_feature_values = data[feature].unique()\n",
    "    for value in unique_feature_values:\n",
    "        entire_text = data[data[feature]==value][text_feature].str.cat(sep=sep)\n",
    "        print(value, '{:,}'.format(len(entire_text)))\n",
    "        texts.append((value, entire_text))\n",
    "    return texts\n",
    "        \n",
    "author_texts = get_text_per_feature(train, 'author', 'text')"
   ]
  },
  {
   "cell_type": "markdown",
   "metadata": {},
   "source": [
    "### Calculate basic statistics over all the text samples"
   ]
  },
  {
   "cell_type": "markdown",
   "metadata": {},
   "source": [
    "#### Character length per sentence"
   ]
  },
  {
   "cell_type": "code",
   "execution_count": 13,
   "metadata": {},
   "outputs": [
    {
     "data": {
      "text/plain": [
       "0    231\n",
       "1     71\n",
       "2    200\n",
       "3    206\n",
       "4    174\n",
       "Name: text, dtype: int64"
      ]
     },
     "execution_count": 13,
     "metadata": {},
     "output_type": "execute_result"
    }
   ],
   "source": [
    "# Retrieve the character length of each sentence\n",
    "char_lens = train['text'].apply(lambda s: len(s))\n",
    "char_lens.head()"
   ]
  },
  {
   "cell_type": "code",
   "execution_count": 14,
   "metadata": {},
   "outputs": [
    {
     "data": {
      "text/plain": [
       "count    19579.000000\n",
       "mean       149.057408\n",
       "std        106.800189\n",
       "min         21.000000\n",
       "25%         81.000000\n",
       "50%        128.000000\n",
       "75%        191.000000\n",
       "max       4663.000000\n",
       "Name: text, dtype: float64"
      ]
     },
     "execution_count": 14,
     "metadata": {},
     "output_type": "execute_result"
    }
   ],
   "source": [
    "# count: The number of sentences\n",
    "# mean: Mean length of a sentence\n",
    "# std: Standard deviation of the length of a sentence\n",
    "# min: Minimum length of a sentence\n",
    "# 25%: 25% of sentences are length 81 or shorter\n",
    "# 50%: Median length of a sentence\n",
    "# 75%: 75% of sentences are length 191 or shorter\n",
    "# max: Maximum length of a sentence\n",
    "char_lens.describe()"
   ]
  },
  {
   "cell_type": "markdown",
   "metadata": {},
   "source": [
    "#### Word length per sentence"
   ]
  },
  {
   "cell_type": "code",
   "execution_count": 15,
   "metadata": {},
   "outputs": [
    {
     "data": {
      "text/plain": [
       "0    41\n",
       "1    14\n",
       "2    36\n",
       "3    34\n",
       "4    27\n",
       "Name: text, dtype: int64"
      ]
     },
     "execution_count": 15,
     "metadata": {},
     "output_type": "execute_result"
    }
   ],
   "source": [
    "# Retrieve the character length of each sentence\n",
    "word_lens = train['text'].apply(lambda s: len(s.split(' ')))\n",
    "word_lens.head()"
   ]
  },
  {
   "cell_type": "code",
   "execution_count": 16,
   "metadata": {},
   "outputs": [
    {
     "data": {
      "text/plain": [
       "count    19579.000000\n",
       "mean        26.730477\n",
       "std         19.048353\n",
       "min          2.000000\n",
       "25%         15.000000\n",
       "50%         23.000000\n",
       "75%         34.000000\n",
       "max        861.000000\n",
       "Name: text, dtype: float64"
      ]
     },
     "execution_count": 16,
     "metadata": {},
     "output_type": "execute_result"
    }
   ],
   "source": [
    "# count: The number of sentences\n",
    "# mean: Mean word length of a sentence\n",
    "# std: Standard deviation of the word length of a sentence\n",
    "# min: Minimum word length of a sentence\n",
    "# 25%: 25% of sentences are word length 15 or shorter\n",
    "# 50%: Median word length of a sentence\n",
    "# 75%: 75% of sentences are word length 34 or shorter\n",
    "# max: Maximum word length of a sentence\n",
    "word_lens.describe()"
   ]
  },
  {
   "cell_type": "code",
   "execution_count": 17,
   "metadata": {},
   "outputs": [
    {
     "data": {
      "text/plain": [
       "id                      id22015\n",
       "text      \"PIQUANT EXPRESSIONS.\n",
       "author                      EAP\n",
       "Name: 6936, dtype: object"
      ]
     },
     "execution_count": 17,
     "metadata": {},
     "output_type": "execute_result"
    }
   ],
   "source": [
    "# The min and the max appear to be outliers; let's view what these sentences are\n",
    "train.iloc[word_lens.idxmin()]"
   ]
  },
  {
   "cell_type": "code",
   "execution_count": 18,
   "metadata": {},
   "outputs": [
    {
     "data": {
      "text/plain": [
       "id                                                  id27184\n",
       "text      Diotima approached the fountain seated herself...\n",
       "author                                                  MWS\n",
       "Name: 9215, dtype: object"
      ]
     },
     "execution_count": 18,
     "metadata": {},
     "output_type": "execute_result"
    }
   ],
   "source": [
    "train.iloc[word_lens.idxmax()]"
   ]
  },
  {
   "cell_type": "code",
   "execution_count": 19,
   "metadata": {},
   "outputs": [
    {
     "data": {
      "text/plain": [
       "732.4598189377784"
      ]
     },
     "execution_count": 19,
     "metadata": {},
     "output_type": "execute_result"
    }
   ],
   "source": [
    "# Ratio of \"number of samples\" (S) to \"number of words per sample\" (W)\n",
    "len(train) / word_lens.mean()\n",
    "# Since this is less than 1500, per Google's\n",
    "# https://developers.google.com/machine-learning/guides/text-classification/step-2-5\n",
    "# we should use n-gram inputs into an MLP."
   ]
  },
  {
   "cell_type": "markdown",
   "metadata": {},
   "source": [
    "### Analyze the count features per author"
   ]
  },
  {
   "cell_type": "code",
   "execution_count": 20,
   "metadata": {},
   "outputs": [],
   "source": [
    "def construct_vocabulary(texts, construct_tokens):\n",
    "    vocab = { 'ALL': Counter() }\n",
    "    \n",
    "    # Word counts\n",
    "    print('Total word count of the text per author:')\n",
    "    for tup in texts:\n",
    "        author = tup[0]\n",
    "        text = tup[1]\n",
    "        tokens = construct_tokens(text)\n",
    "        print(author, '{:,}'.format(len(tokens)))\n",
    "        \n",
    "        # Calculate vocabulary word frequencies (how many times a word appears in the text)\n",
    "        vocab[author] = Counter()\n",
    "        for word in tokens:\n",
    "            vocab['ALL'][word] += 1\n",
    "            vocab[author][word] += 1\n",
    "\n",
    "    # Vocabulary size or unique word counts\n",
    "    print('\\nVocabulary size of the text per author:')\n",
    "    for author in vocab:\n",
    "        print(author, '{:,}'.format(len(vocab[author])))\n",
    "        \n",
    "    return vocab"
   ]
  },
  {
   "cell_type": "code",
   "execution_count": 21,
   "metadata": {},
   "outputs": [
    {
     "name": "stdout",
     "output_type": "stream",
     "text": [
      "Total word count of the text per author:\n",
      "EAP 200,995\n",
      "HPL 156,651\n",
      "MWS 165,710\n",
      "\n",
      "Vocabulary size of the text per author:\n",
      "ALL 47,556\n",
      "EAP 26,521\n",
      "HPL 22,527\n",
      "MWS 20,251\n"
     ]
    }
   ],
   "source": [
    "vocab = construct_vocabulary(author_texts, lambda x: x.split(' '))"
   ]
  },
  {
   "cell_type": "code",
   "execution_count": 22,
   "metadata": {},
   "outputs": [
    {
     "name": "stdout",
     "output_type": "stream",
     "text": [
      "ALL \n",
      " [('the', 33296), ('of', 20851), ('and', 17059), ('to', 12615), ('I', 10382), ('a', 10359), ('in', 8787), ('was', 6440), ('that', 5988), ('my', 5037)] \n",
      "\n",
      "EAP \n",
      " [('the', 13927), ('of', 8930), ('and', 5222), ('to', 4625), ('a', 4514), ('in', 3750), ('I', 3598), ('was', 2109), ('that', 2085), ('my', 1666)] \n",
      "\n",
      "HPL \n",
      " [('the', 10330), ('and', 5908), ('of', 5792), ('a', 3230), ('to', 3219), ('I', 2629), ('in', 2558), ('was', 2126), ('that', 1902), ('had', 1744)] \n",
      "\n",
      "MWS \n",
      " [('the', 9039), ('of', 6129), ('and', 5929), ('to', 4771), ('I', 4155), ('a', 2615), ('in', 2479), ('my', 2469), ('was', 2205), ('that', 2001)] \n",
      "\n"
     ]
    }
   ],
   "source": [
    "# View the most common words per author\n",
    "for author in vocab:\n",
    "    print(author, '\\n', vocab[author].most_common(10), '\\n')"
   ]
  },
  {
   "cell_type": "markdown",
   "metadata": {},
   "source": [
    "**Comments:**\n",
    "\n",
    "As we can see from the results above, there is nothing too distinguishable between author vocabularies due to common words such as \"the\", \"of\", and \"and\"; these are called *stopwords*. Let's remove them and apply other text preprocessing techniques as we see fit. But beforehand, let's review the least common words."
   ]
  },
  {
   "cell_type": "code",
   "execution_count": 23,
   "metadata": {},
   "outputs": [
    {
     "name": "stdout",
     "output_type": "stream",
     "text": [
      "ALL \n",
      " [('Ancona.', 1), ('Gulph;', 1), ('Adriatic', 1), ('Stress', 1), ('feel.\"', 1), ('legislators', 1), ('connection?', 1), ('domestic,', 1), ('curtain,', 1), ('praising', 1)] \n",
      "\n",
      "EAP \n",
      " [('received.\"', 1), ('outright.', 1), ('faints', 1), ('agir', 1), ('faut', 1), ('Mais', 1), ('spasm.', 1), ('brush.', 1), ('fancied,', 1), ('turning,', 1)] \n",
      "\n",
      "HPL \n",
      " [('mirth.', 1), ('noon.', 1), ('going,', 1), ('negative', 1), ('\"salt', 1), ('traditional', 1), ('Average', 1), ('flattening', 1), ('casements', 1), ('passageway.', 1)] \n",
      "\n",
      "MWS \n",
      " [('Ancona.', 1), ('Gulph;', 1), ('Adriatic', 1), ('Stress', 1), ('feel.\"', 1), ('pause,', 1), ('legislators', 1), ('connection?', 1), ('domestic,', 1), ('universe,', 1)] \n",
      "\n"
     ]
    }
   ],
   "source": [
    "# View the least common words per author\n",
    "for author in vocab:\n",
    "    print(author, '\\n', list(reversed(vocab[author].most_common()))[0:10], '\\n')"
   ]
  },
  {
   "cell_type": "markdown",
   "metadata": {},
   "source": [
    "**Comments:**\n",
    "\n",
    "There are many words that only appear to occur once throughout the corpus or per author, so let's remove them from the vocabulary, along with other less frequent words, since they aren't very predictive."
   ]
  },
  {
   "cell_type": "markdown",
   "metadata": {},
   "source": [
    "## Text Preprocessing"
   ]
  },
  {
   "cell_type": "code",
   "execution_count": 24,
   "metadata": {},
   "outputs": [
    {
     "data": {
      "text/plain": [
       "'!\"#$%&\\'()*+,-./:;<=>?@[\\\\]^_`{|}~'"
      ]
     },
     "execution_count": 24,
     "metadata": {},
     "output_type": "execute_result"
    }
   ],
   "source": [
    "string.punctuation"
   ]
  },
  {
   "cell_type": "code",
   "execution_count": 25,
   "metadata": {},
   "outputs": [
    {
     "data": {
      "text/plain": [
       "['the', 'story', 'was', \"n't\", 'so', 'terrible', ',', 'she', 'thought', '.']"
      ]
     },
     "execution_count": 25,
     "metadata": {},
     "output_type": "execute_result"
    }
   ],
   "source": [
    "t1 = \"The story wasn't so terrible, she thought.\"\n",
    "process_text(t1, lower=True, return_tokens=True)"
   ]
  },
  {
   "cell_type": "code",
   "execution_count": 26,
   "metadata": {},
   "outputs": [
    {
     "data": {
      "text/plain": [
       "['story', \"n't\", 'terrible', ',', 'thought', '.']"
      ]
     },
     "execution_count": 26,
     "metadata": {},
     "output_type": "execute_result"
    }
   ],
   "source": [
    "process_text(t1, lower=True, remove_stopwords=True, return_tokens=True)"
   ]
  },
  {
   "cell_type": "code",
   "execution_count": 27,
   "metadata": {},
   "outputs": [
    {
     "name": "stdout",
     "output_type": "stream",
     "text": [
      "Total word count of the text per author:\n",
      "EAP 127,478\n",
      "HPL 98,577\n",
      "MWS 101,892\n",
      "\n",
      "Vocabulary size of the text per author:\n",
      "ALL 25,236\n",
      "EAP 15,371\n",
      "HPL 14,416\n",
      "MWS 11,457\n"
     ]
    }
   ],
   "source": [
    "# Let's remove stopwords\n",
    "vocab = construct_vocabulary(author_texts, lambda x: process_text(x,\n",
    "                                                                  lower=True,\n",
    "                                                                  remove_stopwords=True,\n",
    "                                                                  return_tokens=True))"
   ]
  },
  {
   "cell_type": "markdown",
   "metadata": {},
   "source": [
    "**Comments:**\n",
    "\n",
    "Note that before text preprocessing, we had the following:\n",
    "```\n",
    "Total word count of the text per author:\n",
    "EAP 200,995\n",
    "HPL 156,651\n",
    "MWS 165,710\n",
    "\n",
    "Vocabulary size of the text per author:\n",
    "ALL 47,556\n",
    "EAP 26,521\n",
    "HPL 22,527\n",
    "MWS 20,251\n",
    "```\n",
    "\n",
    "Therefore, text preprocessing drastically reduced the total vocabulary size and word counts."
   ]
  },
  {
   "cell_type": "code",
   "execution_count": 28,
   "metadata": {},
   "outputs": [
    {
     "name": "stdout",
     "output_type": "stream",
     "text": [
      "ALL \n",
      " [(',', 38220), ('.', 19062), (';', 5159), ('``', 2762), (\"''\", 2207), ('one', 1623), ('upon', 1411), (\"'s\", 1355), ('could', 1330), ('would', 1258)] \n",
      "\n",
      "EAP \n",
      " [(',', 17594), ('.', 7655), ('``', 1628), (\"''\", 1359), (';', 1354), ('upon', 1025), ('one', 655), ('?', 510), ('could', 457), ('would', 416)] \n",
      "\n",
      "HPL \n",
      " [(',', 8581), ('.', 5699), (';', 1143), (\"'s\", 612), (\"'\", 547), ('one', 491), ('could', 490), ('old', 392), ('would', 367), ('``', 297)] \n",
      "\n",
      "MWS \n",
      " [(',', 12045), ('.', 5708), (';', 2662), ('``', 837), (\"''\", 632), ('one', 477), ('would', 475), ('?', 419), ('could', 383), (\"'s\", 352)] \n",
      "\n"
     ]
    }
   ],
   "source": [
    "# View the most common words per author\n",
    "for author in vocab:\n",
    "    print(author, '\\n', vocab[author].most_common(10), '\\n')"
   ]
  },
  {
   "cell_type": "code",
   "execution_count": 29,
   "metadata": {},
   "outputs": [
    {
     "name": "stdout",
     "output_type": "stream",
     "text": [
      "Total word count of the text per author:\n",
      "EAP 96,133\n",
      "HPL 81,149\n",
      "MWS 78,800\n",
      "\n",
      "Vocabulary size of the text per author:\n",
      "ALL 25,275\n",
      "EAP 15,276\n",
      "HPL 14,576\n",
      "MWS 11,458\n"
     ]
    }
   ],
   "source": [
    "# Let's remove punctuation\n",
    "vocab = construct_vocabulary(author_texts, lambda x: process_text(x,\n",
    "                                                                  lower=True,\n",
    "                                                                  remove_punc=True,\n",
    "                                                                  remove_stopwords=True,\n",
    "                                                                  return_tokens=True))"
   ]
  },
  {
   "cell_type": "code",
   "execution_count": 30,
   "metadata": {},
   "outputs": [
    {
     "name": "stdout",
     "output_type": "stream",
     "text": [
      "ALL \n",
      " [('one', 1614), ('upon', 1411), ('could', 1316), ('would', 1241), ('man', 730), ('time', 729), ('yet', 715), ('said', 704), ('even', 701), ('might', 629)] \n",
      "\n",
      "EAP \n",
      " [('upon', 1025), ('one', 652), ('could', 453), ('would', 409), ('said', 356), ('little', 275), ('say', 267), ('well', 267), ('made', 263), ('even', 261)] \n",
      "\n",
      "HPL \n",
      " [('one', 488), ('could', 480), ('old', 392), ('would', 357), ('like', 273), ('seemed', 272), ('man', 260), ('night', 254), ('things', 239), ('time', 238)] \n",
      "\n",
      "MWS \n",
      " [('would', 475), ('one', 474), ('could', 383), ('life', 328), ('yet', 318), ('love', 273), ('us', 272), ('might', 269), ('heart', 262), ('raymond', 248)] \n",
      "\n"
     ]
    }
   ],
   "source": [
    "# View the most common words per author\n",
    "for author in vocab:\n",
    "    print(author, '\\n', vocab[author].most_common(10), '\\n')"
   ]
  },
  {
   "cell_type": "code",
   "execution_count": 31,
   "metadata": {},
   "outputs": [
    {
     "name": "stdout",
     "output_type": "stream",
     "text": [
      "Vocab size before applying count threshold of 3: 25275\n",
      "Vocab size after applying count threshold of 3: 12094\n"
     ]
    }
   ],
   "source": [
    "# Let's try excluding the least predictive words\n",
    "\n",
    "COUNT_THRESHOLD = 3 # Words should appear at least thrice to remain in the vocabulary\n",
    "\n",
    "print(f'Vocab size before applying count threshold of {COUNT_THRESHOLD}:', len(vocab['ALL']))\n",
    "all_vocab = Counter({ word: count for word, count in vocab['ALL'].items() if count >= COUNT_THRESHOLD })\n",
    "        \n",
    "print(f'Vocab size after applying count threshold of {COUNT_THRESHOLD}:', len(all_vocab))"
   ]
  },
  {
   "cell_type": "code",
   "execution_count": 32,
   "metadata": {},
   "outputs": [
    {
     "name": "stdout",
     "output_type": "stream",
     "text": [
      "Vocab size before applying count threshold of 2: 25275\n",
      "Vocab size after applying count threshold of 2: 15798\n"
     ]
    }
   ],
   "source": [
    "COUNT_THRESHOLD = 2 # Words should appear at least twice to remain in the vocabulary\n",
    "\n",
    "print(f'Vocab size before applying count threshold of {COUNT_THRESHOLD}:', len(vocab['ALL']))\n",
    "all_vocab = Counter({ word: count for word, count in vocab['ALL'].items() if count >= COUNT_THRESHOLD })\n",
    "        \n",
    "print(f'Vocab size after applying count threshold of {COUNT_THRESHOLD}:', len(all_vocab))"
   ]
  },
  {
   "cell_type": "markdown",
   "metadata": {},
   "source": [
    "## Exploratory Visualization"
   ]
  },
  {
   "cell_type": "code",
   "execution_count": 33,
   "metadata": {},
   "outputs": [],
   "source": [
    "sns.set()"
   ]
  },
  {
   "cell_type": "markdown",
   "metadata": {},
   "source": [
    "### Visualize the 15 most common unigrams per author"
   ]
  },
  {
   "cell_type": "code",
   "execution_count": 34,
   "metadata": {},
   "outputs": [],
   "source": [
    "def construct_ngram_counts_dataframe(vocab, ngram, top_most_common=10):\n",
    "    rows = []\n",
    "    for author in ['EAP', 'HPL', 'MWS']:\n",
    "        for tup in vocab[author].most_common(top_most_common):\n",
    "            rows.append({\n",
    "                ngram: tup[0],\n",
    "                'count': tup[1],\n",
    "                'author': author,\n",
    "            })\n",
    "    return pd.DataFrame(rows)"
   ]
  },
  {
   "cell_type": "code",
   "execution_count": 35,
   "metadata": {},
   "outputs": [
    {
     "name": "stdout",
     "output_type": "stream",
     "text": [
      "(45, 3)\n"
     ]
    },
    {
     "data": {
      "text/html": [
       "<div>\n",
       "<style scoped>\n",
       "    .dataframe tbody tr th:only-of-type {\n",
       "        vertical-align: middle;\n",
       "    }\n",
       "\n",
       "    .dataframe tbody tr th {\n",
       "        vertical-align: top;\n",
       "    }\n",
       "\n",
       "    .dataframe thead th {\n",
       "        text-align: right;\n",
       "    }\n",
       "</style>\n",
       "<table border=\"1\" class=\"dataframe\">\n",
       "  <thead>\n",
       "    <tr style=\"text-align: right;\">\n",
       "      <th></th>\n",
       "      <th>author</th>\n",
       "      <th>count</th>\n",
       "      <th>unigram</th>\n",
       "    </tr>\n",
       "  </thead>\n",
       "  <tbody>\n",
       "    <tr>\n",
       "      <th>0</th>\n",
       "      <td>EAP</td>\n",
       "      <td>1025</td>\n",
       "      <td>upon</td>\n",
       "    </tr>\n",
       "    <tr>\n",
       "      <th>1</th>\n",
       "      <td>EAP</td>\n",
       "      <td>652</td>\n",
       "      <td>one</td>\n",
       "    </tr>\n",
       "    <tr>\n",
       "      <th>2</th>\n",
       "      <td>EAP</td>\n",
       "      <td>453</td>\n",
       "      <td>could</td>\n",
       "    </tr>\n",
       "    <tr>\n",
       "      <th>3</th>\n",
       "      <td>EAP</td>\n",
       "      <td>409</td>\n",
       "      <td>would</td>\n",
       "    </tr>\n",
       "    <tr>\n",
       "      <th>4</th>\n",
       "      <td>EAP</td>\n",
       "      <td>356</td>\n",
       "      <td>said</td>\n",
       "    </tr>\n",
       "  </tbody>\n",
       "</table>\n",
       "</div>"
      ],
      "text/plain": [
       "  author  count unigram\n",
       "0    EAP   1025    upon\n",
       "1    EAP    652     one\n",
       "2    EAP    453   could\n",
       "3    EAP    409   would\n",
       "4    EAP    356    said"
      ]
     },
     "execution_count": 35,
     "metadata": {},
     "output_type": "execute_result"
    }
   ],
   "source": [
    "unigram_counts = construct_ngram_counts_dataframe(vocab, 'unigram', 15)\n",
    "print(unigram_counts.shape)\n",
    "unigram_counts.head()"
   ]
  },
  {
   "cell_type": "code",
   "execution_count": 36,
   "metadata": {},
   "outputs": [
    {
     "data": {
      "image/png": "[encoded data removed]",
      "text/plain": [
       "<Figure size 720x1296 with 1 Axes>"
      ]
     },
     "metadata": {},
     "output_type": "display_data"
    }
   ],
   "source": [
    "fig, ax = plt.subplots(figsize=(10,18))\n",
    "unigram_counts_plot = sns.barplot(x='count',\n",
    "                                  y='unigram', \n",
    "                                  hue='author',\n",
    "                                  data=unigram_counts,\n",
    "                                  ax=ax,\n",
    "                                  palette='muted').set_title(\n",
    "                                      'Most Common Word-Level Unigrams')"
   ]
  },
  {
   "cell_type": "markdown",
   "metadata": {},
   "source": [
    "### Visualize the 15 most common bigrams per author"
   ]
  },
  {
   "cell_type": "code",
   "execution_count": 37,
   "metadata": {},
   "outputs": [],
   "source": [
    "def process_author_text(author):\n",
    "    return list(train[train['author']==author]['text'].apply(\n",
    "        lambda x: process_text(x,\n",
    "                               lower=True,\n",
    "                               remove_punc=True,\n",
    "                               remove_stopwords=True)).values)\n",
    "\n",
    "author_sentences = {\n",
    "    'EAP': process_author_text('EAP'),\n",
    "    'HPL': process_author_text('HPL'),\n",
    "    'MWS': process_author_text('MWS'),\n",
    "}"
   ]
  },
  {
   "cell_type": "code",
   "execution_count": 38,
   "metadata": {},
   "outputs": [],
   "source": [
    "# Tokenize a string into word-level bigrams; does not count a single word as a bigram\n",
    "def tokenize_bigrams(doc):\n",
    "    tokens = doc.split(' ')\n",
    "    bigrams = []\n",
    "    # Loop from index 1 to the last index in tokens\n",
    "    for i in range(1, len(tokens)):\n",
    "        # Does not enter the loop if there is only one word in the doc\n",
    "        bigram = f'{tokens[i-1]} {tokens[i]}'\n",
    "        bigrams.append(bigram)\n",
    "    return bigrams"
   ]
  },
  {
   "cell_type": "code",
   "execution_count": 39,
   "metadata": {},
   "outputs": [],
   "source": [
    "def construct_bigrams(texts):\n",
    "    vocab = { 'ALL': Counter() }\n",
    "    \n",
    "    # Bigram counts\n",
    "    print('Total bigram count of the text per author:')\n",
    "    for author in texts:\n",
    "        author_texts = texts[author]\n",
    "        author_bigrams = []\n",
    "        \n",
    "        for doc in author_texts:\n",
    "            doc_bigrams = tokenize_bigrams(doc)\n",
    "            author_bigrams.extend(doc_bigrams)\n",
    "        print(author, '{:,}'.format(len(author_bigrams)))\n",
    "        \n",
    "        # Calculate vocabulary bigram frequencies\n",
    "        # (how many times a bigram appears in the text)\n",
    "        vocab[author] = Counter()\n",
    "        for bigram in author_bigrams:\n",
    "            vocab['ALL'][bigram] += 1\n",
    "            vocab[author][bigram] += 1\n",
    "\n",
    "    # Unique bigram counts\n",
    "    print('\\nUnique bigram counts of the text per author:')\n",
    "    for author in vocab:\n",
    "        print(author, '{:,}'.format(len(vocab[author])))\n",
    "        \n",
    "    return vocab"
   ]
  },
  {
   "cell_type": "code",
   "execution_count": 40,
   "metadata": {},
   "outputs": [
    {
     "name": "stdout",
     "output_type": "stream",
     "text": [
      "Total bigram count of the text per author:\n",
      "EAP 88,235\n",
      "HPL 75,514\n",
      "MWS 72,757\n",
      "\n",
      "Unique bigram counts of the text per author:\n",
      "ALL 209,277\n",
      "EAP 78,854\n",
      "HPL 69,515\n",
      "MWS 67,578\n"
     ]
    }
   ],
   "source": [
    "vocab_bigrams = construct_bigrams(author_sentences)"
   ]
  },
  {
   "cell_type": "code",
   "execution_count": 41,
   "metadata": {},
   "outputs": [
    {
     "name": "stdout",
     "output_type": "stream",
     "text": [
      "(45, 3)\n"
     ]
    },
    {
     "data": {
      "text/html": [
       "<div>\n",
       "<style scoped>\n",
       "    .dataframe tbody tr th:only-of-type {\n",
       "        vertical-align: middle;\n",
       "    }\n",
       "\n",
       "    .dataframe tbody tr th {\n",
       "        vertical-align: top;\n",
       "    }\n",
       "\n",
       "    .dataframe thead th {\n",
       "        text-align: right;\n",
       "    }\n",
       "</style>\n",
       "<table border=\"1\" class=\"dataframe\">\n",
       "  <thead>\n",
       "    <tr style=\"text-align: right;\">\n",
       "      <th></th>\n",
       "      <th>author</th>\n",
       "      <th>bigram</th>\n",
       "      <th>count</th>\n",
       "    </tr>\n",
       "  </thead>\n",
       "  <tbody>\n",
       "    <tr>\n",
       "      <th>0</th>\n",
       "      <td>EAP</td>\n",
       "      <td>let us</td>\n",
       "      <td>50</td>\n",
       "    </tr>\n",
       "    <tr>\n",
       "      <th>1</th>\n",
       "      <td>EAP</td>\n",
       "      <td>three four</td>\n",
       "      <td>23</td>\n",
       "    </tr>\n",
       "    <tr>\n",
       "      <th>2</th>\n",
       "      <td>EAP</td>\n",
       "      <td>one two</td>\n",
       "      <td>23</td>\n",
       "    </tr>\n",
       "    <tr>\n",
       "      <th>3</th>\n",
       "      <td>EAP</td>\n",
       "      <td>ha ha</td>\n",
       "      <td>22</td>\n",
       "    </tr>\n",
       "    <tr>\n",
       "      <th>4</th>\n",
       "      <td>EAP</td>\n",
       "      <td>every thing</td>\n",
       "      <td>22</td>\n",
       "    </tr>\n",
       "  </tbody>\n",
       "</table>\n",
       "</div>"
      ],
      "text/plain": [
       "  author       bigram  count\n",
       "0    EAP       let us     50\n",
       "1    EAP   three four     23\n",
       "2    EAP      one two     23\n",
       "3    EAP        ha ha     22\n",
       "4    EAP  every thing     22"
      ]
     },
     "execution_count": 41,
     "metadata": {},
     "output_type": "execute_result"
    }
   ],
   "source": [
    "bigram_counts = construct_ngram_counts_dataframe(vocab_bigrams, 'bigram', 15)\n",
    "print(bigram_counts.shape)\n",
    "bigram_counts.head()"
   ]
  },
  {
   "cell_type": "code",
   "execution_count": 42,
   "metadata": {},
   "outputs": [
    {
     "data": {
      "image/png": "[encoded data removed]",
      "text/plain": [
       "<Figure size 720x1296 with 1 Axes>"
      ]
     },
     "metadata": {},
     "output_type": "display_data"
    }
   ],
   "source": [
    "fig, ax = plt.subplots(figsize=(10,18))\n",
    "bigram_counts_plot = sns.barplot(x='count',\n",
    "                                 y='bigram',\n",
    "                                 hue='author',\n",
    "                                 data=bigram_counts,\n",
    "                                 ax=ax,\n",
    "                                 palette='muted').set_title(\n",
    "                                     'Most Common Word-Level Bigrams')"
   ]
  },
  {
   "cell_type": "code",
   "execution_count": 44,
   "metadata": {},
   "outputs": [],
   "source": [
    "unigram_counts_plot.figure.savefig(f'{IMAGES_DIR}unigram_counts_plot.png')\n",
    "bigram_counts_plot.figure.savefig(f'{IMAGES_DIR}bigram_counts_plot.png')"
   ]
  },
  {
   "cell_type": "code",
   "execution_count": null,
   "metadata": {},
   "outputs": [],
   "source": []
  }
 ],
 "metadata": {
  "kernelspec": {
   "display_name": "authorid-test",
   "language": "python",
   "name": "authorid-test"
  },
  "language_info": {
   "codemirror_mode": {
    "name": "ipython",
    "version": 3
   },
   "file_extension": ".py",
   "mimetype": "text/x-python",
   "name": "python",
   "nbconvert_exporter": "python",
   "pygments_lexer": "ipython3",
   "version": "3.6.5"
  }
 },
 "nbformat": 4,
 "nbformat_minor": 2
}
